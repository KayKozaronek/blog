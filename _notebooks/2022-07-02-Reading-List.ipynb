{
  "cells": [
    {
      "cell_type": "markdown",
      "metadata": {
        "id": "b-aMItBjAR2n"
      },
      "source": [
        "# Reading List\n",
        "> \"Here I am keeping track of my mental diet. I document everything that takes me more than 1 hour to read and interact with.\"\n",
        "\n",
        "- toc: true\n",
        "- badges: true\n",
        "- comments: true\n",
        "- categories: [Reading, Books, Academic Papers, Blogs, Mental Diet]\n",
        "- image: images/book.png"
      ]
    },
    {
      "cell_type": "code",
      "execution_count": 1,
      "metadata": {
        "id": "xLhnG7Hd8sGg"
      },
      "outputs": [],
      "source": [
        "#hide\n",
        "import pandas as pd "
      ]
    },
    {
      "cell_type": "markdown",
      "metadata": {},
      "source": [
        "> Tip: Feel free to suggest readings in the comment section."
      ]
    },
    {
      "cell_type": "code",
      "execution_count": 2,
      "metadata": {
        "colab": {
          "base_uri": "https://localhost:8080/",
          "height": 237
        },
        "id": "gu3NiO3L8x83",
        "outputId": "8e8cf9d4-3128-4420-cec6-6dab786ea3b1"
      },
      "outputs": [
        {
          "data": {
            "text/html": [
              "<style  type=\"text/css\" >\n",
              "#T_81b2b452_fa41_11ec_93b8_5800e3b90b26row0_col3{\n",
              "            background-color:  #00441b;\n",
              "            color:  #f1f1f1;\n",
              "        }#T_81b2b452_fa41_11ec_93b8_5800e3b90b26row1_col3,#T_81b2b452_fa41_11ec_93b8_5800e3b90b26row5_col3{\n",
              "            background-color:  #f7fcf5;\n",
              "            color:  #000000;\n",
              "        }#T_81b2b452_fa41_11ec_93b8_5800e3b90b26row2_col3,#T_81b2b452_fa41_11ec_93b8_5800e3b90b26row4_col3{\n",
              "            background-color:  #b8e3b2;\n",
              "            color:  #000000;\n",
              "        }#T_81b2b452_fa41_11ec_93b8_5800e3b90b26row3_col3,#T_81b2b452_fa41_11ec_93b8_5800e3b90b26row6_col3{\n",
              "            background-color:  #73c476;\n",
              "            color:  #000000;\n",
              "        }</style><table id=\"T_81b2b452_fa41_11ec_93b8_5800e3b90b26\" ><thead>    <tr>        <th class=\"blank level0\" ></th>        <th class=\"col_heading level0 col0\" >Title</th>        <th class=\"col_heading level0 col1\" >Category</th>        <th class=\"col_heading level0 col2\" >Topic</th>        <th class=\"col_heading level0 col3\" >Progress</th>    </tr></thead><tbody>\n",
              "                <tr>\n",
              "                        <th id=\"T_81b2b452_fa41_11ec_93b8_5800e3b90b26level0_row0\" class=\"row_heading level0 row0\" >0</th>\n",
              "                        <td id=\"T_81b2b452_fa41_11ec_93b8_5800e3b90b26row0_col0\" class=\"data row0 col0\" >Natural Language Processing with Transformers</td>\n",
              "                        <td id=\"T_81b2b452_fa41_11ec_93b8_5800e3b90b26row0_col1\" class=\"data row0 col1\" >Book</td>\n",
              "                        <td id=\"T_81b2b452_fa41_11ec_93b8_5800e3b90b26row0_col2\" class=\"data row0 col2\" >NLP</td>\n",
              "                        <td id=\"T_81b2b452_fa41_11ec_93b8_5800e3b90b26row0_col3\" class=\"data row0 col3\" >100</td>\n",
              "            </tr>\n",
              "            <tr>\n",
              "                        <th id=\"T_81b2b452_fa41_11ec_93b8_5800e3b90b26level0_row1\" class=\"row_heading level0 row1\" >1</th>\n",
              "                        <td id=\"T_81b2b452_fa41_11ec_93b8_5800e3b90b26row1_col0\" class=\"data row1 col0\" >Mastering PyTorch</td>\n",
              "                        <td id=\"T_81b2b452_fa41_11ec_93b8_5800e3b90b26row1_col1\" class=\"data row1 col1\" >Book</td>\n",
              "                        <td id=\"T_81b2b452_fa41_11ec_93b8_5800e3b90b26row1_col2\" class=\"data row1 col2\" >Deep Learning</td>\n",
              "                        <td id=\"T_81b2b452_fa41_11ec_93b8_5800e3b90b26row1_col3\" class=\"data row1 col3\" >0</td>\n",
              "            </tr>\n",
              "            <tr>\n",
              "                        <th id=\"T_81b2b452_fa41_11ec_93b8_5800e3b90b26level0_row2\" class=\"row_heading level0 row2\" >2</th>\n",
              "                        <td id=\"T_81b2b452_fa41_11ec_93b8_5800e3b90b26row2_col0\" class=\"data row2 col0\" >Self-critiquing models for assisting human evaluators</td>\n",
              "                        <td id=\"T_81b2b452_fa41_11ec_93b8_5800e3b90b26row2_col1\" class=\"data row2 col1\" >Academic Paper</td>\n",
              "                        <td id=\"T_81b2b452_fa41_11ec_93b8_5800e3b90b26row2_col2\" class=\"data row2 col2\" >NLP</td>\n",
              "                        <td id=\"T_81b2b452_fa41_11ec_93b8_5800e3b90b26row2_col3\" class=\"data row2 col3\" >30</td>\n",
              "            </tr>\n",
              "            <tr>\n",
              "                        <th id=\"T_81b2b452_fa41_11ec_93b8_5800e3b90b26level0_row3\" class=\"row_heading level0 row3\" >3</th>\n",
              "                        <td id=\"T_81b2b452_fa41_11ec_93b8_5800e3b90b26row3_col0\" class=\"data row3 col0\" >Training Language Models with Language Feedback</td>\n",
              "                        <td id=\"T_81b2b452_fa41_11ec_93b8_5800e3b90b26row3_col1\" class=\"data row3 col1\" >Academic Paper</td>\n",
              "                        <td id=\"T_81b2b452_fa41_11ec_93b8_5800e3b90b26row3_col2\" class=\"data row3 col2\" >NLP</td>\n",
              "                        <td id=\"T_81b2b452_fa41_11ec_93b8_5800e3b90b26row3_col3\" class=\"data row3 col3\" >50</td>\n",
              "            </tr>\n",
              "            <tr>\n",
              "                        <th id=\"T_81b2b452_fa41_11ec_93b8_5800e3b90b26level0_row4\" class=\"row_heading level0 row4\" >4</th>\n",
              "                        <td id=\"T_81b2b452_fa41_11ec_93b8_5800e3b90b26row4_col0\" class=\"data row4 col0\" >Learning to summarize from human feedback</td>\n",
              "                        <td id=\"T_81b2b452_fa41_11ec_93b8_5800e3b90b26row4_col1\" class=\"data row4 col1\" >Academic Paper</td>\n",
              "                        <td id=\"T_81b2b452_fa41_11ec_93b8_5800e3b90b26row4_col2\" class=\"data row4 col2\" >NLP</td>\n",
              "                        <td id=\"T_81b2b452_fa41_11ec_93b8_5800e3b90b26row4_col3\" class=\"data row4 col3\" >30</td>\n",
              "            </tr>\n",
              "            <tr>\n",
              "                        <th id=\"T_81b2b452_fa41_11ec_93b8_5800e3b90b26level0_row5\" class=\"row_heading level0 row5\" >5</th>\n",
              "                        <td id=\"T_81b2b452_fa41_11ec_93b8_5800e3b90b26row5_col0\" class=\"data row5 col0\" >AGI Safety From First Principles</td>\n",
              "                        <td id=\"T_81b2b452_fa41_11ec_93b8_5800e3b90b26row5_col1\" class=\"data row5 col1\" >Blog</td>\n",
              "                        <td id=\"T_81b2b452_fa41_11ec_93b8_5800e3b90b26row5_col2\" class=\"data row5 col2\" >AI Safety</td>\n",
              "                        <td id=\"T_81b2b452_fa41_11ec_93b8_5800e3b90b26row5_col3\" class=\"data row5 col3\" >0</td>\n",
              "            </tr>\n",
              "            <tr>\n",
              "                        <th id=\"T_81b2b452_fa41_11ec_93b8_5800e3b90b26level0_row6\" class=\"row_heading level0 row6\" >6</th>\n",
              "                        <td id=\"T_81b2b452_fa41_11ec_93b8_5800e3b90b26row6_col0\" class=\"data row6 col0\" >Propositions Concerning Digital Minds and Society</td>\n",
              "                        <td id=\"T_81b2b452_fa41_11ec_93b8_5800e3b90b26row6_col1\" class=\"data row6 col1\" >Academic Paper</td>\n",
              "                        <td id=\"T_81b2b452_fa41_11ec_93b8_5800e3b90b26row6_col2\" class=\"data row6 col2\" >Consciousness, Digital Minds</td>\n",
              "                        <td id=\"T_81b2b452_fa41_11ec_93b8_5800e3b90b26row6_col3\" class=\"data row6 col3\" >50</td>\n",
              "            </tr>\n",
              "    </tbody></table>"
            ],
            "text/plain": [
              "<pandas.io.formats.style.Styler at 0x141b774a4e0>"
            ]
          },
          "execution_count": 2,
          "metadata": {},
          "output_type": "execute_result"
        }
      ],
      "source": [
        "#hide_input\n",
        "cols_to_include = ['Title', 'Category', 'Topic', 'Progress']\n",
        "df = pd.read_csv('data/readings.csv', usecols=cols_to_include, sep=';')\n",
        "df['Progress'] = df['Progress'].astype(int)\n",
        "df.style.background_gradient(cmap='Greens')"
      ]
    }
  ],
  "metadata": {
    "colab": {
      "name": "Untitled82.ipynb",
      "provenance": []
    },
    "kernelspec": {
      "display_name": "Python 3.6.12 ('MIT_ML')",
      "language": "python",
      "name": "python3"
    },
    "language_info": {
      "codemirror_mode": {
        "name": "ipython",
        "version": 3
      },
      "file_extension": ".py",
      "mimetype": "text/x-python",
      "name": "python",
      "nbconvert_exporter": "python",
      "pygments_lexer": "ipython3",
      "version": "3.6.12"
    },
    "vscode": {
      "interpreter": {
        "hash": "8201462524ad07e1fbf745595052e2a140950ac55a59577392ee8c394db55d17"
      }
    }
  },
  "nbformat": 4,
  "nbformat_minor": 0
}
