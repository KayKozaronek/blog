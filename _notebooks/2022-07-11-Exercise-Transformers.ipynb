{
  "cells": [
    {
      "cell_type": "markdown",
      "metadata": {
        "id": "8Ol9CGzyDn4n"
      },
      "source": [
        "# Exercise - Encoder Decoder Transformer\n",
        "> \"This exercise guides you to a full implementation of a transformer with Pytorch and HuggingFace.\"\n",
        "\n",
        "- toc: false\n",
        "- badges: true\n",
        "- comments: true\n",
        "- categories: [Attention is all you need, Transformer, Pytorch, NLP, Coding Exercise]\n",
        "- image: images/coding.png\n"
      ]
    },
    {
      "cell_type": "markdown",
      "metadata": {
        "id": "15VWdCshMqfI"
      },
      "source": [
        "\"This exercise guides you to a [full implementation of a transformer](https://arxiv.org/pdf/1706.03762.pdf) with Pytorch and HuggingFace\""
      ]
    },
    {
      "cell_type": "code",
      "execution_count": null,
      "metadata": {
        "id": "-g_Ud8XyL6VK"
      },
      "outputs": [],
      "source": [
        "#hide\n",
        "!pip install transformers "
      ]
    },
    {
      "cell_type": "markdown",
      "metadata": {
        "id": "1VSSjhLXDpzd"
      },
      "source": [
        "# Imports"
      ]
    },
    {
      "cell_type": "code",
      "execution_count": 18,
      "metadata": {
        "id": "lBUjAj9zDrA6"
      },
      "outputs": [],
      "source": [
        "from transformers import AutoTokenizer\n",
        "from transformers import AutoModel\n",
        "from transformers import AutoConfig\n",
        "\n",
        "from torch import nn\n",
        "import torch.nn.functional as F\n",
        "import torch\n",
        "\n",
        "from math import sqrt"
      ]
    },
    {
      "cell_type": "markdown",
      "metadata": {
        "id": "xrhVHKNTAECx"
      },
      "source": [
        "# Tokenizer \n",
        "\n",
        "Exercise:\n",
        "- Load the tokenizer for `bert-base-uncased`\n",
        "- Print the `input ids` of the text:  \"time flies like an arrow\"\n",
        "\n"
      ]
    },
    {
      "cell_type": "markdown",
      "metadata": {
        "id": "bEzrL9F1H6dr"
      },
      "source": [
        "## Your Code "
      ]
    },
    {
      "cell_type": "code",
      "execution_count": null,
      "metadata": {
        "id": "YjhAyw4iH83U"
      },
      "outputs": [],
      "source": []
    },
    {
      "cell_type": "markdown",
      "metadata": {
        "id": "nJaXGSFyH5P2"
      },
      "source": [
        "## Solution"
      ]
    },
    {
      "cell_type": "code",
      "execution_count": 22,
      "metadata": {
        "colab": {
          "base_uri": "https://localhost:8080/"
        },
        "id": "Dtf-h715AIcS",
        "outputId": "f6c63036-63f2-4c20-cfe1-4c95ede00e7e"
      },
      "outputs": [
        {
          "data": {
            "text/plain": [
              "tensor([[ 2051, 10029,  2066,  2019,  8612]])"
            ]
          },
          "execution_count": 22,
          "metadata": {},
          "output_type": "execute_result"
        }
      ],
      "source": [
        "#collapse-hide\n",
        "#collapse-output\n",
        "model_ckpt = \"bert-base-uncased\"\n",
        "tokenizer = AutoTokenizer.from_pretrained(model_ckpt)\n",
        "text = \"time flies like an arrow\"\n",
        "\n",
        "inputs = tokenizer(text, return_tensors=\"pt\", add_special_tokens=False)\n",
        "inputs.input_ids"
      ]
    },
    {
      "cell_type": "markdown",
      "metadata": {
        "id": "RncpsJ-eAZZ0"
      },
      "source": [
        "# Model\n",
        "\n",
        "Exercise:\n",
        "- Load the pretrained model \n",
        "- Take a look at the architecture"
      ]
    },
    {
      "cell_type": "markdown",
      "metadata": {
        "id": "MFqZ6nLFIBfY"
      },
      "source": [
        "## Your Code "
      ]
    },
    {
      "cell_type": "code",
      "execution_count": null,
      "metadata": {
        "id": "d01wfeIZIBfa"
      },
      "outputs": [],
      "source": []
    },
    {
      "cell_type": "markdown",
      "metadata": {
        "id": "qTrmWKqbIBfb"
      },
      "source": [
        "## Solution"
      ]
    },
    {
      "cell_type": "code",
      "execution_count": 7,
      "metadata": {
        "colab": {
          "base_uri": "https://localhost:8080/"
        },
        "id": "9YQ6tnBxAaY4",
        "outputId": "60bd173f-247b-415f-bc03-8e779d09e3bf"
      },
      "outputs": [
        {
          "name": "stderr",
          "output_type": "stream",
          "text": [
            "Some weights of the model checkpoint at bert-base-uncased were not used when initializing BertModel: ['cls.seq_relationship.weight', 'cls.predictions.bias', 'cls.predictions.transform.dense.weight', 'cls.predictions.transform.dense.bias', 'cls.seq_relationship.bias', 'cls.predictions.transform.LayerNorm.weight', 'cls.predictions.transform.LayerNorm.bias', 'cls.predictions.decoder.weight']\n",
            "- This IS expected if you are initializing BertModel from the checkpoint of a model trained on another task or with another architecture (e.g. initializing a BertForSequenceClassification model from a BertForPreTraining model).\n",
            "- This IS NOT expected if you are initializing BertModel from the checkpoint of a model that you expect to be exactly identical (initializing a BertForSequenceClassification model from a BertForSequenceClassification model).\n"
          ]
        },
        {
          "data": {
            "text/plain": [
              "BertModel(\n",
              "  (embeddings): BertEmbeddings(\n",
              "    (word_embeddings): Embedding(30522, 768, padding_idx=0)\n",
              "    (position_embeddings): Embedding(512, 768)\n",
              "    (token_type_embeddings): Embedding(2, 768)\n",
              "    (LayerNorm): LayerNorm((768,), eps=1e-12, elementwise_affine=True)\n",
              "    (dropout): Dropout(p=0.1, inplace=False)\n",
              "  )\n",
              "  (encoder): BertEncoder(\n",
              "    (layer): ModuleList(\n",
              "      (0): BertLayer(\n",
              "        (attention): BertAttention(\n",
              "          (self): BertSelfAttention(\n",
              "            (query): Linear(in_features=768, out_features=768, bias=True)\n",
              "            (key): Linear(in_features=768, out_features=768, bias=True)\n",
              "            (value): Linear(in_features=768, out_features=768, bias=True)\n",
              "            (dropout): Dropout(p=0.1, inplace=False)\n",
              "          )\n",
              "          (output): BertSelfOutput(\n",
              "            (dense): Linear(in_features=768, out_features=768, bias=True)\n",
              "            (LayerNorm): LayerNorm((768,), eps=1e-12, elementwise_affine=True)\n",
              "            (dropout): Dropout(p=0.1, inplace=False)\n",
              "          )\n",
              "        )\n",
              "        (intermediate): BertIntermediate(\n",
              "          (dense): Linear(in_features=768, out_features=3072, bias=True)\n",
              "          (intermediate_act_fn): GELUActivation()\n",
              "        )\n",
              "        (output): BertOutput(\n",
              "          (dense): Linear(in_features=3072, out_features=768, bias=True)\n",
              "          (LayerNorm): LayerNorm((768,), eps=1e-12, elementwise_affine=True)\n",
              "          (dropout): Dropout(p=0.1, inplace=False)\n",
              "        )\n",
              "      )\n",
              "      (1): BertLayer(\n",
              "        (attention): BertAttention(\n",
              "          (self): BertSelfAttention(\n",
              "            (query): Linear(in_features=768, out_features=768, bias=True)\n",
              "            (key): Linear(in_features=768, out_features=768, bias=True)\n",
              "            (value): Linear(in_features=768, out_features=768, bias=True)\n",
              "            (dropout): Dropout(p=0.1, inplace=False)\n",
              "          )\n",
              "          (output): BertSelfOutput(\n",
              "            (dense): Linear(in_features=768, out_features=768, bias=True)\n",
              "            (LayerNorm): LayerNorm((768,), eps=1e-12, elementwise_affine=True)\n",
              "            (dropout): Dropout(p=0.1, inplace=False)\n",
              "          )\n",
              "        )\n",
              "        (intermediate): BertIntermediate(\n",
              "          (dense): Linear(in_features=768, out_features=3072, bias=True)\n",
              "          (intermediate_act_fn): GELUActivation()\n",
              "        )\n",
              "        (output): BertOutput(\n",
              "          (dense): Linear(in_features=3072, out_features=768, bias=True)\n",
              "          (LayerNorm): LayerNorm((768,), eps=1e-12, elementwise_affine=True)\n",
              "          (dropout): Dropout(p=0.1, inplace=False)\n",
              "        )\n",
              "      )\n",
              "      (2): BertLayer(\n",
              "        (attention): BertAttention(\n",
              "          (self): BertSelfAttention(\n",
              "            (query): Linear(in_features=768, out_features=768, bias=True)\n",
              "            (key): Linear(in_features=768, out_features=768, bias=True)\n",
              "            (value): Linear(in_features=768, out_features=768, bias=True)\n",
              "            (dropout): Dropout(p=0.1, inplace=False)\n",
              "          )\n",
              "          (output): BertSelfOutput(\n",
              "            (dense): Linear(in_features=768, out_features=768, bias=True)\n",
              "            (LayerNorm): LayerNorm((768,), eps=1e-12, elementwise_affine=True)\n",
              "            (dropout): Dropout(p=0.1, inplace=False)\n",
              "          )\n",
              "        )\n",
              "        (intermediate): BertIntermediate(\n",
              "          (dense): Linear(in_features=768, out_features=3072, bias=True)\n",
              "          (intermediate_act_fn): GELUActivation()\n",
              "        )\n",
              "        (output): BertOutput(\n",
              "          (dense): Linear(in_features=3072, out_features=768, bias=True)\n",
              "          (LayerNorm): LayerNorm((768,), eps=1e-12, elementwise_affine=True)\n",
              "          (dropout): Dropout(p=0.1, inplace=False)\n",
              "        )\n",
              "      )\n",
              "      (3): BertLayer(\n",
              "        (attention): BertAttention(\n",
              "          (self): BertSelfAttention(\n",
              "            (query): Linear(in_features=768, out_features=768, bias=True)\n",
              "            (key): Linear(in_features=768, out_features=768, bias=True)\n",
              "            (value): Linear(in_features=768, out_features=768, bias=True)\n",
              "            (dropout): Dropout(p=0.1, inplace=False)\n",
              "          )\n",
              "          (output): BertSelfOutput(\n",
              "            (dense): Linear(in_features=768, out_features=768, bias=True)\n",
              "            (LayerNorm): LayerNorm((768,), eps=1e-12, elementwise_affine=True)\n",
              "            (dropout): Dropout(p=0.1, inplace=False)\n",
              "          )\n",
              "        )\n",
              "        (intermediate): BertIntermediate(\n",
              "          (dense): Linear(in_features=768, out_features=3072, bias=True)\n",
              "          (intermediate_act_fn): GELUActivation()\n",
              "        )\n",
              "        (output): BertOutput(\n",
              "          (dense): Linear(in_features=3072, out_features=768, bias=True)\n",
              "          (LayerNorm): LayerNorm((768,), eps=1e-12, elementwise_affine=True)\n",
              "          (dropout): Dropout(p=0.1, inplace=False)\n",
              "        )\n",
              "      )\n",
              "      (4): BertLayer(\n",
              "        (attention): BertAttention(\n",
              "          (self): BertSelfAttention(\n",
              "            (query): Linear(in_features=768, out_features=768, bias=True)\n",
              "            (key): Linear(in_features=768, out_features=768, bias=True)\n",
              "            (value): Linear(in_features=768, out_features=768, bias=True)\n",
              "            (dropout): Dropout(p=0.1, inplace=False)\n",
              "          )\n",
              "          (output): BertSelfOutput(\n",
              "            (dense): Linear(in_features=768, out_features=768, bias=True)\n",
              "            (LayerNorm): LayerNorm((768,), eps=1e-12, elementwise_affine=True)\n",
              "            (dropout): Dropout(p=0.1, inplace=False)\n",
              "          )\n",
              "        )\n",
              "        (intermediate): BertIntermediate(\n",
              "          (dense): Linear(in_features=768, out_features=3072, bias=True)\n",
              "          (intermediate_act_fn): GELUActivation()\n",
              "        )\n",
              "        (output): BertOutput(\n",
              "          (dense): Linear(in_features=3072, out_features=768, bias=True)\n",
              "          (LayerNorm): LayerNorm((768,), eps=1e-12, elementwise_affine=True)\n",
              "          (dropout): Dropout(p=0.1, inplace=False)\n",
              "        )\n",
              "      )\n",
              "      (5): BertLayer(\n",
              "        (attention): BertAttention(\n",
              "          (self): BertSelfAttention(\n",
              "            (query): Linear(in_features=768, out_features=768, bias=True)\n",
              "            (key): Linear(in_features=768, out_features=768, bias=True)\n",
              "            (value): Linear(in_features=768, out_features=768, bias=True)\n",
              "            (dropout): Dropout(p=0.1, inplace=False)\n",
              "          )\n",
              "          (output): BertSelfOutput(\n",
              "            (dense): Linear(in_features=768, out_features=768, bias=True)\n",
              "            (LayerNorm): LayerNorm((768,), eps=1e-12, elementwise_affine=True)\n",
              "            (dropout): Dropout(p=0.1, inplace=False)\n",
              "          )\n",
              "        )\n",
              "        (intermediate): BertIntermediate(\n",
              "          (dense): Linear(in_features=768, out_features=3072, bias=True)\n",
              "          (intermediate_act_fn): GELUActivation()\n",
              "        )\n",
              "        (output): BertOutput(\n",
              "          (dense): Linear(in_features=3072, out_features=768, bias=True)\n",
              "          (LayerNorm): LayerNorm((768,), eps=1e-12, elementwise_affine=True)\n",
              "          (dropout): Dropout(p=0.1, inplace=False)\n",
              "        )\n",
              "      )\n",
              "      (6): BertLayer(\n",
              "        (attention): BertAttention(\n",
              "          (self): BertSelfAttention(\n",
              "            (query): Linear(in_features=768, out_features=768, bias=True)\n",
              "            (key): Linear(in_features=768, out_features=768, bias=True)\n",
              "            (value): Linear(in_features=768, out_features=768, bias=True)\n",
              "            (dropout): Dropout(p=0.1, inplace=False)\n",
              "          )\n",
              "          (output): BertSelfOutput(\n",
              "            (dense): Linear(in_features=768, out_features=768, bias=True)\n",
              "            (LayerNorm): LayerNorm((768,), eps=1e-12, elementwise_affine=True)\n",
              "            (dropout): Dropout(p=0.1, inplace=False)\n",
              "          )\n",
              "        )\n",
              "        (intermediate): BertIntermediate(\n",
              "          (dense): Linear(in_features=768, out_features=3072, bias=True)\n",
              "          (intermediate_act_fn): GELUActivation()\n",
              "        )\n",
              "        (output): BertOutput(\n",
              "          (dense): Linear(in_features=3072, out_features=768, bias=True)\n",
              "          (LayerNorm): LayerNorm((768,), eps=1e-12, elementwise_affine=True)\n",
              "          (dropout): Dropout(p=0.1, inplace=False)\n",
              "        )\n",
              "      )\n",
              "      (7): BertLayer(\n",
              "        (attention): BertAttention(\n",
              "          (self): BertSelfAttention(\n",
              "            (query): Linear(in_features=768, out_features=768, bias=True)\n",
              "            (key): Linear(in_features=768, out_features=768, bias=True)\n",
              "            (value): Linear(in_features=768, out_features=768, bias=True)\n",
              "            (dropout): Dropout(p=0.1, inplace=False)\n",
              "          )\n",
              "          (output): BertSelfOutput(\n",
              "            (dense): Linear(in_features=768, out_features=768, bias=True)\n",
              "            (LayerNorm): LayerNorm((768,), eps=1e-12, elementwise_affine=True)\n",
              "            (dropout): Dropout(p=0.1, inplace=False)\n",
              "          )\n",
              "        )\n",
              "        (intermediate): BertIntermediate(\n",
              "          (dense): Linear(in_features=768, out_features=3072, bias=True)\n",
              "          (intermediate_act_fn): GELUActivation()\n",
              "        )\n",
              "        (output): BertOutput(\n",
              "          (dense): Linear(in_features=3072, out_features=768, bias=True)\n",
              "          (LayerNorm): LayerNorm((768,), eps=1e-12, elementwise_affine=True)\n",
              "          (dropout): Dropout(p=0.1, inplace=False)\n",
              "        )\n",
              "      )\n",
              "      (8): BertLayer(\n",
              "        (attention): BertAttention(\n",
              "          (self): BertSelfAttention(\n",
              "            (query): Linear(in_features=768, out_features=768, bias=True)\n",
              "            (key): Linear(in_features=768, out_features=768, bias=True)\n",
              "            (value): Linear(in_features=768, out_features=768, bias=True)\n",
              "            (dropout): Dropout(p=0.1, inplace=False)\n",
              "          )\n",
              "          (output): BertSelfOutput(\n",
              "            (dense): Linear(in_features=768, out_features=768, bias=True)\n",
              "            (LayerNorm): LayerNorm((768,), eps=1e-12, elementwise_affine=True)\n",
              "            (dropout): Dropout(p=0.1, inplace=False)\n",
              "          )\n",
              "        )\n",
              "        (intermediate): BertIntermediate(\n",
              "          (dense): Linear(in_features=768, out_features=3072, bias=True)\n",
              "          (intermediate_act_fn): GELUActivation()\n",
              "        )\n",
              "        (output): BertOutput(\n",
              "          (dense): Linear(in_features=3072, out_features=768, bias=True)\n",
              "          (LayerNorm): LayerNorm((768,), eps=1e-12, elementwise_affine=True)\n",
              "          (dropout): Dropout(p=0.1, inplace=False)\n",
              "        )\n",
              "      )\n",
              "      (9): BertLayer(\n",
              "        (attention): BertAttention(\n",
              "          (self): BertSelfAttention(\n",
              "            (query): Linear(in_features=768, out_features=768, bias=True)\n",
              "            (key): Linear(in_features=768, out_features=768, bias=True)\n",
              "            (value): Linear(in_features=768, out_features=768, bias=True)\n",
              "            (dropout): Dropout(p=0.1, inplace=False)\n",
              "          )\n",
              "          (output): BertSelfOutput(\n",
              "            (dense): Linear(in_features=768, out_features=768, bias=True)\n",
              "            (LayerNorm): LayerNorm((768,), eps=1e-12, elementwise_affine=True)\n",
              "            (dropout): Dropout(p=0.1, inplace=False)\n",
              "          )\n",
              "        )\n",
              "        (intermediate): BertIntermediate(\n",
              "          (dense): Linear(in_features=768, out_features=3072, bias=True)\n",
              "          (intermediate_act_fn): GELUActivation()\n",
              "        )\n",
              "        (output): BertOutput(\n",
              "          (dense): Linear(in_features=3072, out_features=768, bias=True)\n",
              "          (LayerNorm): LayerNorm((768,), eps=1e-12, elementwise_affine=True)\n",
              "          (dropout): Dropout(p=0.1, inplace=False)\n",
              "        )\n",
              "      )\n",
              "      (10): BertLayer(\n",
              "        (attention): BertAttention(\n",
              "          (self): BertSelfAttention(\n",
              "            (query): Linear(in_features=768, out_features=768, bias=True)\n",
              "            (key): Linear(in_features=768, out_features=768, bias=True)\n",
              "            (value): Linear(in_features=768, out_features=768, bias=True)\n",
              "            (dropout): Dropout(p=0.1, inplace=False)\n",
              "          )\n",
              "          (output): BertSelfOutput(\n",
              "            (dense): Linear(in_features=768, out_features=768, bias=True)\n",
              "            (LayerNorm): LayerNorm((768,), eps=1e-12, elementwise_affine=True)\n",
              "            (dropout): Dropout(p=0.1, inplace=False)\n",
              "          )\n",
              "        )\n",
              "        (intermediate): BertIntermediate(\n",
              "          (dense): Linear(in_features=768, out_features=3072, bias=True)\n",
              "          (intermediate_act_fn): GELUActivation()\n",
              "        )\n",
              "        (output): BertOutput(\n",
              "          (dense): Linear(in_features=3072, out_features=768, bias=True)\n",
              "          (LayerNorm): LayerNorm((768,), eps=1e-12, elementwise_affine=True)\n",
              "          (dropout): Dropout(p=0.1, inplace=False)\n",
              "        )\n",
              "      )\n",
              "      (11): BertLayer(\n",
              "        (attention): BertAttention(\n",
              "          (self): BertSelfAttention(\n",
              "            (query): Linear(in_features=768, out_features=768, bias=True)\n",
              "            (key): Linear(in_features=768, out_features=768, bias=True)\n",
              "            (value): Linear(in_features=768, out_features=768, bias=True)\n",
              "            (dropout): Dropout(p=0.1, inplace=False)\n",
              "          )\n",
              "          (output): BertSelfOutput(\n",
              "            (dense): Linear(in_features=768, out_features=768, bias=True)\n",
              "            (LayerNorm): LayerNorm((768,), eps=1e-12, elementwise_affine=True)\n",
              "            (dropout): Dropout(p=0.1, inplace=False)\n",
              "          )\n",
              "        )\n",
              "        (intermediate): BertIntermediate(\n",
              "          (dense): Linear(in_features=768, out_features=3072, bias=True)\n",
              "          (intermediate_act_fn): GELUActivation()\n",
              "        )\n",
              "        (output): BertOutput(\n",
              "          (dense): Linear(in_features=3072, out_features=768, bias=True)\n",
              "          (LayerNorm): LayerNorm((768,), eps=1e-12, elementwise_affine=True)\n",
              "          (dropout): Dropout(p=0.1, inplace=False)\n",
              "        )\n",
              "      )\n",
              "    )\n",
              "  )\n",
              "  (pooler): BertPooler(\n",
              "    (dense): Linear(in_features=768, out_features=768, bias=True)\n",
              "    (activation): Tanh()\n",
              "  )\n",
              ")"
            ]
          },
          "execution_count": 7,
          "metadata": {},
          "output_type": "execute_result"
        }
      ],
      "source": [
        "#collapse-hide\n",
        "#collapse-output\n",
        "model = AutoModel.from_pretrained(model_ckpt)\n",
        "model"
      ]
    },
    {
      "cell_type": "markdown",
      "metadata": {
        "id": "hLz-n5K3AbIm"
      },
      "source": [
        "# Config\n",
        "\n",
        "Exercise:\n",
        "- Load the configuration file \n",
        "- Take a look at the `config object` \n",
        "- Find the `hidden size` of the model"
      ]
    },
    {
      "cell_type": "markdown",
      "metadata": {
        "id": "g0bBHRNjIE78"
      },
      "source": [
        "## Your Code "
      ]
    },
    {
      "cell_type": "code",
      "execution_count": null,
      "metadata": {
        "id": "srGMwm3UIE7-"
      },
      "outputs": [],
      "source": []
    },
    {
      "cell_type": "markdown",
      "metadata": {
        "id": "MxXQu61YIE7_"
      },
      "source": [
        "## Solution"
      ]
    },
    {
      "cell_type": "code",
      "execution_count": 9,
      "metadata": {
        "colab": {
          "base_uri": "https://localhost:8080/"
        },
        "id": "wIzZW1E7AcAl",
        "outputId": "c2881e14-f89c-4e77-fc35-86ac9274af6a"
      },
      "outputs": [
        {
          "data": {
            "text/plain": [
              "BertConfig {\n",
              "  \"_name_or_path\": \"bert-base-uncased\",\n",
              "  \"architectures\": [\n",
              "    \"BertForMaskedLM\"\n",
              "  ],\n",
              "  \"attention_probs_dropout_prob\": 0.1,\n",
              "  \"classifier_dropout\": null,\n",
              "  \"gradient_checkpointing\": false,\n",
              "  \"hidden_act\": \"gelu\",\n",
              "  \"hidden_dropout_prob\": 0.1,\n",
              "  \"hidden_size\": 768,\n",
              "  \"initializer_range\": 0.02,\n",
              "  \"intermediate_size\": 3072,\n",
              "  \"layer_norm_eps\": 1e-12,\n",
              "  \"max_position_embeddings\": 512,\n",
              "  \"model_type\": \"bert\",\n",
              "  \"num_attention_heads\": 12,\n",
              "  \"num_hidden_layers\": 12,\n",
              "  \"pad_token_id\": 0,\n",
              "  \"position_embedding_type\": \"absolute\",\n",
              "  \"transformers_version\": \"4.20.1\",\n",
              "  \"type_vocab_size\": 2,\n",
              "  \"use_cache\": true,\n",
              "  \"vocab_size\": 30522\n",
              "}"
            ]
          },
          "execution_count": 9,
          "metadata": {},
          "output_type": "execute_result"
        }
      ],
      "source": [
        "#collapse-hide\n",
        "config = AutoConfig.from_pretrained(model_ckpt)\n",
        "config"
      ]
    },
    {
      "cell_type": "markdown",
      "metadata": {
        "id": "Ul5ma-R1A7nU"
      },
      "source": [
        "# Self Attention\n",
        "\n",
        "Exercise:\n",
        "- Write the `scaled_dot_product_attention`function "
      ]
    },
    {
      "cell_type": "markdown",
      "metadata": {
        "id": "6QHL0tVcFGDE"
      },
      "source": [
        "\n",
        "![image.png](data:image/png;base64,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)"
      ]
    },
    {
      "cell_type": "markdown",
      "metadata": {
        "id": "WRP61QQ5IGah"
      },
      "source": [
        "## Your Code "
      ]
    },
    {
      "cell_type": "code",
      "execution_count": null,
      "metadata": {
        "id": "WMgxZmuSIGai"
      },
      "outputs": [],
      "source": [
        "def scaled_dot_product_attention():\n",
        "  \"\"\"Example function with types documented in the docstring.\n",
        "\n",
        "  Args:\n",
        "      query (torch.tensor): Query tensor.\n",
        "      key (torch.tensor): Key tensor.\n",
        "      value (torch.tensor): Value tensor.\n",
        "\n",
        "  Returns:\n",
        "      attention (torch.tensor): Scaled dot product attention.\n",
        "  \"\"\"\n",
        "  pass"
      ]
    },
    {
      "cell_type": "markdown",
      "metadata": {
        "id": "YxFlSXFnIGaj"
      },
      "source": [
        "## Solution"
      ]
    },
    {
      "cell_type": "code",
      "execution_count": null,
      "metadata": {
        "id": "CYdBNFxvA9vQ"
      },
      "outputs": [],
      "source": [
        "#collapse-hide\n",
        "def scaled_dot_product_attention(query, key, value):\n",
        "  \"\"\"Example function with types documented in the docstring.\n",
        "\n",
        "  Args:\n",
        "      query (torch.tensor): Query tensor.\n",
        "      key (torch.tensor): Key tensor.\n",
        "      value (torch.tensor): Value tensor.\n",
        "\n",
        "  Returns:\n",
        "      attention (torch.tensor): Scaled dot product attention.\n",
        "\n",
        "  \"\"\"\n",
        "  dim_k = query.size(-1)\n",
        "  scores = torch.bmm(query, key.transpose(1, 2)) / sqrt(dim_k)\n",
        "  weights = F.softmax(scores, dim=-1)\n",
        "  return torch.bmm(weights, value)"
      ]
    },
    {
      "cell_type": "markdown",
      "metadata": {
        "id": "sf2-0MWVBPQ6"
      },
      "source": [
        "# Attention Head\n",
        "\n",
        "![image.png](data:image/png;base64,iVBORw0KGgoAAAANSUhEUgAAARUAAAC2CAIAAAB4c45BAAAgAElEQVR4nO2deVxTx/bAD5aEhC0BQgg7YhAEUREEFCiLIqgUXNAC1UpV7Gtri12eS+vTR5enUG3F9aeoxaUVhaoItaBWRbSCIAgIJLKHLYQtkUDChcrvj9E0BUQMCQmY78ePn8m9c+fMDXMyM2fOnFHp6+sDJUqUSMQEeVdAiZIxjFJ/lCiRHKX+KFEiOUr9UaJEcpT6o0SJ5AylPxiGDbOUIXIOvxApIhehchetZPR5of4kJSVt2vTvrVu3enl5DfE8hmFhYWH/d/TooHf3HTgQHh4u/lFFRSUmJmbjxsitW7fy+fyX1g/DsI0bI6fYTo6JiVm8eHF2dvZL83t5eV29evWlJQ+EyWTuO3BAggdFJCUl7d27dyQlKBlj9L0A0a3IyE+6u7tflK2vry8xMTF2//5Bb9XU1AQFBYk+dnR0iIrNysoCgI6Ojn6PpKSkZGVliV+5ffu2i4sTKm2ICouI3b8/JSVl6DxbtmwZ+FJbtmwRLz86OhpVLyIi4qVCh5NHyfjjjf/+97+D6tXDhw/37t0zf77/22+HvPHGG3w+f9euXRcvXmDV1TnOdNy4MbKwsOhBfr6Ls3NO/oNuYbeLs/O+AwfO/vLz4/IKF2fnzMzMc+fOXb2ajmE9y5YtQ2W2dz7ZHf39l19++cYbb5iYmDQ0NFRUVLi5uX399dcFRUXHjx3z9vb29vZWUQEHl1maRHX0FIvFunYtfd269Tweb+/evXPnzo2MjLx8+TJf2NXBe3Lu3LmDBw9SqVRzc/OYmJji0pLDB+OWLVt8687tc2cTXF1d58+f7+PjQyKRvv7664yMjLS0tMmTJwcHB5uamznOdBS9L5/Pr2uo19LUVFNTmzx5MovFWrRoEc3IqJbF2rJli5OTk4WFxcHDhw8fOqSqqkogEPz85rW1cRcvXhwUFFRaWvrxxx9PnTr1+o0b6Wlpnp6e6PXj4uL09PRUVFSCgoI4HM7ixYs9PT1NTExk+HOoZJQZQrfQ73FiYmJfX19QUFB3d3d3d/eRuKMdHR3xZ071Pe+j4s+cOhJ3NP7Mqejo6MTERABgtzVPnerQ19fHYDDE+x92WzMAiH74Y/fvj4z8RNRdREdHoysD+x8AiIqKCgoKYjAYok6M3dZsYmLS19fX3d2N6om6wejo6JSUFJHo0NDQmpqa6OhoBoOB7vaJ9a4iYvfvr6mpycrKotPp6AqFQunu7u7o6EBSIiM/ORJ3NHb/fvQs+j8lJSUqKkr08fbt21u2bEHPiirW19dHp9NR4cpuapwx+Pynqb0Fw7CdO3dmZWUtX76cxWIlJyfj8Xg8Hr9+XYSmpmZTfWO/qUh+Tm5QUFBwcHBfXx+X0zppkhkAEInEIVQ3688/583zfVRYSCKRAMDT07OyvAzdYrFYXl5eXl5eTCYTAFxcnLZv337p0iVra2sAQD/hXE4ryozH4+l0+oULFywtLACAoP6s41JXV0d3AeDPP/9Eldm0adOglblx/fqly5ezc3LKy8vvP3wAAC0tLeLGgPSrv4eFhH6yYUOfmMcTqnk/WCyWqGIUCoXP5xMIWrq6umQyeRxYF/rNWocziR0msvhy+Hy+TL/zwfWnu6Nrw4YNAODi4gIAurq6QUFB+w4c4PP5MTExqamp5eXl6BYAaKgRAcBhllNUVBSGYSd/Ps3lcpOTk/l8fmNjI5fLFRWrgSPA8wadlJSUmZkZEBDg5Dzr9OnTAFBQVDhvni8AYBhGo9Fu3bp169YtpDCtrVzx6tXV1QHAxIkT6+rq0N9PT4+8dOnSY8eOAUBjfX0rrx0AKivLAIDBKBYIBHPmzNm+fTuGYSILgfg3m5SUtHXr1k82bPhkw4YjcUc3bfwcXe/sEba1tSFxfvMXfPfdd6gE8T+JQCAQr5tA0GVmZtbS0oIqRiaTNTU1udzmV/uzjC7Z2dnIriO6giw9mZmZ/XLuO3DAwcEBpdGXMG+et+j3QlTUxo2RAJCZmamiorJ169aXVoDP5+vr6+fn5/e7HhYW1tTeMjD/cFQC5fnuu+8kMyYNk8HnPyQSKSUlpbS0NDHx/LZt26ZOnRoQEHD82LErV67s2LHDwsLi119/5Qu7zE1Ne3v/YtXV9fb+9U5IaGFh4eHDhxctWDhnzhwnJ6dt27Y9ffrU1NTU0dER6czZxHM2k63z8vL++OMPfX191NwdZzpW1dRk37+voaW5Ini5hobm8ePHZ82ahX7aMQxLvXLFzNRUS0sLdTvZ2dna2loTJ1oaGBiEhobGxEQ/Lq/4z7bts2fPfvz48cWLF7S1tcm6OnO9fR49Ks7IuD3H3aPv6dP33nsvOzv78OHD/3r/fQqFokuhXPntN29vbzS1O3funJ6e3uTJkwHgUWkJPH06caKlk6tz4i8JS5Ys7eh4wqqr+/cX//7111/j4+P/9f773d3dfX1PdXR0y6oqOjv4np6e3d3deXl5/K7Ov3r/mj179sqVK1HFdv7vf2+88Qab3aijo1tZWdnR0eHq6oq+DcXBxMTk8ePHP/74I5qaAsDKd95RV1cfaEs0pNF+++3yunXrT/58uhfrMTExWbduvXgnbGJicvz48W+++cbExMTc3PzgwYNxcXGD9tLi4PH49vZ2Gxsb8ckhn88PCwvT16W4ubmhK4sXLw4JCeHz+Vu3bvH3XzBEgUwmMznlsuNMx3nz5qE/q6yQ9wBSiUIQFRUVGhp6JO5oX19fYmIimsei69HR0cjy2dHRUVNTg2yhFAolKiqKwWC4uDihiaUIExOT27dvozSFQkF3Y/fvj92/PzQ0tK+vD00jg4KCkHkzMvKTxMRECoXSb96LpqzwT4NtSkpKdHS0i4tTVlYWg8FA5WRlZd2+fZtOp0dFRQFATU1NaGjo6tWrGQxGREQEmqtHR0fHnzmFptDZ+bkUCiU6OhoA+lX+VVGVoWoqGTsIBIIdO3bY2NisXxdx9erVbdu2oeszZ868e/eumZkZnU4Xz79o0aK3337b2tra0tIKADAMwzAMzZA1tYi//pqUX1AAAC0tLUQiMTMz81FhYWBg4DdRUUwmU5esExgYWFlelp+fX8pkzJvnGxAQcOdO/7FieXm5tbX1vHn+SUlJwcHBaL4QEBCgr6+Ppg+urrO++GLzzJkzt23777Vrv5eXl2/fvp2sq1tYWOi3aAEAWFtbOznPAgAmk/nw4cNfNm3y9vA0Nzfv6+traWnZtGmTpaVl+rVraI4gGUr9UfIMa2trOp0eFhYWGRkpPqlDdhdVnIp4ZgzDeIK/LQd79+4tKSmxtbXdtGkTv0MQGhqGmvs3UVEAUMpkzJ8/PyAgoLm5GQDKysriT500MjIGgJJHj6bbTwMA4vPlCkRqaiqdTj96LM7X13v58uV9g+1Sy87ODQ4ORmk+n0+hUACAQFATCoUA0C0QolsaakQOh4PGzGZmZuIlEAgEib6qv1H6vykBAEAjtB9//PHs2bMiyxAAkEgkBoOBYRijtKytrQ3EbDndHV2iefymTZvi4+ORbROZWxAtLS0CgWCG00xkxU1NTc3Ozn7rrbfCQkLLy8ubmppsp06NjY0FgNLS0traWtGDx44d27Rp0/p1EahMkSUDSeRwOBiGeXp6xsTEsFisrVu34vH4lpYWABAKu1FOobAbZe7sFjg4OJw8eRIAWCxWUFCQSIpQKBR2dY3ke3vh+qmS14fMzMze3l5VVVUfH58FCxaYmJhcuHTRw91dVVV1zpw5ubm5zLKykHdCCXi1qqoqMzMzU1NTOzu78+fP0elWPB6vp6fH1tYWFZWdnW1lZcXreOI40xGlm5o5gQsDpk6deuTIEVtbWx8fn6lTp547d87X17ewsPCzTz+rqKhITU2dNmMGfdIkc3NzeG64MzU1JZFILBZr4qRJ1VVVs2bN0jcweFT8KCgwMCvrnrY26fPPP09OvvTwYUFUVFR+fr6VlRWFQqlvqH+qAt4enkmJiYaGhk2cpr96e2e7zg4NDT106BCb0/R9zPdMJtPU1JRCoVTV1uBwOPFl9FdFZdCeUYkSJcNBOX5TokRylPqjRInkKPVHyWiQnZ09DnyXBqLUHyWjwc6dO2XqRyMvlPYDJTKHxWKZm5u7uDhlZeXIuy5SRtn/KJE5CQkJAJCdnYu86ccTSv1RInNCQkJcXJxSUlLkXRHpo9QfJTLHzMystZUrFApH4mmmmIxz/XlpvBElSkbCeNYfPp/v6uoq71ooGc+MZ//rX5MvAkB2dra4Q6QSGTHE8o74fsFhZhszjGTzkIKDXtDT01PeFRnnoI1oUgFFdxlDjNv1HxaLVVNT8+abb2ZlZdnZ2Wlqasq7RuOTfQcORH78cUpKCtXEcIRFceoa33rrrfgzp1a/s0oqdRsFxq3+wPNlu+7u7jE5MBgjqKiopKSkzPHykEppKcmXv9j4GdpmNyYYz/MfBNpXLO9ajGdQeJCenh4AwOFwKNEvPRxwOJyGGhFtgxsrjGf7m5LRJyX5Mg6HAwBuO7c4vxD3HHR3iLRcajtyxr/+KDufUaO7o6upvhGliap4qrFhM6e5OL/wz1uZSFv+vJWJ0tx27o20a0jBuO3cP2/1Dx4yVlD08VtmZmYpk6FGlCTOA/pbxp86Kdnj3QKhp8eb42/JXHaoaf0dA4Td1sypa7x8+fK6D98HHu/PW5mV1dV+C/15T3h/3sosKSlZHbHm3M8Jk6dO2bMrZt2H78ux2iNBofUnLCzs7NmzRoYWEpcwdapD1Pb/Sfx4Q+P6xMREUZAXAMi90wAATu5GEpc5junu6B+Lg06n0+l0kjYp6969yvKy5KQuoVBoPmmi1/y5mX/c4ra1AYCT8yw6nf5KMyXFQXH1h8VinT179syJq9ZWdvKqQ8adtH7Bkwz08V/ZnI/41ctjqa28aqWwiPofHA5HImpy/nlXV1cP9TN/3sp8mJu3fl3ECE9bUgQUV39QCDJDmgnW8+IVaxxedFc8/ap5XlQ4zcAU/mnBM7Wm7Gtd8+X0ny3sqKbWlGG/zeuCgbEhmszo6+tb2dog0xxZhzzFztZ19uxjh44AwOqINZl/3IqJiZk9e3b144oZTjPHaOcDiqw/Q5/dgMi4k+bp7o/1YHgc/m7WTXu7mQTC308JhQJtLZIoDwAwy4qpVAMNdW1RnqrqsokWVq9UMbIu4VDtWm6b8OCGtI8O+L/Ss+Oet4ICUQKphD5VHyVQYCrU//T09Pj4+/o8f2TsKg+Mdfvb3oM7mGXFqFfZHbvlr6c9ANDZ9QTdTUg6BgAXL59BefA4/OG4nRxOk3gJ+QX38DhJDHRkXQIAbJuXwG0TjvQ1xhE9zxF9HHhXPNuYVh4Y6/qzYP6KgqIcALiXfSN0+QcAcCH5FIfTFH9mf2fXE3ZTLbOs2NXZC+VhlhUvCVyJ8uBxeKFQcCnllwkTJO+BPzrgb+9rkn25VEpvMyYJCgras2cPPF/PGQkAcObMmcjIT+T9Tq+A4o7fhoO21rODMRrZdaYmkzicJofps9EVHRLFZvIMayu7/IJ7BlQa1oPlF9zz813M4TSJdMaASmvisEdSgbc3uwPAF06n1/200MZebyRFjVHOnDkzceJEPS3y0NlMTEyEQuFLfQtMTEzOnDkjvdrJnLGtP086eMuXrk5IOuYwfXZLKwcACopyViwNRx3O06e9KM9Cv+UXkk8Z0kzQ4A1d/+tpzwiVR8S6nxb+b9q519Mop6mp2dzcPHR4Kjwef/jwYW/fuZZmQy1F4PH4MbfTZGzrj7WVnQ6J8qSDJ7Jxc3mt5y/EA0A7r8WQZtLOa7G2stPWIiEt+utpD4fTZGoyKSHp2IQJqsZG5lKpho29Xkx92O8H815D/UG8tN27urra2tqOIcfqYaK4/tdMJtPGxuaPKyXiJrV+IMtBPws1SoiuD5FHlPNFhTPLileumT98D+5z0XcaHnM/PR4wnMyvD9nZ2WgjsMI2NolRXPsBsl//9bQHmc4G/QfPlUH8CqLf3UHziHK+qPBX5e3N7niiqtIo14/09HQKhRIaGpqamirvukgZxe1/AEBFRcVttvcc13nyqsD3P34VERFx9OjRV3oqPT7fO8yui/8U2biVAMAU28nfx/wQEDDeemaFnv+w25p3Rn1zP+9Z3FehsJNA0JCpxH4ioqOjX3Te/RD4hTvUMlu+sjn/HWOF0kcB0dvTh46FG2/Ic/P4KxIZ+YlMy+/u7pbi/vvSwpZVcPDujSppFTimodPpiYmJ8q6F9FHc+U8/UlNTY2P38fn8l2eVlPhTJzdv3iyt0mzs9b5jrLC0Jtcyx9KGSiWvxJjRn08//RQATsTHy07E+xHrAUCKc1xTawrNiBz7zu8HN6RJq0wlCsXY0B8mk+nm5gYAjwoLZSQiOzt79erVLi5OeXl50i15d+4qTND77ZJfpVvs2IJA0Br5YdcKiELb38RBy0F9fX2yiweSnZ29efPmW7duyaJwNIrDaanSjF7i6jJWSEpKOnLk+DAzX7+eNnWqA41mMJzMxsYGH3zwwZjwRVBo+5s4XO6zY9NlF89ApgekmVpTMi+UxC27NT6McosXL86699t33w7XOBmyYubwC29v73B1dU1JSVF8e/eY0Z9xgMdSW+I99a9szu9rXTOml4ZYLFZycnJb8286FB0ZiTAxMXjrrbcUf3A0qvMfDMMWL16sIhHIAUSyZ1VUVBRkq7CTq8W+1jUAkB6fL++6SE5jYyMA6FB0nmKY+D90t99Fyf65ONPl+orDZVT7n02b/l1U9ujSn5dHUygAtLdy33vrXZdZsxRhSE3WJXDbhNcOPGooa3/vO5+XPzAWmIDHFz2sSL96X0dHa+kSN5L2Ky9z8550SvCU3BlV/Skufhz6Xpidoz2vjTuacu0c7QFAcaLCknUJu3NX/bg2NfNCyfhw2S56WNHQ0PrFplAA+HLroW+j1sELVGICHt/e0i66Lspz/ETaZxuXjW6tpYAc7NeDKo9QIKyrqh39ysiRT48HeCy1/XFt6lh3Np2Ax6dfve+30BkNvf6388MJePy2Hcfq6tq27TgGAO+8+31xSe0nG3+YgMfvjjlbUFi5bccx3pNOlOenk1eLS2of5FXWsKSzHWs0UYj1n7qq2pu/3Whv5e77OlYoEPa7defanaLcIpIu+fekK6cOnETXi3KL9n0dK4/KShlbD+NP9E6MJx+Fpxh268aDiLUB9jMmRawNuHb9YVDgbPsZk94K8KkqZ5mYGHj5OKIOKvRtPwBob++wnzFp3tzpE+lm8q77K6MQ9recuzkLli00MKZZ2VnxeXw+j88oYnTwniwIXnjh9AWyLjk/O4/XztMiaZeVlKFHyhllZF0yAPyedEWLpG1jb8MoYrj7urewW4QCgclEU7m+0CvgF+6gRzdIiska07uG7KdOqipnIQXYHXPWyWkyn98DAHx+jxrhDfGcnZ1dAFDDYj9+zAYAv4XO93PGcAAJhdCfJSuXXjxzoYPboU/TD1kftv/r2I+3R1aUlN+5dmfpqqUUmr4WWWvR2wEJR3/xXuhTlFtkZWelb0Dt4HbUVdXOcneeZEvf/3XsirVvo0Le3bBa3i/0aji5Gzm5G/301Q09Y83AD53lXZ1X5imG+S10Ph6XCjcLAcDJabKXj+PxuNT7OaXt7R1fbApNv3IfANQIb5DJWibG1ONxqe3tHWvX+H+/52w7l49KaG/vqCpnmZvR5Pwyr4hC6E9dVW34J2t4bdy6qtr4fScsrSfx2riTbOmZ12+TdEgUmr4op5Wd1e+/XuG189x93SuZFQQiMefOfUYRAwAMjGm1lbXeC8eqRWvJ53O+nZ/YWs8fi0a5pxi2NiIAmbAn4PGijyiNpkZePo6iNLqORnEo/cWm0KeyXL+WEQox/8m5m1P8oAgA2lu5+gbUSmYFANy5mkm3sQIAPo8PAE31bLSBBGUg6ZIBIOfOfe9FPjb2Ntw27m/nUpeuWlrOKOs3gxorIKNcFw+TqRuE7BBf/xnm/wPzjzkUov9ZsnJpUW5Rzt2cWW6z7J3s3X3df0+6YmJhau9kLxQICUTCgmULW9jNC5YtJBAJ7r7uTu5OvDbuwuBFFBoF5Qxb/w4AUGgUk4mmLewWgkQHLigCHx3wZxS17lt46X8F7yisj4KhoSEAtLe0y87/4MZNWTkKSxc56A9JlzzQhG3vZG/vZC/6uCB4IUogTSAQCeImAXSRQqOI5xSBro9dbOz1gr6Z+YneCYX1lDMzM9uyZYuu/qKtW1bKovyqqvaEc7/dvn1bFoVLl1HVHzu7ydeTfveY9+ZoCgWAotwieH7M4JjAL9xBy1wHALhtQsXshXbu3Onm5nb9+jUiUf3luQEaGxtRrwUAAkGX+FP9PgLAFFsrBmPP2Dh5aTQ3u3Z0dNDp8vFrioqKemn1bt++rWiH3a+Cg2k/5cm7FlIgdv/+mpoalM7KyhKlOzo6ROmxyKj2P5qammVlZRgmyRQZj8fHnzoZ/u5qyZ4do6c47mtd8+38xHHgKRf58ceN9fU7d+4EgLNnfzEyMkaBWfLz83k8npnZ2Fs5Rchh/iNZa2Yyme9HrF+/LmKMaoJkkHUJ//vz7UpmB7uBq0tRH6PvjrbE79q1Kyoqis1mFxc/rq6u4fP5eDy+klUNAHw+X1NTU97VlASFsF8Ph8OHDwFAZuZYPWhWYvB4vI29XsbpR1/OOTdGPeVKSkrodHpk5CdXr14tLCy0s5s8c+bM/Px8NputR9LRI+nU19fLu46SIu8B5LDo6OhAtZXp/EQB5z/ipP2UtwoOdnd3y7sikmAzxSolJQWlo6OjRbGssrKybt++Lb96jRSFWP95KW1tbVlZWa6urqdOnZJd/AMFxy/cwXa2aRf/aWFJw8gPMB7NVVo8Hi8eP1EoFHZ2C0R3eTzeKNdnaF6pdY0N/TEzM0N7HsfuRFMqmFpTapkt+zwuvfPTbL9wB8kKwTCMzWaj42VHBxTKvIHNZjKZRCKxra2VQCAwmUwAaG5ubuW1o7QiQCQSdXV1hz9FHxv6I+K17XxEiA4w1jLXmeM91HE6LyI/P59R/lhD7eXHy0oLAoEgFAob6+uLiooIBAKH0wwARUVF6K6GGlGUljud3QIb+mQ7OzvF0h8Mw9avX3/y5MkRlqOmpjaSx2P37/9kw4YR1kHukHUJeytW4fH4c9F30AF4w4fFYjHKH/t5vzXK0dgIBIKjo+M8nwAAYFU1Uw21UFrRaGquycq9b2hoOMwuaJT0Jzw8vKiIUZh4fXTEDUpXt9B1ZYCCREEYIehP2/UE+8Lp9Lary4fvo1BTU2NpZoE6BFlW8B/009VelU4ALQBQnIjyohoa6JtrqBUNf3A7Svpz9uzZ3w+esbaYNDriXsQST7+CosJxoD+I977zuWx8/6d/X3/p3jsMw6qqqrhcbimTAQB9T0fUjUuAUCisrKws1C8EgMb6egAoLFIUD1E1Qp+5qTUM0PPhMMbmP0r6gfbbnYu+M8nNcgij3P8dPXohKQkAmjgNBlSjyZNzRq+KAABQV1d37drN8vJyAFBXJz4qLJRdKOZXRU9Pb4H/kslWkyV4Vj7609Pb++mP3xz4dxT6uOH7HaJ0Py5nXA30nN/v2cy8bB9ntxcVzqyuQB3djft3PWa64FTH/2/EnMU2X9mcf9EBxqmpqTeuX9+9K95AR7OpnQ8Amhpao1zDmzdvLglc4eMVOMpyXwq/s+N+zs3f0y4CLJlsNflVuyC5ta2qNg5q6MzqipLaWgBgVlfUc9jGVJq1xaR8ZnE7j+vj7Cbs6UH5RVrx+90bC9x8kBbpkMgO1nbM6oqubiHKf+P+3T8e3Pvugy8AwMfZ7fz131bMWySvdxw1kFFu94pLLgH0frNeDMPu3r07f26QpoZW5/MlFn5nx2hWT1NDC011Rlnu0KAfEU0NLedZ3g9P3JOsELnpz+q5AQXlDGuLSQXljH8FLgOA37MyNoas2ZtwAgDaeVyPmS437t8FgJ7e3oNJpzaGrEEPVjbW4VRV9yac2BiyJp9ZnM8sTrrx+38jNgLA3oQTC1w9p1tNkddLyRGyLuHb6yF/3qz+q70L9UJ8Pr++vp7D4dTU1BCJxEfFOQAgEMhnmfLpX6qVFbVamooyZiMS8RYWNjDirlhu+kPA4YQ9PT29vaIr0yytb9y/W15bYxlszqypuHgrfTrdhi/o/G/cXhfbaeLP9vT2GlEMAMDB2u789d9cbKeJBmmWJub1nL/DiDW0NI3K2ygKTm5GqP/h8/mfffZZXFycvGv0N3tid8i7Cn/jNts7LHSV8yzvEZYjN/0R9vRMp9v4fbY+/YejB5NOMasr+ILOQM/5fzy4l5mXbW0+ydpi0leHd0+3mvLdB1+cv/6baPxmRDHAqaoixWBWV1C0yX88uCc+R+ILOgEgn1nsYG2H1Oz1QTR4OxEfHxcXd+bEVSr19foGhgOH03Q4bufho/up+oaoFxqIYq2fDmQ63cbaYtK2lWtxqqoLXD3RQG5vwolgnwVTJ1lfvJX+e1bGuwuWoMwr5i3KZxajNEWb3NPbu8DVc2/CCSOKwYp5i1qecM9f/62hpemj4HdFHVE7b1RDBCsahw/t273zuLWVHdajKH5lioO1FeWDiK0r18wfdDRLIBB27ty5devW4WyAlY/+4FRVUWeCzGgoLT7RHzjpd7C2QwlkJPBxdhOtJlG0yeLmONQX+Ti75TOLl3j59StHKOyW7rsoLKqqr7zIg8f9/aP7IsXD4/Av1cnhlCNBTmn9FmA92NDdMplMsrGx6ejoeOmupFHSHxcXpwsZVz1mSmfh0sfZTXzi1O+jCAdru57eXvFbFzPSP/3mK6nUYfyBx+Ez7qQ1cdhcXqvdlJlurt5YDybealFbz7iTNtvFB/7ZoPE4PLOsGAAmWljhcfijP+3R1iIBgCHNxNPdX7yczq4nAKChri2SyCwr1tYiPenghQSvIxCI4rLEyxfJ7X3IKxEAACAASURBVFdnlKequkxana1QKPzggw9jY/fV19e/tAsaJf25fv2mlpZW3PlToyPuRURERHh4eMi3DgoL1oM1sutCgtcBwPkL8QDQ2fXkXlHubBcfpB7splpPd/8mDlt0y2H6bG0tUjuv5V5RLs3g7wBJ2lokVA6zrPhu1k03V++7WTcpelRrK7t7RblNHPbit8JEmcNXfozU4FLKL/6+SxrZdRMtrO5m3QQAN1dvVEhLKwcJfWMCjkAgdnY90VDXFgoF97JvTLN34nCart24ZEgzEanfSCAQCPHx8QAwceLEl2YeJf3R1NTs6+tjsVgjKSQhISEkJGQkJbzm2x+GBo/DT5igev5CvLGR+Yql4UhhZrv4xJ/Z7+nuDwAO02dn3EkzoNKEQkH6tUshweuO/rQnJHgdSh848p2vz2LxArEebKKFFbup9vyFeN+5ARxOU8adNHFxKFFVXUalGpSUFhkbmSckHVu+dPWllF+m28+iUg3OX4ifbj+rpZUzy9Ft155NNAPTllaOm6v3hWuXlga9m5B0bP17nx/9aQ+qnrQoKSnZtWtXSkqKAvmPIkbSfJlM5ubNm1HQCSWyAOvBViwNx3qwquqyA0e+s7dzROOl9e99/qSDl1/w9wpjUXGeIc2EWVZsbWWXX3DPz3cxAPRTHhFNHPbTp706JIoOiZJfcM9h+myagWln15Oc0iLbKfYAwG6qZTfV0gxMra3senu7dUgUALC2ejbdzS+4h7oypCQUPSoATJigWlVdhkaG69/7HOvBqPrG2lqkEY7fkFvt5s2bo6Ojh3n06piJf4C61OzsbHlXZDxz9Kc9eBze2soOjyeoqqpVVZfhcfjzF+KvpCd6uvtPtLBCgzfUiFETpxmYFhblAkBBUX+fOjwOj3oS9FG8ceuQKG6u3khVHKbPRoWL7nJ5rSjx9GmvIc2kndcCAEXFD6hUAzSQYzx+aEgzYTfVonmRUCidvYBCodDQWMfT0zMkJKTfflg+nz/oDtmx4RvG5/N37doFALI7X14JHof3dPdPSDo2YYKqp7u/tZVdxp00UfeSkHTMkGZibGSOpjEtrZyEpGMO02dbW9mhEZqxkbnIqGVIM0lIOgYAKAOVaoA+Lg16FwDiz+wXaQuaNSHVwnow9DEkeB3Kv9BvubYWCU3GHKbP0SFR6htqzl+I93T319YiqaqqIbnIVsEsKxZXQgkICVvs6en5xRdfDNy/kJaW5u/vP3BEp9Kn8EccA0BTe0v14wpXV9eamhoajSajLaiZmZn/+c9/xod+TrGd/K81O5AN7ZUeFDd8DUwP+rHfrYGZBxY1TAv40LL6pV/pTTu7nswPmH7qRPKUKdMA4NfkI6WlpcnJyQwGo6ioyNTU1M7u2QASmbBTU1NLSkoAwNbWVnxoNzb6HwMdSjVUgNIAIHvEW+GL0kPfeumV4TT04VTjVct8EZoaWvfu3cvIyDi478QfV/98XPHQyMi4oKgQANSIhNXvrELZQkJCzMzMjh77h0vU2NAfACCTyfKugpKhkOL65miiqaH1qDgnIyPjSNzRFUtDhUJh+k3VZUFLBq6cqmmpA4Au+R9HTsjZfoBhWFhYmMowsLGxAYDh5FRRUen3I6FE1uBx+I2bVgqFAjwOX1VdBgCdXU9QAo/DiwZa4umq6jKUB10cNM8o8Kg4Z3noAgqFwm5ovH4jNf1miquT86BuB90dXQMvyrn/Wb9+fdnj+4X5p6VYZkNDq/+i9UY0w2GaIJWMHGZZ8QcRW/ML7nm6+5/7Nc5m8gwAYDx+uOXzmLtZN+sbavx9l/z1tKeK01RQlOM7N6CwKDfjTtrHH2yjUg3QyikArFga3s5rySktqm+o8Z0bgHwUZM3y0AWrV6/mcrnmkyba29sbGxsPqjyithQcHCx+Xc76c/LkybTf9trPmCR+/NiE5+aBIc4kQ4f+DXrLfsakjz4IzMvLU+rP6IDH4dEqDVoj8nT3d5g++6+nPcZG5lXVZRQ9qpurd0LSMVOTSQCwYmn40Z/2hK/8GLnnlZQW1dZVLA16VygUnL8Qb0Cl0QxMZzm6xZ/ZjxZ2pF5VtGzVCQAAX//v86lTHb7ZuvvjzesszSwkODFFEec/7S3tBYWVerrkfnrVLw9JW2OUK6ZkUJ508Fpam5DHDfKCE8FuqmWWFecX3HvSwQMAtGAKAOIrNoY0EzRme/q0V1VVDXnQIZO01GGWFa9cM/+tRct1dfQBgEDQSvzlWnZ+DpfLpVKpEhSoiOunx0+kTZ9m2dDQmvDLjQl4PPqHbok+Hj+RJkpPeL0jKsoXPA6fdu3iu2Eb3Fy9Q4LXIQ+dv54+23VPMzC1mzIzJHidyJ9ARG/vM0f4RnYd1oO181omTFCFf6qW1LG2sruaWkAzMC2vKAUAR8dpJ3/ZvXvvfzZs2DAcb7eBKFz/w3vSCQA6FB2/hc5V5SwA2B1z1sTEwM7WXFMTh47FXLrETUdHCwCOx6WaGFPVCG+gs53lW/PXE6wHm24/S+Q7gzwJch7cRa6fEy2s0ErrQr/lfz3teWMCDuvBPN39CQQiGr/ZTrGf5eh2KeUXAyoNzX8IBCLWg/n5LpaFNQ/rwTTUtde/93k7r2V+wHRDQ0ObqbYffPCBxOsiCqc/OhQdv/nOx+NS29s7li11S/jlxto1/joUnVs3HgCQ31s9v4bFLiisBICihxWTJhl6+Tgej0t9012pPHJjooWVqK0jDwC0biv6HwAt4xIH5kFXViwNh+eNG12RqfFAJHfhwoUj9MdXOP2pKmeZmOjazwgAgC+3HppkaYYOeZ4+zfL+/bLWNq6eLllPl8xm8xoaWtUIbyAtknetFQ7rybb5BX+6uXqPpi1YHCRX3Cr9ojwv+ihT7hXlwvMlnZGgcPpDJmt9v+dsxNqAGlazro7O0iVuu2PO+s13vp9Tinqk7PvlnZ1dALAi2H3bjmMRawPSrz5+093+pSW/DtQyW7T0Ncm6hOjoaBsbm/KKUtspEh7TMI7BMOHJM4di9++3pY/0iGKF0x+Stsa3Uetu3ykyN9P38nEEgLVr/AsKK9dGBDzFsNt3ivzmO6BsAPDvz0MLCis/27hMzpVWDDIvlMQtu/Vl4dtkXYK1tXVNTU18fHxbW+vQT1VX15DJZORSePHiRTc3NzKZTCaTHj4sMDIyolL1pVI3LpcnsnFxOBw2u97S0opK1RddV1eXznkQDx8WTJ78LJLoxYsXfX198Xg8eh0LCwsymQQAekTtrKwsqYRxVjj9QSDNQSYBkraGyDzQz04gfut15s+b1R017S6BU/a1WopiyZuZmW3fvv2lz3p5eX3++ecuLi54PP7x48dbt25FDSspKcne3l5ah8if/Pl0TUVVeHi4mZlZZmbmzZs3P/vsM01NTRaLVVhY6OXlJZXzT1ks1rvvvrvuw/edZzjy+XwOh7Njxw70Cid/Pu3t4Sl1/0k564+Li1NK6g1n54Fu550v+NjZP+NgVw4evhx/JnjA9XEIt014YO1vLY/5/0oIGP4pDCJSU1MzMjJu3rxpbm6O2haGYeKn+UrlwCUMw77979cA4O3tTaPReDyeQCBoa2uT+pnB8fHxGRkZD3PzzM3NRe426BW6BUKQ0uuII3f/gzM2NjYHD1+WbrFBQUEit9lxTO6dBrqt7jRf08CLzpKVEBt7EABu3Ljh5+dHo9GkWru/yc/PR5HjS5kMBwdZzcf4fP6OHTsAIPd+jqfHm+jQO1kjZ/2xtrYeflyE4cc/GPfbHBhFrfsWXrKab+B0PAAdwSABLBbLzm7y9etpZDJZpu7tBUWFnp6eQmFnVUWl7I4PzM/Pj4iIiIuL4/P5o6M8IHf9QQynuSvjHyC4bUJ1zQn/F5K65uyCEZ4ibGZm9u2338XG7lu3bp2xsbHsWvb6dREljx5VV9d88MEHA6VI6xQttJITFxcXGRlJo9HYbPZLHxk5CqE/w0EU/2DcnH4lAcjC9h1jxd7i1SMpB8MwtJu/vr4eAFp57W1tbegWj8dD6TZuO5fLFeV8EUOfc4gex+PxXV0CAGC3Nevq6iKFEQgEfD5fIBB0dgtE0iUTJKokOsq7ubkZwzCBQNDZ2S16BRQ3c4SvM5CxoT/K+AcA8OPa1NYafkx9GM1oRGMtdBZdWVkZALTy2gGA8ahEQ41IIBDq6+tLSkqEQiGBQFAjEmpra5ubm4coikQimZub6+rqDmoJYDKZHA4HtWlks36Ym8epaywpKSktLc3Kva9XpoN0qXDIs7RIJBKVSiVT9XRAe2DjbmpvefyoFEnJy8sDALTRupXXzmY3ZefkoFcgENSGlgIA+vr6hoaGrxQgYGzoT1tb2+3bt998881Tp069bkdwYxj2c9QduiPtve/nSWBhG0h+fn5tba2pqSmZTCZxOAAwcZIl+ujt7W1p+Sw9nEgcZWVl9+/fd3Z2HvizzWQys3Lv29AnW1lZwfPtw1OsbahUKtIZSzOLYbo8czicrNz7rk7OGsaEflL4fH7ald/1SDpISgO7EQAsLS2pJoYkEmnuXA9LCwuqiSGJqIkyDAGXy62trcUwDJ1fP5yKwVjRHzMzs8bGRngNDAP9yL3TsM/jkveXNvZellJRHgzDCooKg5YtMdChAACaZ0+xtrGzs9PU1HRynmVvbz+0JzIejxcNgaytrVNTU2tqaga2uaKiIlcnZ2tra/R7hxYuRVZyAoHg4OAwRDPtJwWfjS8rKzM2Nu6Xrbi42NLMwsPDA0nhcDgAYGpqOsPWHsOwUiZj2rRpw7Qr4vF4Q0PDm5kZ5ubmwzesjw39AQAVtTFTVanAbuBWMrmmRppfFr5tY6838gLR0L+trQ3NBJraWwAABWpCc57OHiG6xWazh3IM6wQN3LN+AMMwqolhv43NfD6/s0fYwGY7OzsjKRoYoatLgOYkTe0tHA5HKBS2tbUNX4qhoWFtbe3A16mtrTUwMBBJaWpqQreQ8UAo7BYIBO2dT4b4WjRwBHiurrq6ukN9g4Mx2o0Sw7D8/HwJHmSUPwZJ4yeSyWRpraOPAhiGpR17mPRR7js/zTb1tpBWmVevXs3LyxMIBKWlpaLrwq4uALh+/VpldTUANNbXp1+7NnRRRjSaGX2iubm5joY2APR1/yNyf3Z2dkZGhlAozMvLE3Z1EdSfacjjx4+Fws7k5GSCurqwq0soFDYMaR8j6ZBs6JPRbGTgXRaLlXY1nd3QyGAwqFR9y4JnY7PK8jIAuHLliqGx8XBeh0BQm2Jtg6Zwkk0KRlV/WCyWubn5SEpwdXWV7MGgoKBLly6NRPTowG7gAkDFA86+1jVSGbAh/u/o0ZTk33x9vQkEgoWFOYEwyNEmBILaxEmWLy3qwYMHDx48CA8P1zAm9BvnpKamfvtt1NKly59JUVdHgtSIf78IgaA2qPR+1FRU5efkhoaGDWzZyElnxozpRkbG5ubmOjo6/QokEonoyktfRyjsPn369Pz5852dnSVbPh5V/dmyZctbi5Zv37J3NIUCwJMO3tyFtqmpqYocEYHbJvx5+63i5PpDtWs/PS7NerJYrAtJSadOnaLRaHxM0Mxp1n/uFcpv40V+/PG8eb6z3FxxONwwC/z+u11FRUVkqp4mPNMfNP7ZvXv399//gGYjVXUskRRdTVJ+Ti6XywsKXqo/PIdUTTzx/44ezc7JsZg8qZ/+xMfHL1y4cNOmTWicpqaljmquiSdevXo1Nnafn5+fld3gp8oNlJKdnX3lyhX7mTOG+e79GFX96erqspnsDCOLdicBMtpML10+0TsRfNDpowPSPEoATRIKCwuR+auqjgUA3Oa/PbJ5T3goweW0Au6NIYoi65BFCjZxkmUbt/3vQng8NpvNbmsGAKqxIbOyvJ8UfhsPzX/ELw4thY8JLC0s8vLyuju6QOPZXrq2tra2tra8vLyVK1eyWCxBL8Z7woM2IGmTAKD5uTkew7BmzlBmd6IqHmkdHxNQqdTW1lbo+Wvoir0IBZqUo0NdBqZflAdtlBc/8kUoFEjlBJjRpJbZsmfpb59fWHSse5107fJ8Pj8tLe3Onczq6poHDx4cPnxYIOgCgK4ugWizAFrWvHz58tDbByzpVg7Tp1ONDQftPfLy8q5fv8bl8oqLiw/v2y8qWbzMx48fA8DZs78MIUVXV8/b23tQKYJerLKy8sGDB62trQ8ePACAO3cyB0rhcJopFMqvvyYNIYVIVHd0dERTuOF3uS9CgfRnfsD0uzeqAACPw7sFTL97o0p8Q2LGnTRPd/8dezeHh32GQrTs2rNprleQaBswHoe/kHwqJHjdGIqCeS76zm9bCv91Y6GpNUXqhW/YsOHkyZNBQUEA4OjoeO/evUGzBQUFocb9Ishkcmzsvnnz/Ldv/1K8F0JkZGTs2LHD09OTTCa7ubk9fFjwokIA4EV3RVJOnz79448/ElXxmrr/GDJw6hs3b95sM8XKgGrk6Oj4oqKGrgOiidOwa9euI3FHSdqkYQ4mh0BR9EcoFKxe+SGKO8EsK1698kN0NAW6SzMwvXj5DM3AdLrd7IKiHGsruycdPF0dfYoeFR1v9qSDV1VdhgK4jAkyL5QQqeQ5i22WfOosi+Xg7OzskydPMirKRt5EAKCZ02wzyeqtoEXm5uY4sZbdxuft378/dv/+t98JGflveU9Pz9TJU65fv2ZlayNul8Dj8adPnw4KCjry07GRSwGAr7dtP3Hs6HT7aeNHfwDA3s6xtq4CwLugKMfezvFJBw+dqYTOq1gSuBKd1mRApWE9WH7BPV+fxS2tHPQIAKCTYRQfdgP32Ed/cGu7In9eIItuB1FQVOji4qRP1e/p6Rl5afpUfRcXp8b6ekEvJmrZGjhCfX09gUBwmD4dAEYuCIfDLVmypLq6ZuCtqqpaX19vbjuXrDNSP3EcDjdvnm9s7D6QRp0VK/6bqckkZlmxAfWZJbGgKKdfPD4AcJg++172jSYOG502g/ocUcAxRQbDsFpmC7f1r1lBlrtzV8lOeQZSU1MzaHr4EAh/R6tUIxKQSZpIJKKNPQhuO5fbzh2JlIGgNVY2u4mgri5SnhG+jsjju19vhtxYX2kVVYH0p4nDdnP13rgpDB1S28iuAwAq1YDx+OGTDh6zrLid1/Kkg6etRcq4kyY61ezp0952Xsu1P1LlWveXk3unYeOk09dPFdrY6/mFyzymh/iSCw6He5ibJ2rZ6ApqOsP5/x/0/NXT09NU38h4VFJcXJx2NR0AqMaGKHNR3kNOfaP4U5JJ4T3h9fT0tPLaKysrHz8qzczMfPQo30hsfSbt8m/oKfRSuOcM/Xb9BGEYxm/jcbncqqrasrKy/Pz8m5kZNvTJr7QrVlHGbwQC0d93CdaDnTt1G+vB/H2XIKMzh9O05fMYoVCADsFE5oGNH0UhO5u93cxZjm45D+76+y5BHxXTeMBu4J4I/f2TK4ul4okjASJ1wuFwpcUlJG1SfNxxR0fHysrKdR++fyb+tKWFRWV19dvvhBw7dMTA2FBDjWhqapqenu4fuEi05C0QdPEEfDLotbe3t7a2Njc3o2JF3QKB8A8pNF39vYcPOzo6lpSUbPgsMiX5soYaEUk8duiIra0tknjgh9iZM2fO8fpHHLbujq5ugbC+vqmpqcnU1BQVjsPh0IhLJAgAOHWND3PzAIDb1h4UvJT3hPcwNw+ls+7d01AjIuln4k8TCGpBy5b0+2YwDKuuLm9gN5JIJAkCJIyq/nC5z34Ch4gGJv6/KOjriwKFoQQKdamYpMfn//zevWPd6w7VrpV3XZ6BIgE4Ojr6+PtC2rWyYgaBoGZla1NZXV39uCIoeCkA7NkVs2rVKj8/PzqdLpokEInqNF19HQ1tQ2NjQ2NjLy+v4uL+o2txKYJeTEdHJzAwsLNbUF5eznhUEh6xlkAg3Ei75jV/LjzfbkAzMpzj5dHT0yPqH0jaJBqNZkQznDjR1N/ff+gOQSgUctva1334fjOnOePGTXZDo3/gIgBITrrgNX8uSZvUwGb39PQIu7pWhq8Sn/Dg8XhNXRJVQDU2Nvb0eFMyD69R1Z+FCxdu3rzZgEpDsVtHjdq6CgB4qQe71Nlod9LcVW9f6xpF2HBBVMWLD2DQTziBQGhubjaiGQKAq/vs0uISvWadWW6uenp6AKCipire4IhEIpqNPCosdHKeNehL9btI1tXhY8/iWSOfNORvWlpc4u3hSdbVBQAkfWA5JSUlJiYmQ7yR6HXIus/OtEL9IVpO9fT0zLpzz2+hPxr4ifKIUFFT1cQTizkcMpks8X7vUdUftPs68cLhftd5T3gGVCOhcGAknVeAQNB4UQkEgsbt27dHzYUUw7C4z24Efuy05VrQCPe6SZGEhATkkIacrBFCodBjrtfOqG9IJNKVK1fc3Nxaee1pV34vLS11c3Oj/tM/msFgZP5x68GDBxwOx3++36D6c/bsL7ZTpwqF3dy2NgBAsroFQpI2qbG+vqyEcffu3SVvBzfVN96/fz8vN9fVfXa//dtsdn3WvXvJSReuXLly5MiRQTufa9duknV1hMJupBuiN+oWCGfOnJlx4yYATLG2qSwv49RPf/Dggfh4T0TWnXulxSU/xR1/L2KtxLFTFOL84KSkJGdn5xHu7eHz+T/88MNwIp69CKmcH4y2WC/aNU1GCzvD5OixuBPHjl65fh11IP2mzmiwJP5/eXk5nU4HgGZOs2iRVNT54HC4pQFBra1PZs92mjpt2uLAQPTHys7OdnV1RZ47w5SCVv35bTxBL4bM66JZDQ6H2/LZvy9evLhkyRITE5O3335b9JOnoqKSkpKChnkDBYmqiq4j5x1UeE1NDXov8Tw30q4tX748NDSUStVftix4JCGwFcJ+8Omnn65cuXLnzp0jKeTQoUM7duwYif6MkFpmCwAQqeTvGCtG0zY9KOL2NxhsoQNdEf1vbm6O0sgYMOjCSECA31dffTXEbGQ4UlBCTUtdDdTF74qYMcNp27ZtQ/+YvmjdZuAriN5rIJGRkSOPpSF//WEymXV1dbt27Rqh/mzevBkA5OJkjWHYxR/vI0+cOVLasTNC9Eg62dm5MKgNWiIyMjIWLlzY7yLyyuG2c6Xi5aCJJ3I4nIkTTQddgUG+oVJ5HeT8KpWQXfLXn+TkZBcXJxrNeCRNPzMzMzQ0NCcnZ/SPbeS2CctL2lpq+VJ3AB0J6EtYs3L1kuVSCA5+MfFXAAgJCenX+VhbWwcFBbm7zN6994eRS8nPyU1OTs7KyhrYxSUmJi5fvvxI3NF+/aoE8Np5kR9/HLt//8Dd4JLQpwCEhoYeiTs6wkJSUlJcXJxGUsLt27c9PT2Hn7+xvv2bxUlfzT07EqGyo6OjIyIiQgpNBGD16tU1NTUvEhQVFTWcQiiUl4xpPT09s7KyXiQlJSVFNJMZCXQ6PTExsbu7WypfskLoT1BQ0JjTn/ZWwSo4mPZT3kgkKgLolaOioqKjo+PPnGIwGLKQEhoa2t3dnZKSEhn5SfyZU0PoyUi4ffs2g8FgtzUHBQUlJiZKUU9ehPzHb2MOFDt3b8UqhRqwSUZmZmZGRkZmZiaDwZgxY4aGGlE6o5p/0tTecvbsWS8f75JHj4hE9W6B0M6u/3GoUmHPnj1UKjUwMJBKpTaw2X6+vrL+Ayn159U4uCGtOLl+TeLcsa45iP/85z8AsP79tQ4znAjq6vb29lI/EwEATsadAID3I9aHhoba2NhMt58mCyksFis5ORml1dWJRjSaZEcCvxKK4j8qvqgnaQnC1lbuy/NJSnp8PruB6xIy7VDtWidXhTCyjZCm9pawle8AgMMMJwCQXYMj6+rQ6fTQ0NCGhgayrq6MOp+0q+menp50Ov3mzZu6unr29vaj8BunEPqzcuVKl1mzRliIvb39tv+OdPEHxYPuRy2z5Qun0znJlQAwwpDtCoWBDiUsJBQAurq6qFR92TW49esihEJhc3O7hYWFy6xZsuh8kBQfHx8AsLOzs7W1HYXOBxRk/BYcLIWzrqytrUfooePh4TGoQ2R1MSfoS0ePpbYjKVyRYbPrlyxfJouZjzh19RUeHrMtJk+SnQiBQFBeXu7m5jY6nQ8oQv/DZDJjYmJiYmL4fL5kJWAYJh5XMSlpqPARL6oDimGJvvTU1H/sJvJYajuOlQcAaDRjVydnGXULInp7+ry9vXU0ZHgwPWKmk5OsfwtEyFl/UlNTk5OTN23a9OGHH27YsGGYB2n1A8Ow9PR0lA4PD3d2fuXzpMhUvSP7D6E0n89HAfxfH3zmzZN1gxMKhd7e3pOnTpF1t0ChUPx8fWX9WyBCzvrzyy+/IKdsTU3N+Pj4H37YI1k5yMF248bIAwcOSOCHaqBDqaure1alhLPDPOVu3LA4MFDWDa6lpWXVqlUoaL1MWbJkyWjGapaz/tjY/CNOJApHJgENDfXh4eGWdCuJ28GqVavQILDk0aPX7ZQH2Z18Ks4wTysZIWjn0qghZ/0R/eqPEA6nOT4+nqRD6jd1GT4eHh7p6eksFsvdXXJvdiVyB8WIHDXkrD96enpMJhMAUlNT9x04EBgYKFk5M2bMAIDV76y6fv2aZJMoACAQCPHx8RLXQclriJz1Z+fOncnJyevXr798+XLjYGsvw8TS8lmk/b17Yw8f7r+/dZiEhIQQCP1POFOiZAgUYv+piNftbEa5w+fztbS0uru7Zf21q6ioMBgMWc/st27dKhB07d0bK1Mp4sh//UccpfIoGVsolv4oUTK2UOqPEiWSo9QfJUokR6k/SpRIjlJ/lCiRHKX+KFEiOUr9UaJEcpT6o0SJ5Cj1R4kSyVHqjxIlkqPUHyWAYaNxaB9PIOH+/OEzypsXQEHihyiRF3g8Pjo6ehTcDmP376fpSiHG/NDMm+craxH9UCz/ayVKxhbK8ZsSJZKj1J/XFD6fL75Rl8ViyWgW1E+KxFHKhiNo34EDR4/FoVBko4NSf15TNDU1v/32W9HHNI5ymQAAAVZJREFULVu2yGgWlJCQgBKZmZkJCQkyCvSTnZ0dHx+/Jjw8LCR0Z9Q3KCjAKKDUn9cXOp2OeoPs7OywsDAZSSGoqwNAampqKZOBYpXJguPHj2/fvl1TU1NTU3Pv3tjDhw/JSFA/lPrz+hISEvJr8kUASE9Pnz9/voykEAhqSUlJn3766fp10jnMa1DU1f9xAD2H0yw7WeIo9ef1xczMLD8nFwAEAoHsTNhCYbeBgUFxcfHixYtlJGIgr0v8USXyxd3dIyYmJjw8XKZSPDw80ELT1q1bZSTCyMgYGSoyMzOTkpLcPEcpiJ9y/ee1BsOwFStWXLp0SXYikpKSROdrpKamWllZySgKT0xMjFAoBIC6urrAwMDROUZaqT9KxiF8Pn90hnBK/VGiRHKU8x8lSiRHqT9KlEiOUn+UKJEcpf4oUSI5Sv1RokRylPqjRInkKPVHiRLJ+X9CEpoZmysW5gAAAABJRU5ErkJggg==)"
      ]
    },
    {
      "cell_type": "markdown",
      "metadata": {
        "id": "OKqB-cycIHHH"
      },
      "source": [
        "## Your Code "
      ]
    },
    {
      "cell_type": "code",
      "execution_count": null,
      "metadata": {
        "id": "YRX2Znr8IHHI"
      },
      "outputs": [],
      "source": [
        "#collapse-hide\n",
        "class AttentionHead(nn.Module):\n",
        "  \"\"\"\n",
        "  Implements a single attention head. Multiple heads can be used \n",
        "  in Multi-Head Attention.\n",
        "  \"\"\"\n",
        "  \n",
        "  def __init__(self):\n",
        "    pass\n",
        "\n",
        "  def forward(self):\n",
        "    pass"
      ]
    },
    {
      "cell_type": "markdown",
      "metadata": {
        "id": "xg3Ul8_OIHHI"
      },
      "source": [
        "## Solution"
      ]
    },
    {
      "cell_type": "code",
      "execution_count": null,
      "metadata": {
        "id": "3C1UpigwB_eB"
      },
      "outputs": [],
      "source": [
        "#collapse-hide\n",
        "class AttentionHead(nn.Module):\n",
        "  \"\"\"\n",
        "  Implements a single attention head. Multiple heads can be used \n",
        "  in Multi-Head Attention.\n",
        "  \"\"\"\n",
        "  \n",
        "  def __init__(self, embed_dim, head_dim):\n",
        "    super().__init__()\n",
        "    self.q = nn.Linear(embed_dim, head_dim)\n",
        "    self.k = nn.Linear(embed_dim, head_dim)\n",
        "    self.v = nn.Linear(embed_dim, head_dim)\n",
        "  \n",
        "  def forward(self, hidden_state):\n",
        "    attn_outputs = scaled_dot_product_attention(\n",
        "        self.q(hidden_state), \n",
        "        self.k(hidden_state), \n",
        "        self.v(hidden_state))\n",
        "    return attn_outputs"
      ]
    },
    {
      "cell_type": "markdown",
      "metadata": {
        "id": "Gv_HBT4nCWdP"
      },
      "source": [
        "# Multi-Head Attention"
      ]
    },
    {
      "cell_type": "markdown",
      "metadata": {
        "id": "8MuVpQfSIHvL"
      },
      "source": [
        "## Your Code "
      ]
    },
    {
      "cell_type": "code",
      "execution_count": null,
      "metadata": {
        "id": "DUR8KYC8IHvN"
      },
      "outputs": [],
      "source": [
        "#collapse-hide\n",
        "class MultiHeadAttention(nn.Module):\n",
        "  \"\"\"Creates Multi-Head Attention Layer by\n",
        "  determining embedding dimension, number of heads and \n",
        "  head dimension from the config file.\n",
        "  \"\"\"\n",
        "  def __init__(self):\n",
        "    pass\n",
        "  \n",
        "  def forward(self):\n",
        "    pass"
      ]
    },
    {
      "cell_type": "markdown",
      "metadata": {
        "id": "WgrZX4j7IHvN"
      },
      "source": [
        "## Solution"
      ]
    },
    {
      "cell_type": "code",
      "execution_count": null,
      "metadata": {
        "id": "plG3muhaCY4-"
      },
      "outputs": [],
      "source": [
        "#collapse-hide\n",
        "class MultiHeadAttention(nn.Module):\n",
        "  \"\"\"Creates Multi-Head Attention Layer by\n",
        "  determining embedding dimension, number of heads and \n",
        "  head dimension from the config file.\n",
        "  \"\"\"\n",
        "  def __init__(self, config):\n",
        "    super().__init__()\n",
        "    embed_dim = config.hidden_size\n",
        "    num_heads = config.num_attention_heads\n",
        "    head_dim = embed_dim // num_heads\n",
        "    self.heads = nn.ModuleList(\n",
        "        [AttentionHead(embed_dim, head_dim) for _ in range(num_heads)]\n",
        "        )\n",
        "    self.output_linear = nn.Linear(embed_dim, embed_dim)\n",
        "  \n",
        "  def forward(self, hidden_state):\n",
        "    x = torch.cat([h(hidden_state) for h in self.heads], dim=-1)\n",
        "    x = self.output_linear(x)\n",
        "    return x"
      ]
    },
    {
      "cell_type": "markdown",
      "metadata": {
        "id": "nm4PjIlrCl7X"
      },
      "source": [
        "# Feed Forward \n",
        "\n",
        "![image.png](data:image/png;base64,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)"
      ]
    },
    {
      "cell_type": "markdown",
      "metadata": {
        "id": "P-pICuYoIIpA"
      },
      "source": [
        "## Your Code "
      ]
    },
    {
      "cell_type": "code",
      "execution_count": null,
      "metadata": {
        "id": "RPtv9-i7IIpA"
      },
      "outputs": [],
      "source": [
        "class FeedForward(nn.Module):\n",
        "  \"\"\"Implements feed forward layer with GeLU\n",
        "  and Dropout. Contains 2 Linear layers.\n",
        "  \"\"\"\n",
        "  def __init__(self):\n",
        "    pass\n",
        "  def forward(self):\n",
        "    pass"
      ]
    },
    {
      "cell_type": "markdown",
      "metadata": {
        "id": "iYKCBbePIIpB"
      },
      "source": [
        "## Solution"
      ]
    },
    {
      "cell_type": "code",
      "execution_count": 14,
      "metadata": {
        "id": "FAo4hMXdCoZx"
      },
      "outputs": [],
      "source": [
        "#collapse-hide\n",
        "class FeedForward(nn.Module):\n",
        "  \"\"\"Implements feed forward layer with GeLU\n",
        "  and Dropout. Contains 2 Linear layers.\n",
        "  \"\"\"\n",
        "  def __init__(self, config):\n",
        "    super().__init__()\n",
        "    self.linear_1 = nn.Linear(config.hidden_size, config.intermediate_size)\n",
        "    self.linear_2 = nn.Linear(config.intermediate_size, config.hidden_size)\n",
        "    self.gelu = nn.GELU()\n",
        "    self.dropout = nn.Dropout(config.hidden_dropout_prob)\n",
        "\n",
        "  def forward(self, x):\n",
        "    x = self.linear_1(x)\n",
        "    x = self.gelu(x)\n",
        "    x = self.linear_2(x)\n",
        "    x = self.dropout(x)\n",
        "    return x"
      ]
    },
    {
      "cell_type": "markdown",
      "metadata": {
        "id": "17M-q-4qCo2-"
      },
      "source": [
        "# Encoder Layer"
      ]
    },
    {
      "cell_type": "markdown",
      "metadata": {
        "id": "Q1zVWbGXIJWs"
      },
      "source": [
        "## Your Code "
      ]
    },
    {
      "cell_type": "code",
      "execution_count": null,
      "metadata": {
        "id": "lymaFSL0IJWs"
      },
      "outputs": [],
      "source": [
        "class TransformerEncoderLayer(nn.Module):\n",
        "  \"\"\" Combines Multi-Head Attention with Layer Normalization, \n",
        "  Feed Forward Layer and skip connections to obtain an Encoder Layer.\n",
        "  \"\"\"\n",
        "  def __init__(self):\n",
        "    pass\n",
        "  def forward(self):\n",
        "    pass"
      ]
    },
    {
      "cell_type": "markdown",
      "metadata": {
        "id": "qnuQRgR_IJWs"
      },
      "source": [
        "## Solution"
      ]
    },
    {
      "cell_type": "code",
      "execution_count": 20,
      "metadata": {
        "id": "Rmiy1KMlDGEU"
      },
      "outputs": [],
      "source": [
        "#collapse-hide\n",
        "class TransformerEncoderLayer(nn.Module):\n",
        "  \"\"\" Combines Multi-Head Attention with Layer Normalization, \n",
        "  Feed Forward Layer and skip connections to obtain an Encoder Layer.\n",
        "  \"\"\"\n",
        "  def __init__(self, config):\n",
        "    super().__init__()\n",
        "    self.layer_norm_1 = nn.LayerNorm(config.hidden_size)\n",
        "    self.layer_norm_2 = nn.LayerNorm(config.hidden_size)\n",
        "    self.attention = MultiHeadAttention(config)\n",
        "    self.feed_forward = FeedForward(config)\n",
        "  \n",
        "  def forward(self, x):\n",
        "    # Apply layer normalization and then copy input into query, key, value\n",
        "    hidden_state = self.layer_norm_1(x)\n",
        "    # Apply attention with a skip connection\n",
        "    x = x + self.attention(hidden_state)\n",
        "    # Apply feed-forward layer with a skip connection\n",
        "    x = x + self.feed_forward(self.layer_norm_2(x))\n",
        "    return x"
      ]
    },
    {
      "cell_type": "markdown",
      "metadata": {
        "id": "VQTswEE6DGf0"
      },
      "source": [
        "# Embeddings"
      ]
    },
    {
      "cell_type": "markdown",
      "metadata": {
        "id": "1oCV06CrIJ84"
      },
      "source": [
        "## Your Code "
      ]
    },
    {
      "cell_type": "code",
      "execution_count": null,
      "metadata": {
        "id": "zwi7KsGlIJ86"
      },
      "outputs": [],
      "source": [
        "#collapse-hide\n",
        "class Embeddings(nn.Module):\n",
        "  \"\"\"Implements token embeddings and positional embbeddings. \n",
        "  \"\"\"\n",
        "  def __init__(self):\n",
        "    pass\n",
        "  \n",
        "  def forward(self):\n",
        "    pass"
      ]
    },
    {
      "cell_type": "markdown",
      "metadata": {
        "id": "u_m2k5k3IJ87"
      },
      "source": [
        "## Solution"
      ]
    },
    {
      "cell_type": "code",
      "execution_count": null,
      "metadata": {
        "id": "VIOx3oEjDQko"
      },
      "outputs": [],
      "source": [
        "#collapse-hide\n",
        "class Embeddings(nn.Module):\n",
        "  \"\"\"Implements token embeddings and positional embbeddings. \n",
        "  \"\"\"\n",
        "  def __init__(self, config):\n",
        "    super().__init__()\n",
        "    self.token_embeddings = nn.Embedding(config.vocab_size,\n",
        "    config.hidden_size)\n",
        "    self.position_embeddings = nn.Embedding(config.max_position_embeddings,\n",
        "    config.hidden_size)\n",
        "    self.layer_norm = nn.LayerNorm(config.hidden_size, eps=1e-12)\n",
        "    self.dropout = nn.Dropout()\n",
        "  \n",
        "  def forward(self, input_ids):\n",
        "    # Create position IDs for input sequence\n",
        "    seq_length = input_ids.size(1)\n",
        "    position_ids = torch.arange(seq_length, dtype=torch.long).unsqueeze(0)\n",
        "    # Create token and position embeddings\n",
        "    token_embeddings = self.token_embeddings(input_ids)\n",
        "    position_embeddings = self.position_embeddings(position_ids)\n",
        "    # Combine token and position embeddings\n",
        "    embeddings = token_embeddings + position_embeddings\n",
        "    embeddings = self.layer_norm(embeddings)\n",
        "    embeddings = self.dropout(embeddings)\n",
        "    return embeddings"
      ]
    },
    {
      "cell_type": "markdown",
      "metadata": {
        "id": "3hV5RhaJDSYi"
      },
      "source": [
        "# Transformer Encoder"
      ]
    },
    {
      "cell_type": "markdown",
      "metadata": {
        "id": "Hmuyg1UmIKnz"
      },
      "source": [
        "## Your Code "
      ]
    },
    {
      "cell_type": "code",
      "execution_count": null,
      "metadata": {
        "id": "hXPRewuoIKn0"
      },
      "outputs": [],
      "source": [
        "class TransformerEncoder(nn.Module):\n",
        "  \"\"\"Combines the Embedding layer and multiple encoder layers  \n",
        "   to obtain full transformer encoder.\n",
        "  \"\"\"  \n",
        "  def __init__(self):\n",
        "    pass\n",
        "  def forward(self):\n",
        "    pass"
      ]
    },
    {
      "cell_type": "markdown",
      "metadata": {
        "id": "osgwTDQrIKn1"
      },
      "source": [
        "## Solution"
      ]
    },
    {
      "cell_type": "code",
      "execution_count": null,
      "metadata": {
        "id": "S6c6PQtaDUsr"
      },
      "outputs": [],
      "source": [
        "#collapse-hide\n",
        "class TransformerEncoder(nn.Module):\n",
        "  \"\"\"Combines the Embedding layer and multiple encoder layers  \n",
        "   to obtain full transformer encoder.\n",
        "  \"\"\"  \n",
        "  def __init__(self, config):\n",
        "    super().__init__()\n",
        "    self.embeddings = Embeddings(config)\n",
        "    self.layers = nn.ModuleList(\n",
        "        [TransformerEncoderLayer(config)\n",
        "        for _ in range(config.num_hidden_layers)])\n",
        "  \n",
        "  def forward(self, x):\n",
        "    x = self.embeddings(x)\n",
        "    for layer in self.layers:\n",
        "      x = layer(x)\n",
        "    return x"
      ]
    },
    {
      "cell_type": "markdown",
      "metadata": {
        "id": "9YMOOasADZnU"
      },
      "source": [
        "# Classification Head"
      ]
    },
    {
      "cell_type": "markdown",
      "metadata": {
        "id": "DLEbphzhILKd"
      },
      "source": [
        "## Your Code "
      ]
    },
    {
      "cell_type": "code",
      "execution_count": null,
      "metadata": {
        "id": "ffxbjxgBILKd"
      },
      "outputs": [],
      "source": [
        "#collapse-hide\n",
        "class TransformerForSequenceClassification(nn.Module):\n",
        "  \n",
        "  def __init__(self):\n",
        "    pass\n",
        "  def forward(self):\n",
        "    pass"
      ]
    },
    {
      "cell_type": "markdown",
      "metadata": {
        "id": "1mCxoA63ILKe"
      },
      "source": [
        "## Solution"
      ]
    },
    {
      "cell_type": "code",
      "execution_count": null,
      "metadata": {
        "id": "G69Zxx5dDbQo"
      },
      "outputs": [],
      "source": [
        "#collapse-hide\n",
        "class TransformerForSequenceClassification(nn.Module):\n",
        "  \n",
        "  def __init__(self, config):\n",
        "    super().__init__()\n",
        "    self.encoder = TransformerEncoder(config)\n",
        "    self.dropout = nn.Dropout(config.hidden_dropout_prob)\n",
        "    self.classifier = nn.Linear(config.hidden_size, config.num_labels)\n",
        "  \n",
        "  def forward(self, x):\n",
        "    x = self.encoder(x)[:, 0, :] # select hidden state of [CLS] token\n",
        "    x = self.dropout(x)\n",
        "    x = self.classifier(x)\n",
        "    return x"
      ]
    },
    {
      "cell_type": "markdown",
      "metadata": {
        "id": "agHt-1WoDerJ"
      },
      "source": [
        "# Masked Attention\n",
        "\n",
        "Exercise:\n",
        "- Change the `scaled_dot_product_attention` such that it can incorporate a mask. "
      ]
    },
    {
      "cell_type": "markdown",
      "metadata": {
        "id": "sQNpTUcYIL5m"
      },
      "source": [
        "## Your Code "
      ]
    },
    {
      "cell_type": "code",
      "execution_count": null,
      "metadata": {
        "id": "n91oQbVNIL5m"
      },
      "outputs": [],
      "source": [
        "#collapse-hide\n",
        "def scaled_dot_product_attention():\n",
        "  pass"
      ]
    },
    {
      "cell_type": "markdown",
      "metadata": {
        "id": "FqqaWAHFIL5n"
      },
      "source": [
        "## Solution"
      ]
    },
    {
      "cell_type": "code",
      "execution_count": 21,
      "metadata": {
        "id": "l9OawgyJDidR"
      },
      "outputs": [],
      "source": [
        "#collapse-hide\n",
        "def scaled_dot_product_attention(query, key, value, mask=None):\n",
        "  dim_k = query.size(-1)\n",
        "  scores = torch.bmm(query, key.transpose(1, 2)) / sqrt(dim_k)\n",
        "  if mask is not None:\n",
        "    scores = scores.masked_fill(mask == 0, float(\"-inf\"))\n",
        "  weights = F.softmax(scores, dim=-1)\n",
        "  return weights.bmm(value)"
      ]
    },
    {
      "cell_type": "markdown",
      "metadata": {
        "id": "Zw9Eav46Di1S"
      },
      "source": [
        "# Putting it all together: Encoder-Decoder Transformer"
      ]
    },
    {
      "cell_type": "markdown",
      "metadata": {
        "id": "Z_dPX-lVIMbB"
      },
      "source": [
        "## Your Code "
      ]
    },
    {
      "cell_type": "code",
      "execution_count": null,
      "metadata": {
        "id": "2l6aEgLwIMbC"
      },
      "outputs": [],
      "source": []
    },
    {
      "cell_type": "markdown",
      "metadata": {
        "id": "_q1LEHFyIMbC"
      },
      "source": [
        "## Solution"
      ]
    },
    {
      "cell_type": "code",
      "execution_count": null,
      "metadata": {
        "id": "t6VrvlFEOysh"
      },
      "outputs": [],
      "source": [
        "#collapse-hide"
      ]
    }
  ],
  "metadata": {
    "colab": {
      "collapsed_sections": [],
      "name": "Untitled82.ipynb",
      "provenance": []
    },
    "kernelspec": {
      "display_name": "Python 3.6.12 ('MIT_ML')",
      "language": "python",
      "name": "python3"
    },
    "language_info": {
      "name": "python",
      "version": "3.6.12"
    },
    "vscode": {
      "interpreter": {
        "hash": "8201462524ad07e1fbf745595052e2a140950ac55a59577392ee8c394db55d17"
      }
    }
  },
  "nbformat": 4,
  "nbformat_minor": 0
}
