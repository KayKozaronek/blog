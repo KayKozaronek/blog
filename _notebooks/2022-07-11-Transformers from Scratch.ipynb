{
  "nbformat": 4,
  "nbformat_minor": 0,
  "metadata": {
    "colab": {
      "name": "Exercise - Encoder Decoder Transformer.ipynb",
      "provenance": [],
      "collapsed_sections": []
    },
    "kernelspec": {
      "name": "python3",
      "display_name": "Python 3"
    },
    "language_info": {
      "name": "python"
    },
    "widgets": {
      "application/vnd.jupyter.widget-state+json": {
        "c0cff29416194d0485e23001520e398c": {
          "model_module": "@jupyter-widgets/controls",
          "model_name": "HBoxModel",
          "model_module_version": "1.5.0",
          "state": {
            "_dom_classes": [],
            "_model_module": "@jupyter-widgets/controls",
            "_model_module_version": "1.5.0",
            "_model_name": "HBoxModel",
            "_view_count": null,
            "_view_module": "@jupyter-widgets/controls",
            "_view_module_version": "1.5.0",
            "_view_name": "HBoxView",
            "box_style": "",
            "children": [
              "IPY_MODEL_c99904e5f520414e966125a595688c8c",
              "IPY_MODEL_705a0656a7fc4bac8aa796b52184e4b6",
              "IPY_MODEL_249574f6256344cd8ec61bfaf818d097"
            ],
            "layout": "IPY_MODEL_a139fce5f1ad4958bac68fae01cfe0d4"
          }
        },
        "c99904e5f520414e966125a595688c8c": {
          "model_module": "@jupyter-widgets/controls",
          "model_name": "HTMLModel",
          "model_module_version": "1.5.0",
          "state": {
            "_dom_classes": [],
            "_model_module": "@jupyter-widgets/controls",
            "_model_module_version": "1.5.0",
            "_model_name": "HTMLModel",
            "_view_count": null,
            "_view_module": "@jupyter-widgets/controls",
            "_view_module_version": "1.5.0",
            "_view_name": "HTMLView",
            "description": "",
            "description_tooltip": null,
            "layout": "IPY_MODEL_ce2d754581c54ef7a74580bcbe5937e5",
            "placeholder": "​",
            "style": "IPY_MODEL_74fc801c0e9e4952bf2785cd6f055f61",
            "value": "Downloading: 100%"
          }
        },
        "705a0656a7fc4bac8aa796b52184e4b6": {
          "model_module": "@jupyter-widgets/controls",
          "model_name": "FloatProgressModel",
          "model_module_version": "1.5.0",
          "state": {
            "_dom_classes": [],
            "_model_module": "@jupyter-widgets/controls",
            "_model_module_version": "1.5.0",
            "_model_name": "FloatProgressModel",
            "_view_count": null,
            "_view_module": "@jupyter-widgets/controls",
            "_view_module_version": "1.5.0",
            "_view_name": "ProgressView",
            "bar_style": "success",
            "description": "",
            "description_tooltip": null,
            "layout": "IPY_MODEL_7d4dd8454a294a6f828162cc31d66dda",
            "max": 28,
            "min": 0,
            "orientation": "horizontal",
            "style": "IPY_MODEL_ffc4e9869ecf4f4180aacdb6fef5e5e9",
            "value": 28
          }
        },
        "249574f6256344cd8ec61bfaf818d097": {
          "model_module": "@jupyter-widgets/controls",
          "model_name": "HTMLModel",
          "model_module_version": "1.5.0",
          "state": {
            "_dom_classes": [],
            "_model_module": "@jupyter-widgets/controls",
            "_model_module_version": "1.5.0",
            "_model_name": "HTMLModel",
            "_view_count": null,
            "_view_module": "@jupyter-widgets/controls",
            "_view_module_version": "1.5.0",
            "_view_name": "HTMLView",
            "description": "",
            "description_tooltip": null,
            "layout": "IPY_MODEL_19cdec87e4f0435b828661ef0234006b",
            "placeholder": "​",
            "style": "IPY_MODEL_480cc44de4cc4965830726959fbca452",
            "value": " 28.0/28.0 [00:00&lt;00:00, 483B/s]"
          }
        },
        "a139fce5f1ad4958bac68fae01cfe0d4": {
          "model_module": "@jupyter-widgets/base",
          "model_name": "LayoutModel",
          "model_module_version": "1.2.0",
          "state": {
            "_model_module": "@jupyter-widgets/base",
            "_model_module_version": "1.2.0",
            "_model_name": "LayoutModel",
            "_view_count": null,
            "_view_module": "@jupyter-widgets/base",
            "_view_module_version": "1.2.0",
            "_view_name": "LayoutView",
            "align_content": null,
            "align_items": null,
            "align_self": null,
            "border": null,
            "bottom": null,
            "display": null,
            "flex": null,
            "flex_flow": null,
            "grid_area": null,
            "grid_auto_columns": null,
            "grid_auto_flow": null,
            "grid_auto_rows": null,
            "grid_column": null,
            "grid_gap": null,
            "grid_row": null,
            "grid_template_areas": null,
            "grid_template_columns": null,
            "grid_template_rows": null,
            "height": null,
            "justify_content": null,
            "justify_items": null,
            "left": null,
            "margin": null,
            "max_height": null,
            "max_width": null,
            "min_height": null,
            "min_width": null,
            "object_fit": null,
            "object_position": null,
            "order": null,
            "overflow": null,
            "overflow_x": null,
            "overflow_y": null,
            "padding": null,
            "right": null,
            "top": null,
            "visibility": null,
            "width": null
          }
        },
        "ce2d754581c54ef7a74580bcbe5937e5": {
          "model_module": "@jupyter-widgets/base",
          "model_name": "LayoutModel",
          "model_module_version": "1.2.0",
          "state": {
            "_model_module": "@jupyter-widgets/base",
            "_model_module_version": "1.2.0",
            "_model_name": "LayoutModel",
            "_view_count": null,
            "_view_module": "@jupyter-widgets/base",
            "_view_module_version": "1.2.0",
            "_view_name": "LayoutView",
            "align_content": null,
            "align_items": null,
            "align_self": null,
            "border": null,
            "bottom": null,
            "display": null,
            "flex": null,
            "flex_flow": null,
            "grid_area": null,
            "grid_auto_columns": null,
            "grid_auto_flow": null,
            "grid_auto_rows": null,
            "grid_column": null,
            "grid_gap": null,
            "grid_row": null,
            "grid_template_areas": null,
            "grid_template_columns": null,
            "grid_template_rows": null,
            "height": null,
            "justify_content": null,
            "justify_items": null,
            "left": null,
            "margin": null,
            "max_height": null,
            "max_width": null,
            "min_height": null,
            "min_width": null,
            "object_fit": null,
            "object_position": null,
            "order": null,
            "overflow": null,
            "overflow_x": null,
            "overflow_y": null,
            "padding": null,
            "right": null,
            "top": null,
            "visibility": null,
            "width": null
          }
        },
        "74fc801c0e9e4952bf2785cd6f055f61": {
          "model_module": "@jupyter-widgets/controls",
          "model_name": "DescriptionStyleModel",
          "model_module_version": "1.5.0",
          "state": {
            "_model_module": "@jupyter-widgets/controls",
            "_model_module_version": "1.5.0",
            "_model_name": "DescriptionStyleModel",
            "_view_count": null,
            "_view_module": "@jupyter-widgets/base",
            "_view_module_version": "1.2.0",
            "_view_name": "StyleView",
            "description_width": ""
          }
        },
        "7d4dd8454a294a6f828162cc31d66dda": {
          "model_module": "@jupyter-widgets/base",
          "model_name": "LayoutModel",
          "model_module_version": "1.2.0",
          "state": {
            "_model_module": "@jupyter-widgets/base",
            "_model_module_version": "1.2.0",
            "_model_name": "LayoutModel",
            "_view_count": null,
            "_view_module": "@jupyter-widgets/base",
            "_view_module_version": "1.2.0",
            "_view_name": "LayoutView",
            "align_content": null,
            "align_items": null,
            "align_self": null,
            "border": null,
            "bottom": null,
            "display": null,
            "flex": null,
            "flex_flow": null,
            "grid_area": null,
            "grid_auto_columns": null,
            "grid_auto_flow": null,
            "grid_auto_rows": null,
            "grid_column": null,
            "grid_gap": null,
            "grid_row": null,
            "grid_template_areas": null,
            "grid_template_columns": null,
            "grid_template_rows": null,
            "height": null,
            "justify_content": null,
            "justify_items": null,
            "left": null,
            "margin": null,
            "max_height": null,
            "max_width": null,
            "min_height": null,
            "min_width": null,
            "object_fit": null,
            "object_position": null,
            "order": null,
            "overflow": null,
            "overflow_x": null,
            "overflow_y": null,
            "padding": null,
            "right": null,
            "top": null,
            "visibility": null,
            "width": null
          }
        },
        "ffc4e9869ecf4f4180aacdb6fef5e5e9": {
          "model_module": "@jupyter-widgets/controls",
          "model_name": "ProgressStyleModel",
          "model_module_version": "1.5.0",
          "state": {
            "_model_module": "@jupyter-widgets/controls",
            "_model_module_version": "1.5.0",
            "_model_name": "ProgressStyleModel",
            "_view_count": null,
            "_view_module": "@jupyter-widgets/base",
            "_view_module_version": "1.2.0",
            "_view_name": "StyleView",
            "bar_color": null,
            "description_width": ""
          }
        },
        "19cdec87e4f0435b828661ef0234006b": {
          "model_module": "@jupyter-widgets/base",
          "model_name": "LayoutModel",
          "model_module_version": "1.2.0",
          "state": {
            "_model_module": "@jupyter-widgets/base",
            "_model_module_version": "1.2.0",
            "_model_name": "LayoutModel",
            "_view_count": null,
            "_view_module": "@jupyter-widgets/base",
            "_view_module_version": "1.2.0",
            "_view_name": "LayoutView",
            "align_content": null,
            "align_items": null,
            "align_self": null,
            "border": null,
            "bottom": null,
            "display": null,
            "flex": null,
            "flex_flow": null,
            "grid_area": null,
            "grid_auto_columns": null,
            "grid_auto_flow": null,
            "grid_auto_rows": null,
            "grid_column": null,
            "grid_gap": null,
            "grid_row": null,
            "grid_template_areas": null,
            "grid_template_columns": null,
            "grid_template_rows": null,
            "height": null,
            "justify_content": null,
            "justify_items": null,
            "left": null,
            "margin": null,
            "max_height": null,
            "max_width": null,
            "min_height": null,
            "min_width": null,
            "object_fit": null,
            "object_position": null,
            "order": null,
            "overflow": null,
            "overflow_x": null,
            "overflow_y": null,
            "padding": null,
            "right": null,
            "top": null,
            "visibility": null,
            "width": null
          }
        },
        "480cc44de4cc4965830726959fbca452": {
          "model_module": "@jupyter-widgets/controls",
          "model_name": "DescriptionStyleModel",
          "model_module_version": "1.5.0",
          "state": {
            "_model_module": "@jupyter-widgets/controls",
            "_model_module_version": "1.5.0",
            "_model_name": "DescriptionStyleModel",
            "_view_count": null,
            "_view_module": "@jupyter-widgets/base",
            "_view_module_version": "1.2.0",
            "_view_name": "StyleView",
            "description_width": ""
          }
        },
        "91de99ca86e543a3ae6147e3f181341d": {
          "model_module": "@jupyter-widgets/controls",
          "model_name": "HBoxModel",
          "model_module_version": "1.5.0",
          "state": {
            "_dom_classes": [],
            "_model_module": "@jupyter-widgets/controls",
            "_model_module_version": "1.5.0",
            "_model_name": "HBoxModel",
            "_view_count": null,
            "_view_module": "@jupyter-widgets/controls",
            "_view_module_version": "1.5.0",
            "_view_name": "HBoxView",
            "box_style": "",
            "children": [
              "IPY_MODEL_3d065429b27d454292dc66eb0026fb74",
              "IPY_MODEL_f826b8dfc28744bb99f0c9d896db1276",
              "IPY_MODEL_47c627fe738a477e8c1e7189e11bc116"
            ],
            "layout": "IPY_MODEL_8d579fe4c10e440b8927650beaf82490"
          }
        },
        "3d065429b27d454292dc66eb0026fb74": {
          "model_module": "@jupyter-widgets/controls",
          "model_name": "HTMLModel",
          "model_module_version": "1.5.0",
          "state": {
            "_dom_classes": [],
            "_model_module": "@jupyter-widgets/controls",
            "_model_module_version": "1.5.0",
            "_model_name": "HTMLModel",
            "_view_count": null,
            "_view_module": "@jupyter-widgets/controls",
            "_view_module_version": "1.5.0",
            "_view_name": "HTMLView",
            "description": "",
            "description_tooltip": null,
            "layout": "IPY_MODEL_0228dffbb03147a7aa31408f32c29d25",
            "placeholder": "​",
            "style": "IPY_MODEL_b3d6a6ca426f468caee7f28b47118fe4",
            "value": "Downloading: 100%"
          }
        },
        "f826b8dfc28744bb99f0c9d896db1276": {
          "model_module": "@jupyter-widgets/controls",
          "model_name": "FloatProgressModel",
          "model_module_version": "1.5.0",
          "state": {
            "_dom_classes": [],
            "_model_module": "@jupyter-widgets/controls",
            "_model_module_version": "1.5.0",
            "_model_name": "FloatProgressModel",
            "_view_count": null,
            "_view_module": "@jupyter-widgets/controls",
            "_view_module_version": "1.5.0",
            "_view_name": "ProgressView",
            "bar_style": "success",
            "description": "",
            "description_tooltip": null,
            "layout": "IPY_MODEL_5b715618cd884d2694721a5b3b915b50",
            "max": 570,
            "min": 0,
            "orientation": "horizontal",
            "style": "IPY_MODEL_f899b69170004d398c5739a3d0ebb82d",
            "value": 570
          }
        },
        "47c627fe738a477e8c1e7189e11bc116": {
          "model_module": "@jupyter-widgets/controls",
          "model_name": "HTMLModel",
          "model_module_version": "1.5.0",
          "state": {
            "_dom_classes": [],
            "_model_module": "@jupyter-widgets/controls",
            "_model_module_version": "1.5.0",
            "_model_name": "HTMLModel",
            "_view_count": null,
            "_view_module": "@jupyter-widgets/controls",
            "_view_module_version": "1.5.0",
            "_view_name": "HTMLView",
            "description": "",
            "description_tooltip": null,
            "layout": "IPY_MODEL_c257b585a021419aa3c4843f07a1f765",
            "placeholder": "​",
            "style": "IPY_MODEL_d447a61b26a745a2bd6f0fc1c4d03236",
            "value": " 570/570 [00:00&lt;00:00, 9.51kB/s]"
          }
        },
        "8d579fe4c10e440b8927650beaf82490": {
          "model_module": "@jupyter-widgets/base",
          "model_name": "LayoutModel",
          "model_module_version": "1.2.0",
          "state": {
            "_model_module": "@jupyter-widgets/base",
            "_model_module_version": "1.2.0",
            "_model_name": "LayoutModel",
            "_view_count": null,
            "_view_module": "@jupyter-widgets/base",
            "_view_module_version": "1.2.0",
            "_view_name": "LayoutView",
            "align_content": null,
            "align_items": null,
            "align_self": null,
            "border": null,
            "bottom": null,
            "display": null,
            "flex": null,
            "flex_flow": null,
            "grid_area": null,
            "grid_auto_columns": null,
            "grid_auto_flow": null,
            "grid_auto_rows": null,
            "grid_column": null,
            "grid_gap": null,
            "grid_row": null,
            "grid_template_areas": null,
            "grid_template_columns": null,
            "grid_template_rows": null,
            "height": null,
            "justify_content": null,
            "justify_items": null,
            "left": null,
            "margin": null,
            "max_height": null,
            "max_width": null,
            "min_height": null,
            "min_width": null,
            "object_fit": null,
            "object_position": null,
            "order": null,
            "overflow": null,
            "overflow_x": null,
            "overflow_y": null,
            "padding": null,
            "right": null,
            "top": null,
            "visibility": null,
            "width": null
          }
        },
        "0228dffbb03147a7aa31408f32c29d25": {
          "model_module": "@jupyter-widgets/base",
          "model_name": "LayoutModel",
          "model_module_version": "1.2.0",
          "state": {
            "_model_module": "@jupyter-widgets/base",
            "_model_module_version": "1.2.0",
            "_model_name": "LayoutModel",
            "_view_count": null,
            "_view_module": "@jupyter-widgets/base",
            "_view_module_version": "1.2.0",
            "_view_name": "LayoutView",
            "align_content": null,
            "align_items": null,
            "align_self": null,
            "border": null,
            "bottom": null,
            "display": null,
            "flex": null,
            "flex_flow": null,
            "grid_area": null,
            "grid_auto_columns": null,
            "grid_auto_flow": null,
            "grid_auto_rows": null,
            "grid_column": null,
            "grid_gap": null,
            "grid_row": null,
            "grid_template_areas": null,
            "grid_template_columns": null,
            "grid_template_rows": null,
            "height": null,
            "justify_content": null,
            "justify_items": null,
            "left": null,
            "margin": null,
            "max_height": null,
            "max_width": null,
            "min_height": null,
            "min_width": null,
            "object_fit": null,
            "object_position": null,
            "order": null,
            "overflow": null,
            "overflow_x": null,
            "overflow_y": null,
            "padding": null,
            "right": null,
            "top": null,
            "visibility": null,
            "width": null
          }
        },
        "b3d6a6ca426f468caee7f28b47118fe4": {
          "model_module": "@jupyter-widgets/controls",
          "model_name": "DescriptionStyleModel",
          "model_module_version": "1.5.0",
          "state": {
            "_model_module": "@jupyter-widgets/controls",
            "_model_module_version": "1.5.0",
            "_model_name": "DescriptionStyleModel",
            "_view_count": null,
            "_view_module": "@jupyter-widgets/base",
            "_view_module_version": "1.2.0",
            "_view_name": "StyleView",
            "description_width": ""
          }
        },
        "5b715618cd884d2694721a5b3b915b50": {
          "model_module": "@jupyter-widgets/base",
          "model_name": "LayoutModel",
          "model_module_version": "1.2.0",
          "state": {
            "_model_module": "@jupyter-widgets/base",
            "_model_module_version": "1.2.0",
            "_model_name": "LayoutModel",
            "_view_count": null,
            "_view_module": "@jupyter-widgets/base",
            "_view_module_version": "1.2.0",
            "_view_name": "LayoutView",
            "align_content": null,
            "align_items": null,
            "align_self": null,
            "border": null,
            "bottom": null,
            "display": null,
            "flex": null,
            "flex_flow": null,
            "grid_area": null,
            "grid_auto_columns": null,
            "grid_auto_flow": null,
            "grid_auto_rows": null,
            "grid_column": null,
            "grid_gap": null,
            "grid_row": null,
            "grid_template_areas": null,
            "grid_template_columns": null,
            "grid_template_rows": null,
            "height": null,
            "justify_content": null,
            "justify_items": null,
            "left": null,
            "margin": null,
            "max_height": null,
            "max_width": null,
            "min_height": null,
            "min_width": null,
            "object_fit": null,
            "object_position": null,
            "order": null,
            "overflow": null,
            "overflow_x": null,
            "overflow_y": null,
            "padding": null,
            "right": null,
            "top": null,
            "visibility": null,
            "width": null
          }
        },
        "f899b69170004d398c5739a3d0ebb82d": {
          "model_module": "@jupyter-widgets/controls",
          "model_name": "ProgressStyleModel",
          "model_module_version": "1.5.0",
          "state": {
            "_model_module": "@jupyter-widgets/controls",
            "_model_module_version": "1.5.0",
            "_model_name": "ProgressStyleModel",
            "_view_count": null,
            "_view_module": "@jupyter-widgets/base",
            "_view_module_version": "1.2.0",
            "_view_name": "StyleView",
            "bar_color": null,
            "description_width": ""
          }
        },
        "c257b585a021419aa3c4843f07a1f765": {
          "model_module": "@jupyter-widgets/base",
          "model_name": "LayoutModel",
          "model_module_version": "1.2.0",
          "state": {
            "_model_module": "@jupyter-widgets/base",
            "_model_module_version": "1.2.0",
            "_model_name": "LayoutModel",
            "_view_count": null,
            "_view_module": "@jupyter-widgets/base",
            "_view_module_version": "1.2.0",
            "_view_name": "LayoutView",
            "align_content": null,
            "align_items": null,
            "align_self": null,
            "border": null,
            "bottom": null,
            "display": null,
            "flex": null,
            "flex_flow": null,
            "grid_area": null,
            "grid_auto_columns": null,
            "grid_auto_flow": null,
            "grid_auto_rows": null,
            "grid_column": null,
            "grid_gap": null,
            "grid_row": null,
            "grid_template_areas": null,
            "grid_template_columns": null,
            "grid_template_rows": null,
            "height": null,
            "justify_content": null,
            "justify_items": null,
            "left": null,
            "margin": null,
            "max_height": null,
            "max_width": null,
            "min_height": null,
            "min_width": null,
            "object_fit": null,
            "object_position": null,
            "order": null,
            "overflow": null,
            "overflow_x": null,
            "overflow_y": null,
            "padding": null,
            "right": null,
            "top": null,
            "visibility": null,
            "width": null
          }
        },
        "d447a61b26a745a2bd6f0fc1c4d03236": {
          "model_module": "@jupyter-widgets/controls",
          "model_name": "DescriptionStyleModel",
          "model_module_version": "1.5.0",
          "state": {
            "_model_module": "@jupyter-widgets/controls",
            "_model_module_version": "1.5.0",
            "_model_name": "DescriptionStyleModel",
            "_view_count": null,
            "_view_module": "@jupyter-widgets/base",
            "_view_module_version": "1.2.0",
            "_view_name": "StyleView",
            "description_width": ""
          }
        },
        "970ab7ade03e4c3b8f360b659a8a9745": {
          "model_module": "@jupyter-widgets/controls",
          "model_name": "HBoxModel",
          "model_module_version": "1.5.0",
          "state": {
            "_dom_classes": [],
            "_model_module": "@jupyter-widgets/controls",
            "_model_module_version": "1.5.0",
            "_model_name": "HBoxModel",
            "_view_count": null,
            "_view_module": "@jupyter-widgets/controls",
            "_view_module_version": "1.5.0",
            "_view_name": "HBoxView",
            "box_style": "",
            "children": [
              "IPY_MODEL_1dd1294d3e38465aa24e833ebf792e89",
              "IPY_MODEL_7663911e7ff2428a8c23b824be218b44",
              "IPY_MODEL_2b4a83a821df406d904b152d15f707b9"
            ],
            "layout": "IPY_MODEL_3741ce8621134baaaf04cd7ecf60d369"
          }
        },
        "1dd1294d3e38465aa24e833ebf792e89": {
          "model_module": "@jupyter-widgets/controls",
          "model_name": "HTMLModel",
          "model_module_version": "1.5.0",
          "state": {
            "_dom_classes": [],
            "_model_module": "@jupyter-widgets/controls",
            "_model_module_version": "1.5.0",
            "_model_name": "HTMLModel",
            "_view_count": null,
            "_view_module": "@jupyter-widgets/controls",
            "_view_module_version": "1.5.0",
            "_view_name": "HTMLView",
            "description": "",
            "description_tooltip": null,
            "layout": "IPY_MODEL_5c793f46c6b74018815bce8ebc3db014",
            "placeholder": "​",
            "style": "IPY_MODEL_cc0bf0fa565e4046b0669bfbbe77281c",
            "value": "Downloading: 100%"
          }
        },
        "7663911e7ff2428a8c23b824be218b44": {
          "model_module": "@jupyter-widgets/controls",
          "model_name": "FloatProgressModel",
          "model_module_version": "1.5.0",
          "state": {
            "_dom_classes": [],
            "_model_module": "@jupyter-widgets/controls",
            "_model_module_version": "1.5.0",
            "_model_name": "FloatProgressModel",
            "_view_count": null,
            "_view_module": "@jupyter-widgets/controls",
            "_view_module_version": "1.5.0",
            "_view_name": "ProgressView",
            "bar_style": "success",
            "description": "",
            "description_tooltip": null,
            "layout": "IPY_MODEL_225ff669fb0d4317a9e40da4fc20a470",
            "max": 231508,
            "min": 0,
            "orientation": "horizontal",
            "style": "IPY_MODEL_c7ba43133c3b4db78335252d2ec1afaf",
            "value": 231508
          }
        },
        "2b4a83a821df406d904b152d15f707b9": {
          "model_module": "@jupyter-widgets/controls",
          "model_name": "HTMLModel",
          "model_module_version": "1.5.0",
          "state": {
            "_dom_classes": [],
            "_model_module": "@jupyter-widgets/controls",
            "_model_module_version": "1.5.0",
            "_model_name": "HTMLModel",
            "_view_count": null,
            "_view_module": "@jupyter-widgets/controls",
            "_view_module_version": "1.5.0",
            "_view_name": "HTMLView",
            "description": "",
            "description_tooltip": null,
            "layout": "IPY_MODEL_676c7e9391d7439f94839aa800aee64f",
            "placeholder": "​",
            "style": "IPY_MODEL_6b13a46d871f4f1f963c5aa15a0bc339",
            "value": " 226k/226k [00:00&lt;00:00, 1.74MB/s]"
          }
        },
        "3741ce8621134baaaf04cd7ecf60d369": {
          "model_module": "@jupyter-widgets/base",
          "model_name": "LayoutModel",
          "model_module_version": "1.2.0",
          "state": {
            "_model_module": "@jupyter-widgets/base",
            "_model_module_version": "1.2.0",
            "_model_name": "LayoutModel",
            "_view_count": null,
            "_view_module": "@jupyter-widgets/base",
            "_view_module_version": "1.2.0",
            "_view_name": "LayoutView",
            "align_content": null,
            "align_items": null,
            "align_self": null,
            "border": null,
            "bottom": null,
            "display": null,
            "flex": null,
            "flex_flow": null,
            "grid_area": null,
            "grid_auto_columns": null,
            "grid_auto_flow": null,
            "grid_auto_rows": null,
            "grid_column": null,
            "grid_gap": null,
            "grid_row": null,
            "grid_template_areas": null,
            "grid_template_columns": null,
            "grid_template_rows": null,
            "height": null,
            "justify_content": null,
            "justify_items": null,
            "left": null,
            "margin": null,
            "max_height": null,
            "max_width": null,
            "min_height": null,
            "min_width": null,
            "object_fit": null,
            "object_position": null,
            "order": null,
            "overflow": null,
            "overflow_x": null,
            "overflow_y": null,
            "padding": null,
            "right": null,
            "top": null,
            "visibility": null,
            "width": null
          }
        },
        "5c793f46c6b74018815bce8ebc3db014": {
          "model_module": "@jupyter-widgets/base",
          "model_name": "LayoutModel",
          "model_module_version": "1.2.0",
          "state": {
            "_model_module": "@jupyter-widgets/base",
            "_model_module_version": "1.2.0",
            "_model_name": "LayoutModel",
            "_view_count": null,
            "_view_module": "@jupyter-widgets/base",
            "_view_module_version": "1.2.0",
            "_view_name": "LayoutView",
            "align_content": null,
            "align_items": null,
            "align_self": null,
            "border": null,
            "bottom": null,
            "display": null,
            "flex": null,
            "flex_flow": null,
            "grid_area": null,
            "grid_auto_columns": null,
            "grid_auto_flow": null,
            "grid_auto_rows": null,
            "grid_column": null,
            "grid_gap": null,
            "grid_row": null,
            "grid_template_areas": null,
            "grid_template_columns": null,
            "grid_template_rows": null,
            "height": null,
            "justify_content": null,
            "justify_items": null,
            "left": null,
            "margin": null,
            "max_height": null,
            "max_width": null,
            "min_height": null,
            "min_width": null,
            "object_fit": null,
            "object_position": null,
            "order": null,
            "overflow": null,
            "overflow_x": null,
            "overflow_y": null,
            "padding": null,
            "right": null,
            "top": null,
            "visibility": null,
            "width": null
          }
        },
        "cc0bf0fa565e4046b0669bfbbe77281c": {
          "model_module": "@jupyter-widgets/controls",
          "model_name": "DescriptionStyleModel",
          "model_module_version": "1.5.0",
          "state": {
            "_model_module": "@jupyter-widgets/controls",
            "_model_module_version": "1.5.0",
            "_model_name": "DescriptionStyleModel",
            "_view_count": null,
            "_view_module": "@jupyter-widgets/base",
            "_view_module_version": "1.2.0",
            "_view_name": "StyleView",
            "description_width": ""
          }
        },
        "225ff669fb0d4317a9e40da4fc20a470": {
          "model_module": "@jupyter-widgets/base",
          "model_name": "LayoutModel",
          "model_module_version": "1.2.0",
          "state": {
            "_model_module": "@jupyter-widgets/base",
            "_model_module_version": "1.2.0",
            "_model_name": "LayoutModel",
            "_view_count": null,
            "_view_module": "@jupyter-widgets/base",
            "_view_module_version": "1.2.0",
            "_view_name": "LayoutView",
            "align_content": null,
            "align_items": null,
            "align_self": null,
            "border": null,
            "bottom": null,
            "display": null,
            "flex": null,
            "flex_flow": null,
            "grid_area": null,
            "grid_auto_columns": null,
            "grid_auto_flow": null,
            "grid_auto_rows": null,
            "grid_column": null,
            "grid_gap": null,
            "grid_row": null,
            "grid_template_areas": null,
            "grid_template_columns": null,
            "grid_template_rows": null,
            "height": null,
            "justify_content": null,
            "justify_items": null,
            "left": null,
            "margin": null,
            "max_height": null,
            "max_width": null,
            "min_height": null,
            "min_width": null,
            "object_fit": null,
            "object_position": null,
            "order": null,
            "overflow": null,
            "overflow_x": null,
            "overflow_y": null,
            "padding": null,
            "right": null,
            "top": null,
            "visibility": null,
            "width": null
          }
        },
        "c7ba43133c3b4db78335252d2ec1afaf": {
          "model_module": "@jupyter-widgets/controls",
          "model_name": "ProgressStyleModel",
          "model_module_version": "1.5.0",
          "state": {
            "_model_module": "@jupyter-widgets/controls",
            "_model_module_version": "1.5.0",
            "_model_name": "ProgressStyleModel",
            "_view_count": null,
            "_view_module": "@jupyter-widgets/base",
            "_view_module_version": "1.2.0",
            "_view_name": "StyleView",
            "bar_color": null,
            "description_width": ""
          }
        },
        "676c7e9391d7439f94839aa800aee64f": {
          "model_module": "@jupyter-widgets/base",
          "model_name": "LayoutModel",
          "model_module_version": "1.2.0",
          "state": {
            "_model_module": "@jupyter-widgets/base",
            "_model_module_version": "1.2.0",
            "_model_name": "LayoutModel",
            "_view_count": null,
            "_view_module": "@jupyter-widgets/base",
            "_view_module_version": "1.2.0",
            "_view_name": "LayoutView",
            "align_content": null,
            "align_items": null,
            "align_self": null,
            "border": null,
            "bottom": null,
            "display": null,
            "flex": null,
            "flex_flow": null,
            "grid_area": null,
            "grid_auto_columns": null,
            "grid_auto_flow": null,
            "grid_auto_rows": null,
            "grid_column": null,
            "grid_gap": null,
            "grid_row": null,
            "grid_template_areas": null,
            "grid_template_columns": null,
            "grid_template_rows": null,
            "height": null,
            "justify_content": null,
            "justify_items": null,
            "left": null,
            "margin": null,
            "max_height": null,
            "max_width": null,
            "min_height": null,
            "min_width": null,
            "object_fit": null,
            "object_position": null,
            "order": null,
            "overflow": null,
            "overflow_x": null,
            "overflow_y": null,
            "padding": null,
            "right": null,
            "top": null,
            "visibility": null,
            "width": null
          }
        },
        "6b13a46d871f4f1f963c5aa15a0bc339": {
          "model_module": "@jupyter-widgets/controls",
          "model_name": "DescriptionStyleModel",
          "model_module_version": "1.5.0",
          "state": {
            "_model_module": "@jupyter-widgets/controls",
            "_model_module_version": "1.5.0",
            "_model_name": "DescriptionStyleModel",
            "_view_count": null,
            "_view_module": "@jupyter-widgets/base",
            "_view_module_version": "1.2.0",
            "_view_name": "StyleView",
            "description_width": ""
          }
        },
        "f508cdb77a0041889149179b20788a1c": {
          "model_module": "@jupyter-widgets/controls",
          "model_name": "HBoxModel",
          "model_module_version": "1.5.0",
          "state": {
            "_dom_classes": [],
            "_model_module": "@jupyter-widgets/controls",
            "_model_module_version": "1.5.0",
            "_model_name": "HBoxModel",
            "_view_count": null,
            "_view_module": "@jupyter-widgets/controls",
            "_view_module_version": "1.5.0",
            "_view_name": "HBoxView",
            "box_style": "",
            "children": [
              "IPY_MODEL_5d3c6efc7e44407a8fa0a6239052a7e3",
              "IPY_MODEL_d89bfd80dfc040099f5a37d62181acd2",
              "IPY_MODEL_9ae1e57ebdbb421ea1e6f266360900a3"
            ],
            "layout": "IPY_MODEL_14dc0b753870437f8c9c2d41c4d39bd5"
          }
        },
        "5d3c6efc7e44407a8fa0a6239052a7e3": {
          "model_module": "@jupyter-widgets/controls",
          "model_name": "HTMLModel",
          "model_module_version": "1.5.0",
          "state": {
            "_dom_classes": [],
            "_model_module": "@jupyter-widgets/controls",
            "_model_module_version": "1.5.0",
            "_model_name": "HTMLModel",
            "_view_count": null,
            "_view_module": "@jupyter-widgets/controls",
            "_view_module_version": "1.5.0",
            "_view_name": "HTMLView",
            "description": "",
            "description_tooltip": null,
            "layout": "IPY_MODEL_c6312c1384e34f80a3796a5fdf29f094",
            "placeholder": "​",
            "style": "IPY_MODEL_070001ba92894786b771377c314fbf0f",
            "value": "Downloading: 100%"
          }
        },
        "d89bfd80dfc040099f5a37d62181acd2": {
          "model_module": "@jupyter-widgets/controls",
          "model_name": "FloatProgressModel",
          "model_module_version": "1.5.0",
          "state": {
            "_dom_classes": [],
            "_model_module": "@jupyter-widgets/controls",
            "_model_module_version": "1.5.0",
            "_model_name": "FloatProgressModel",
            "_view_count": null,
            "_view_module": "@jupyter-widgets/controls",
            "_view_module_version": "1.5.0",
            "_view_name": "ProgressView",
            "bar_style": "success",
            "description": "",
            "description_tooltip": null,
            "layout": "IPY_MODEL_54d2ee5e0ee34b10a48b2beb416a23f3",
            "max": 466062,
            "min": 0,
            "orientation": "horizontal",
            "style": "IPY_MODEL_e01a2cb63d7148ec86d2a10d4fdb00c6",
            "value": 466062
          }
        },
        "9ae1e57ebdbb421ea1e6f266360900a3": {
          "model_module": "@jupyter-widgets/controls",
          "model_name": "HTMLModel",
          "model_module_version": "1.5.0",
          "state": {
            "_dom_classes": [],
            "_model_module": "@jupyter-widgets/controls",
            "_model_module_version": "1.5.0",
            "_model_name": "HTMLModel",
            "_view_count": null,
            "_view_module": "@jupyter-widgets/controls",
            "_view_module_version": "1.5.0",
            "_view_name": "HTMLView",
            "description": "",
            "description_tooltip": null,
            "layout": "IPY_MODEL_b03295f0a2c34c3abe526912f485c044",
            "placeholder": "​",
            "style": "IPY_MODEL_c36db1d077fe4150840c9a1c03aa6d91",
            "value": " 455k/455k [00:00&lt;00:00, 1.37MB/s]"
          }
        },
        "14dc0b753870437f8c9c2d41c4d39bd5": {
          "model_module": "@jupyter-widgets/base",
          "model_name": "LayoutModel",
          "model_module_version": "1.2.0",
          "state": {
            "_model_module": "@jupyter-widgets/base",
            "_model_module_version": "1.2.0",
            "_model_name": "LayoutModel",
            "_view_count": null,
            "_view_module": "@jupyter-widgets/base",
            "_view_module_version": "1.2.0",
            "_view_name": "LayoutView",
            "align_content": null,
            "align_items": null,
            "align_self": null,
            "border": null,
            "bottom": null,
            "display": null,
            "flex": null,
            "flex_flow": null,
            "grid_area": null,
            "grid_auto_columns": null,
            "grid_auto_flow": null,
            "grid_auto_rows": null,
            "grid_column": null,
            "grid_gap": null,
            "grid_row": null,
            "grid_template_areas": null,
            "grid_template_columns": null,
            "grid_template_rows": null,
            "height": null,
            "justify_content": null,
            "justify_items": null,
            "left": null,
            "margin": null,
            "max_height": null,
            "max_width": null,
            "min_height": null,
            "min_width": null,
            "object_fit": null,
            "object_position": null,
            "order": null,
            "overflow": null,
            "overflow_x": null,
            "overflow_y": null,
            "padding": null,
            "right": null,
            "top": null,
            "visibility": null,
            "width": null
          }
        },
        "c6312c1384e34f80a3796a5fdf29f094": {
          "model_module": "@jupyter-widgets/base",
          "model_name": "LayoutModel",
          "model_module_version": "1.2.0",
          "state": {
            "_model_module": "@jupyter-widgets/base",
            "_model_module_version": "1.2.0",
            "_model_name": "LayoutModel",
            "_view_count": null,
            "_view_module": "@jupyter-widgets/base",
            "_view_module_version": "1.2.0",
            "_view_name": "LayoutView",
            "align_content": null,
            "align_items": null,
            "align_self": null,
            "border": null,
            "bottom": null,
            "display": null,
            "flex": null,
            "flex_flow": null,
            "grid_area": null,
            "grid_auto_columns": null,
            "grid_auto_flow": null,
            "grid_auto_rows": null,
            "grid_column": null,
            "grid_gap": null,
            "grid_row": null,
            "grid_template_areas": null,
            "grid_template_columns": null,
            "grid_template_rows": null,
            "height": null,
            "justify_content": null,
            "justify_items": null,
            "left": null,
            "margin": null,
            "max_height": null,
            "max_width": null,
            "min_height": null,
            "min_width": null,
            "object_fit": null,
            "object_position": null,
            "order": null,
            "overflow": null,
            "overflow_x": null,
            "overflow_y": null,
            "padding": null,
            "right": null,
            "top": null,
            "visibility": null,
            "width": null
          }
        },
        "070001ba92894786b771377c314fbf0f": {
          "model_module": "@jupyter-widgets/controls",
          "model_name": "DescriptionStyleModel",
          "model_module_version": "1.5.0",
          "state": {
            "_model_module": "@jupyter-widgets/controls",
            "_model_module_version": "1.5.0",
            "_model_name": "DescriptionStyleModel",
            "_view_count": null,
            "_view_module": "@jupyter-widgets/base",
            "_view_module_version": "1.2.0",
            "_view_name": "StyleView",
            "description_width": ""
          }
        },
        "54d2ee5e0ee34b10a48b2beb416a23f3": {
          "model_module": "@jupyter-widgets/base",
          "model_name": "LayoutModel",
          "model_module_version": "1.2.0",
          "state": {
            "_model_module": "@jupyter-widgets/base",
            "_model_module_version": "1.2.0",
            "_model_name": "LayoutModel",
            "_view_count": null,
            "_view_module": "@jupyter-widgets/base",
            "_view_module_version": "1.2.0",
            "_view_name": "LayoutView",
            "align_content": null,
            "align_items": null,
            "align_self": null,
            "border": null,
            "bottom": null,
            "display": null,
            "flex": null,
            "flex_flow": null,
            "grid_area": null,
            "grid_auto_columns": null,
            "grid_auto_flow": null,
            "grid_auto_rows": null,
            "grid_column": null,
            "grid_gap": null,
            "grid_row": null,
            "grid_template_areas": null,
            "grid_template_columns": null,
            "grid_template_rows": null,
            "height": null,
            "justify_content": null,
            "justify_items": null,
            "left": null,
            "margin": null,
            "max_height": null,
            "max_width": null,
            "min_height": null,
            "min_width": null,
            "object_fit": null,
            "object_position": null,
            "order": null,
            "overflow": null,
            "overflow_x": null,
            "overflow_y": null,
            "padding": null,
            "right": null,
            "top": null,
            "visibility": null,
            "width": null
          }
        },
        "e01a2cb63d7148ec86d2a10d4fdb00c6": {
          "model_module": "@jupyter-widgets/controls",
          "model_name": "ProgressStyleModel",
          "model_module_version": "1.5.0",
          "state": {
            "_model_module": "@jupyter-widgets/controls",
            "_model_module_version": "1.5.0",
            "_model_name": "ProgressStyleModel",
            "_view_count": null,
            "_view_module": "@jupyter-widgets/base",
            "_view_module_version": "1.2.0",
            "_view_name": "StyleView",
            "bar_color": null,
            "description_width": ""
          }
        },
        "b03295f0a2c34c3abe526912f485c044": {
          "model_module": "@jupyter-widgets/base",
          "model_name": "LayoutModel",
          "model_module_version": "1.2.0",
          "state": {
            "_model_module": "@jupyter-widgets/base",
            "_model_module_version": "1.2.0",
            "_model_name": "LayoutModel",
            "_view_count": null,
            "_view_module": "@jupyter-widgets/base",
            "_view_module_version": "1.2.0",
            "_view_name": "LayoutView",
            "align_content": null,
            "align_items": null,
            "align_self": null,
            "border": null,
            "bottom": null,
            "display": null,
            "flex": null,
            "flex_flow": null,
            "grid_area": null,
            "grid_auto_columns": null,
            "grid_auto_flow": null,
            "grid_auto_rows": null,
            "grid_column": null,
            "grid_gap": null,
            "grid_row": null,
            "grid_template_areas": null,
            "grid_template_columns": null,
            "grid_template_rows": null,
            "height": null,
            "justify_content": null,
            "justify_items": null,
            "left": null,
            "margin": null,
            "max_height": null,
            "max_width": null,
            "min_height": null,
            "min_width": null,
            "object_fit": null,
            "object_position": null,
            "order": null,
            "overflow": null,
            "overflow_x": null,
            "overflow_y": null,
            "padding": null,
            "right": null,
            "top": null,
            "visibility": null,
            "width": null
          }
        },
        "c36db1d077fe4150840c9a1c03aa6d91": {
          "model_module": "@jupyter-widgets/controls",
          "model_name": "DescriptionStyleModel",
          "model_module_version": "1.5.0",
          "state": {
            "_model_module": "@jupyter-widgets/controls",
            "_model_module_version": "1.5.0",
            "_model_name": "DescriptionStyleModel",
            "_view_count": null,
            "_view_module": "@jupyter-widgets/base",
            "_view_module_version": "1.2.0",
            "_view_name": "StyleView",
            "description_width": ""
          }
        },
        "6eceffb3d4ef4f8ca0e0bab9f37d9edf": {
          "model_module": "@jupyter-widgets/controls",
          "model_name": "HBoxModel",
          "model_module_version": "1.5.0",
          "state": {
            "_dom_classes": [],
            "_model_module": "@jupyter-widgets/controls",
            "_model_module_version": "1.5.0",
            "_model_name": "HBoxModel",
            "_view_count": null,
            "_view_module": "@jupyter-widgets/controls",
            "_view_module_version": "1.5.0",
            "_view_name": "HBoxView",
            "box_style": "",
            "children": [
              "IPY_MODEL_6b86a41d742543819a2591ad6680480b",
              "IPY_MODEL_18872750d7bf49a9a4e1ab659eecdecb",
              "IPY_MODEL_ecbe1be9218b4d77913561f5a967b7fb"
            ],
            "layout": "IPY_MODEL_2ba4469d38234dca885a387d134117b3"
          }
        },
        "6b86a41d742543819a2591ad6680480b": {
          "model_module": "@jupyter-widgets/controls",
          "model_name": "HTMLModel",
          "model_module_version": "1.5.0",
          "state": {
            "_dom_classes": [],
            "_model_module": "@jupyter-widgets/controls",
            "_model_module_version": "1.5.0",
            "_model_name": "HTMLModel",
            "_view_count": null,
            "_view_module": "@jupyter-widgets/controls",
            "_view_module_version": "1.5.0",
            "_view_name": "HTMLView",
            "description": "",
            "description_tooltip": null,
            "layout": "IPY_MODEL_4e603fb03d594f2895e30192883b8deb",
            "placeholder": "​",
            "style": "IPY_MODEL_b307e7b43b32416888cff2e95d3fe3a1",
            "value": "Downloading: 100%"
          }
        },
        "18872750d7bf49a9a4e1ab659eecdecb": {
          "model_module": "@jupyter-widgets/controls",
          "model_name": "FloatProgressModel",
          "model_module_version": "1.5.0",
          "state": {
            "_dom_classes": [],
            "_model_module": "@jupyter-widgets/controls",
            "_model_module_version": "1.5.0",
            "_model_name": "FloatProgressModel",
            "_view_count": null,
            "_view_module": "@jupyter-widgets/controls",
            "_view_module_version": "1.5.0",
            "_view_name": "ProgressView",
            "bar_style": "success",
            "description": "",
            "description_tooltip": null,
            "layout": "IPY_MODEL_1dbdc9d371204e249e7bdb14353794f1",
            "max": 440473133,
            "min": 0,
            "orientation": "horizontal",
            "style": "IPY_MODEL_17266a458ec046308294d3039ea94594",
            "value": 440473133
          }
        },
        "ecbe1be9218b4d77913561f5a967b7fb": {
          "model_module": "@jupyter-widgets/controls",
          "model_name": "HTMLModel",
          "model_module_version": "1.5.0",
          "state": {
            "_dom_classes": [],
            "_model_module": "@jupyter-widgets/controls",
            "_model_module_version": "1.5.0",
            "_model_name": "HTMLModel",
            "_view_count": null,
            "_view_module": "@jupyter-widgets/controls",
            "_view_module_version": "1.5.0",
            "_view_name": "HTMLView",
            "description": "",
            "description_tooltip": null,
            "layout": "IPY_MODEL_cec079ab3fac43bf92962db02dbadf13",
            "placeholder": "​",
            "style": "IPY_MODEL_7347a52501fc4d78bd2960f5d8dcbd08",
            "value": " 420M/420M [00:10&lt;00:00, 48.5MB/s]"
          }
        },
        "2ba4469d38234dca885a387d134117b3": {
          "model_module": "@jupyter-widgets/base",
          "model_name": "LayoutModel",
          "model_module_version": "1.2.0",
          "state": {
            "_model_module": "@jupyter-widgets/base",
            "_model_module_version": "1.2.0",
            "_model_name": "LayoutModel",
            "_view_count": null,
            "_view_module": "@jupyter-widgets/base",
            "_view_module_version": "1.2.0",
            "_view_name": "LayoutView",
            "align_content": null,
            "align_items": null,
            "align_self": null,
            "border": null,
            "bottom": null,
            "display": null,
            "flex": null,
            "flex_flow": null,
            "grid_area": null,
            "grid_auto_columns": null,
            "grid_auto_flow": null,
            "grid_auto_rows": null,
            "grid_column": null,
            "grid_gap": null,
            "grid_row": null,
            "grid_template_areas": null,
            "grid_template_columns": null,
            "grid_template_rows": null,
            "height": null,
            "justify_content": null,
            "justify_items": null,
            "left": null,
            "margin": null,
            "max_height": null,
            "max_width": null,
            "min_height": null,
            "min_width": null,
            "object_fit": null,
            "object_position": null,
            "order": null,
            "overflow": null,
            "overflow_x": null,
            "overflow_y": null,
            "padding": null,
            "right": null,
            "top": null,
            "visibility": null,
            "width": null
          }
        },
        "4e603fb03d594f2895e30192883b8deb": {
          "model_module": "@jupyter-widgets/base",
          "model_name": "LayoutModel",
          "model_module_version": "1.2.0",
          "state": {
            "_model_module": "@jupyter-widgets/base",
            "_model_module_version": "1.2.0",
            "_model_name": "LayoutModel",
            "_view_count": null,
            "_view_module": "@jupyter-widgets/base",
            "_view_module_version": "1.2.0",
            "_view_name": "LayoutView",
            "align_content": null,
            "align_items": null,
            "align_self": null,
            "border": null,
            "bottom": null,
            "display": null,
            "flex": null,
            "flex_flow": null,
            "grid_area": null,
            "grid_auto_columns": null,
            "grid_auto_flow": null,
            "grid_auto_rows": null,
            "grid_column": null,
            "grid_gap": null,
            "grid_row": null,
            "grid_template_areas": null,
            "grid_template_columns": null,
            "grid_template_rows": null,
            "height": null,
            "justify_content": null,
            "justify_items": null,
            "left": null,
            "margin": null,
            "max_height": null,
            "max_width": null,
            "min_height": null,
            "min_width": null,
            "object_fit": null,
            "object_position": null,
            "order": null,
            "overflow": null,
            "overflow_x": null,
            "overflow_y": null,
            "padding": null,
            "right": null,
            "top": null,
            "visibility": null,
            "width": null
          }
        },
        "b307e7b43b32416888cff2e95d3fe3a1": {
          "model_module": "@jupyter-widgets/controls",
          "model_name": "DescriptionStyleModel",
          "model_module_version": "1.5.0",
          "state": {
            "_model_module": "@jupyter-widgets/controls",
            "_model_module_version": "1.5.0",
            "_model_name": "DescriptionStyleModel",
            "_view_count": null,
            "_view_module": "@jupyter-widgets/base",
            "_view_module_version": "1.2.0",
            "_view_name": "StyleView",
            "description_width": ""
          }
        },
        "1dbdc9d371204e249e7bdb14353794f1": {
          "model_module": "@jupyter-widgets/base",
          "model_name": "LayoutModel",
          "model_module_version": "1.2.0",
          "state": {
            "_model_module": "@jupyter-widgets/base",
            "_model_module_version": "1.2.0",
            "_model_name": "LayoutModel",
            "_view_count": null,
            "_view_module": "@jupyter-widgets/base",
            "_view_module_version": "1.2.0",
            "_view_name": "LayoutView",
            "align_content": null,
            "align_items": null,
            "align_self": null,
            "border": null,
            "bottom": null,
            "display": null,
            "flex": null,
            "flex_flow": null,
            "grid_area": null,
            "grid_auto_columns": null,
            "grid_auto_flow": null,
            "grid_auto_rows": null,
            "grid_column": null,
            "grid_gap": null,
            "grid_row": null,
            "grid_template_areas": null,
            "grid_template_columns": null,
            "grid_template_rows": null,
            "height": null,
            "justify_content": null,
            "justify_items": null,
            "left": null,
            "margin": null,
            "max_height": null,
            "max_width": null,
            "min_height": null,
            "min_width": null,
            "object_fit": null,
            "object_position": null,
            "order": null,
            "overflow": null,
            "overflow_x": null,
            "overflow_y": null,
            "padding": null,
            "right": null,
            "top": null,
            "visibility": null,
            "width": null
          }
        },
        "17266a458ec046308294d3039ea94594": {
          "model_module": "@jupyter-widgets/controls",
          "model_name": "ProgressStyleModel",
          "model_module_version": "1.5.0",
          "state": {
            "_model_module": "@jupyter-widgets/controls",
            "_model_module_version": "1.5.0",
            "_model_name": "ProgressStyleModel",
            "_view_count": null,
            "_view_module": "@jupyter-widgets/base",
            "_view_module_version": "1.2.0",
            "_view_name": "StyleView",
            "bar_color": null,
            "description_width": ""
          }
        },
        "cec079ab3fac43bf92962db02dbadf13": {
          "model_module": "@jupyter-widgets/base",
          "model_name": "LayoutModel",
          "model_module_version": "1.2.0",
          "state": {
            "_model_module": "@jupyter-widgets/base",
            "_model_module_version": "1.2.0",
            "_model_name": "LayoutModel",
            "_view_count": null,
            "_view_module": "@jupyter-widgets/base",
            "_view_module_version": "1.2.0",
            "_view_name": "LayoutView",
            "align_content": null,
            "align_items": null,
            "align_self": null,
            "border": null,
            "bottom": null,
            "display": null,
            "flex": null,
            "flex_flow": null,
            "grid_area": null,
            "grid_auto_columns": null,
            "grid_auto_flow": null,
            "grid_auto_rows": null,
            "grid_column": null,
            "grid_gap": null,
            "grid_row": null,
            "grid_template_areas": null,
            "grid_template_columns": null,
            "grid_template_rows": null,
            "height": null,
            "justify_content": null,
            "justify_items": null,
            "left": null,
            "margin": null,
            "max_height": null,
            "max_width": null,
            "min_height": null,
            "min_width": null,
            "object_fit": null,
            "object_position": null,
            "order": null,
            "overflow": null,
            "overflow_x": null,
            "overflow_y": null,
            "padding": null,
            "right": null,
            "top": null,
            "visibility": null,
            "width": null
          }
        },
        "7347a52501fc4d78bd2960f5d8dcbd08": {
          "model_module": "@jupyter-widgets/controls",
          "model_name": "DescriptionStyleModel",
          "model_module_version": "1.5.0",
          "state": {
            "_model_module": "@jupyter-widgets/controls",
            "_model_module_version": "1.5.0",
            "_model_name": "DescriptionStyleModel",
            "_view_count": null,
            "_view_module": "@jupyter-widgets/base",
            "_view_module_version": "1.2.0",
            "_view_name": "StyleView",
            "description_width": ""
          }
        }
      }
    }
  },
  "cells": [
    {
      "cell_type": "markdown",
      "source": [
        "# Exercise - Encoder Decoder Transformer\n",
        "> \"This exercise guides you to a full implementation of a transformer with Pytorch and HuggingFace.\"\n",
        "\n",
        "- toc: false\n",
        "- badges: true\n",
        "- comments: true\n",
        "- categories: [Attention is all you need, Transformer, Pytorch, NLP, Coding Exercise, HuggingFace]\n",
        "- image: images/coding.png\n"
      ],
      "metadata": {
        "id": "8Ol9CGzyDn4n"
      }
    },
    {
      "cell_type": "markdown",
      "source": [
        "\"This exercise guides you to a [full implementation of a transformer](https://arxiv.org/pdf/1706.03762.pdf) with Pytorch and HuggingFace\""
      ],
      "metadata": {
        "id": "15VWdCshMqfI"
      }
    },
    {
      "cell_type": "code",
      "source": [
        "#hide\n",
        "!pip install transformers "
      ],
      "metadata": {
        "id": "-g_Ud8XyL6VK",
        "colab": {
          "base_uri": "https://localhost:8080/"
        },
        "outputId": "0b9c2dd6-66d2-499b-c9e3-b9d16146783f"
      },
      "execution_count": 1,
      "outputs": [
        {
          "output_type": "stream",
          "name": "stdout",
          "text": [
            "Looking in indexes: https://pypi.org/simple, https://us-python.pkg.dev/colab-wheels/public/simple/\n",
            "Collecting transformers\n",
            "  Downloading transformers-4.20.1-py3-none-any.whl (4.4 MB)\n",
            "\u001b[K     |████████████████████████████████| 4.4 MB 5.4 MB/s \n",
            "\u001b[?25hRequirement already satisfied: numpy>=1.17 in /usr/local/lib/python3.7/dist-packages (from transformers) (1.21.6)\n",
            "Requirement already satisfied: tqdm>=4.27 in /usr/local/lib/python3.7/dist-packages (from transformers) (4.64.0)\n",
            "Requirement already satisfied: importlib-metadata in /usr/local/lib/python3.7/dist-packages (from transformers) (4.12.0)\n",
            "Requirement already satisfied: filelock in /usr/local/lib/python3.7/dist-packages (from transformers) (3.7.1)\n",
            "Collecting huggingface-hub<1.0,>=0.1.0\n",
            "  Downloading huggingface_hub-0.8.1-py3-none-any.whl (101 kB)\n",
            "\u001b[K     |████████████████████████████████| 101 kB 13.4 MB/s \n",
            "\u001b[?25hCollecting tokenizers!=0.11.3,<0.13,>=0.11.1\n",
            "  Downloading tokenizers-0.12.1-cp37-cp37m-manylinux_2_12_x86_64.manylinux2010_x86_64.whl (6.6 MB)\n",
            "\u001b[K     |████████████████████████████████| 6.6 MB 34.0 MB/s \n",
            "\u001b[?25hCollecting pyyaml>=5.1\n",
            "  Downloading PyYAML-6.0-cp37-cp37m-manylinux_2_5_x86_64.manylinux1_x86_64.manylinux_2_12_x86_64.manylinux2010_x86_64.whl (596 kB)\n",
            "\u001b[K     |████████████████████████████████| 596 kB 40.0 MB/s \n",
            "\u001b[?25hRequirement already satisfied: packaging>=20.0 in /usr/local/lib/python3.7/dist-packages (from transformers) (21.3)\n",
            "Requirement already satisfied: requests in /usr/local/lib/python3.7/dist-packages (from transformers) (2.23.0)\n",
            "Requirement already satisfied: regex!=2019.12.17 in /usr/local/lib/python3.7/dist-packages (from transformers) (2022.6.2)\n",
            "Requirement already satisfied: typing-extensions>=3.7.4.3 in /usr/local/lib/python3.7/dist-packages (from huggingface-hub<1.0,>=0.1.0->transformers) (4.1.1)\n",
            "Requirement already satisfied: pyparsing!=3.0.5,>=2.0.2 in /usr/local/lib/python3.7/dist-packages (from packaging>=20.0->transformers) (3.0.9)\n",
            "Requirement already satisfied: zipp>=0.5 in /usr/local/lib/python3.7/dist-packages (from importlib-metadata->transformers) (3.8.0)\n",
            "Requirement already satisfied: chardet<4,>=3.0.2 in /usr/local/lib/python3.7/dist-packages (from requests->transformers) (3.0.4)\n",
            "Requirement already satisfied: urllib3!=1.25.0,!=1.25.1,<1.26,>=1.21.1 in /usr/local/lib/python3.7/dist-packages (from requests->transformers) (1.24.3)\n",
            "Requirement already satisfied: idna<3,>=2.5 in /usr/local/lib/python3.7/dist-packages (from requests->transformers) (2.10)\n",
            "Requirement already satisfied: certifi>=2017.4.17 in /usr/local/lib/python3.7/dist-packages (from requests->transformers) (2022.6.15)\n",
            "Installing collected packages: pyyaml, tokenizers, huggingface-hub, transformers\n",
            "  Attempting uninstall: pyyaml\n",
            "    Found existing installation: PyYAML 3.13\n",
            "    Uninstalling PyYAML-3.13:\n",
            "      Successfully uninstalled PyYAML-3.13\n",
            "Successfully installed huggingface-hub-0.8.1 pyyaml-6.0 tokenizers-0.12.1 transformers-4.20.1\n"
          ]
        }
      ]
    },
    {
      "cell_type": "markdown",
      "source": [
        "# Imports"
      ],
      "metadata": {
        "id": "1VSSjhLXDpzd"
      }
    },
    {
      "cell_type": "code",
      "source": [
        "from transformers import AutoTokenizer\n",
        "from transformers import AutoModel\n",
        "from transformers import AutoConfig\n",
        "\n",
        "from torch import nn\n",
        "import torch.nn.functional as F\n",
        "import torch\n",
        " \n",
        "from math import sqrt"
      ],
      "metadata": {
        "id": "lBUjAj9zDrA6"
      },
      "execution_count": 2,
      "outputs": []
    },
    {
      "cell_type": "markdown",
      "source": [
        "# Tokenizer \n",
        "\n",
        "Let's begin by looking at the tokenizer. It is essentially transforming your text into numerical values that your transformer will be able to \"understand\".\n",
        "\n",
        "**Exercise:**\n",
        "- Load the tokenizer for `bert-base-uncased` from HuggingFace\n",
        "- `Tokenize` the following text and return it as a `PyTorch Tensor`: \"time flies like an arrow\"\n",
        "- Print the `input ids` of the tokenized text\n",
        "\n"
      ],
      "metadata": {
        "id": "xrhVHKNTAECx"
      }
    },
    {
      "cell_type": "markdown",
      "source": [
        "**Your Code:** "
      ],
      "metadata": {
        "id": "bEzrL9F1H6dr"
      }
    },
    {
      "cell_type": "code",
      "source": [
        ""
      ],
      "metadata": {
        "id": "YjhAyw4iH83U"
      },
      "execution_count": null,
      "outputs": []
    },
    {
      "cell_type": "markdown",
      "source": [
        "**Solution:**"
      ],
      "metadata": {
        "id": "nJaXGSFyH5P2"
      }
    },
    {
      "cell_type": "code",
      "source": [
        "#collapse-hide collapse-output\n",
        "model_ckpt = \"bert-base-uncased\"\n",
        "tokenizer = AutoTokenizer.from_pretrained(model_ckpt)\n",
        "text = \"time flies like an arrow\"\n",
        "\n",
        "inputs = tokenizer(text, return_tensors=\"pt\", add_special_tokens=True)\n",
        "inputs.input_ids"
      ],
      "metadata": {
        "colab": {
          "base_uri": "https://localhost:8080/",
          "height": 162,
          "referenced_widgets": [
            "c0cff29416194d0485e23001520e398c",
            "c99904e5f520414e966125a595688c8c",
            "705a0656a7fc4bac8aa796b52184e4b6",
            "249574f6256344cd8ec61bfaf818d097",
            "a139fce5f1ad4958bac68fae01cfe0d4",
            "ce2d754581c54ef7a74580bcbe5937e5",
            "74fc801c0e9e4952bf2785cd6f055f61",
            "7d4dd8454a294a6f828162cc31d66dda",
            "ffc4e9869ecf4f4180aacdb6fef5e5e9",
            "19cdec87e4f0435b828661ef0234006b",
            "480cc44de4cc4965830726959fbca452",
            "91de99ca86e543a3ae6147e3f181341d",
            "3d065429b27d454292dc66eb0026fb74",
            "f826b8dfc28744bb99f0c9d896db1276",
            "47c627fe738a477e8c1e7189e11bc116",
            "8d579fe4c10e440b8927650beaf82490",
            "0228dffbb03147a7aa31408f32c29d25",
            "b3d6a6ca426f468caee7f28b47118fe4",
            "5b715618cd884d2694721a5b3b915b50",
            "f899b69170004d398c5739a3d0ebb82d",
            "c257b585a021419aa3c4843f07a1f765",
            "d447a61b26a745a2bd6f0fc1c4d03236",
            "970ab7ade03e4c3b8f360b659a8a9745",
            "1dd1294d3e38465aa24e833ebf792e89",
            "7663911e7ff2428a8c23b824be218b44",
            "2b4a83a821df406d904b152d15f707b9",
            "3741ce8621134baaaf04cd7ecf60d369",
            "5c793f46c6b74018815bce8ebc3db014",
            "cc0bf0fa565e4046b0669bfbbe77281c",
            "225ff669fb0d4317a9e40da4fc20a470",
            "c7ba43133c3b4db78335252d2ec1afaf",
            "676c7e9391d7439f94839aa800aee64f",
            "6b13a46d871f4f1f963c5aa15a0bc339",
            "f508cdb77a0041889149179b20788a1c",
            "5d3c6efc7e44407a8fa0a6239052a7e3",
            "d89bfd80dfc040099f5a37d62181acd2",
            "9ae1e57ebdbb421ea1e6f266360900a3",
            "14dc0b753870437f8c9c2d41c4d39bd5",
            "c6312c1384e34f80a3796a5fdf29f094",
            "070001ba92894786b771377c314fbf0f",
            "54d2ee5e0ee34b10a48b2beb416a23f3",
            "e01a2cb63d7148ec86d2a10d4fdb00c6",
            "b03295f0a2c34c3abe526912f485c044",
            "c36db1d077fe4150840c9a1c03aa6d91"
          ]
        },
        "id": "Dtf-h715AIcS",
        "outputId": "b147575c-770f-4c51-8a27-5f345319863d"
      },
      "execution_count": 3,
      "outputs": [
        {
          "output_type": "display_data",
          "data": {
            "text/plain": [
              "Downloading:   0%|          | 0.00/28.0 [00:00<?, ?B/s]"
            ],
            "application/vnd.jupyter.widget-view+json": {
              "version_major": 2,
              "version_minor": 0,
              "model_id": "c0cff29416194d0485e23001520e398c"
            }
          },
          "metadata": {}
        },
        {
          "output_type": "display_data",
          "data": {
            "text/plain": [
              "Downloading:   0%|          | 0.00/570 [00:00<?, ?B/s]"
            ],
            "application/vnd.jupyter.widget-view+json": {
              "version_major": 2,
              "version_minor": 0,
              "model_id": "91de99ca86e543a3ae6147e3f181341d"
            }
          },
          "metadata": {}
        },
        {
          "output_type": "display_data",
          "data": {
            "text/plain": [
              "Downloading:   0%|          | 0.00/226k [00:00<?, ?B/s]"
            ],
            "application/vnd.jupyter.widget-view+json": {
              "version_major": 2,
              "version_minor": 0,
              "model_id": "970ab7ade03e4c3b8f360b659a8a9745"
            }
          },
          "metadata": {}
        },
        {
          "output_type": "display_data",
          "data": {
            "text/plain": [
              "Downloading:   0%|          | 0.00/455k [00:00<?, ?B/s]"
            ],
            "application/vnd.jupyter.widget-view+json": {
              "version_major": 2,
              "version_minor": 0,
              "model_id": "f508cdb77a0041889149179b20788a1c"
            }
          },
          "metadata": {}
        },
        {
          "output_type": "execute_result",
          "data": {
            "text/plain": [
              "tensor([[  101,  2051, 10029,  2066,  2019,  8612,   102]])"
            ]
          },
          "metadata": {},
          "execution_count": 3
        }
      ]
    },
    {
      "cell_type": "markdown",
      "source": [
        "# Model\n",
        "\n",
        "Now, let's look at the architecture of the `bert-base-uncased` model. \n",
        "It is important that the `model checkpoint` is the same as the one you used to instantiate your tokenizer.\n",
        "\n",
        "**Exercise:**\n",
        "- Load the pretrained model from HuggingFace \n",
        "- Take a look at the architecture and answer the following questions:\n",
        "  - How many `BertLayers` does the model have? \n",
        "  - What is the dropout probability in the `BertEmbeddings`?\n",
        "  - What is the hidden dimension of the `position_embeddings`and `token_type_embeddings`?"
      ],
      "metadata": {
        "id": "RncpsJ-eAZZ0"
      }
    },
    {
      "cell_type": "markdown",
      "source": [
        "**Your Code:** "
      ],
      "metadata": {
        "id": "KTd2tJEfUCSE"
      }
    },
    {
      "cell_type": "code",
      "source": [
        ""
      ],
      "metadata": {
        "id": "4IYaMZiVUCSI"
      },
      "execution_count": null,
      "outputs": []
    },
    {
      "cell_type": "markdown",
      "source": [
        "**Solution:**"
      ],
      "metadata": {
        "id": "ekm9PYvmUCSJ"
      }
    },
    {
      "cell_type": "markdown",
      "source": [
        "#collapse-hide\n",
        "\n",
        "Answers:\n",
        "- How many BertLayers does the model have?\n",
        "  - **12**\n",
        "- What is the dropout probability in the BertEmbeddings?\n",
        "  - **p=0.1 -> 10%**\n",
        "- What is the hidden dimension of the position_embeddingsand token_type_embeddings?\n",
        "  - **768**"
      ],
      "metadata": {
        "id": "l5WInuDQWkkT"
      }
    },
    {
      "cell_type": "code",
      "source": [
        "#collapse-hide\n",
        "model = AutoModel.from_pretrained(model_ckpt)\n",
        "model"
      ],
      "metadata": {
        "colab": {
          "base_uri": "https://localhost:8080/",
          "height": 1000,
          "referenced_widgets": [
            "6eceffb3d4ef4f8ca0e0bab9f37d9edf",
            "6b86a41d742543819a2591ad6680480b",
            "18872750d7bf49a9a4e1ab659eecdecb",
            "ecbe1be9218b4d77913561f5a967b7fb",
            "2ba4469d38234dca885a387d134117b3",
            "4e603fb03d594f2895e30192883b8deb",
            "b307e7b43b32416888cff2e95d3fe3a1",
            "1dbdc9d371204e249e7bdb14353794f1",
            "17266a458ec046308294d3039ea94594",
            "cec079ab3fac43bf92962db02dbadf13",
            "7347a52501fc4d78bd2960f5d8dcbd08"
          ]
        },
        "id": "9YQ6tnBxAaY4",
        "outputId": "ed75e1ff-bc89-432c-bebf-357c5dc91770"
      },
      "execution_count": 4,
      "outputs": [
        {
          "output_type": "display_data",
          "data": {
            "text/plain": [
              "Downloading:   0%|          | 0.00/420M [00:00<?, ?B/s]"
            ],
            "application/vnd.jupyter.widget-view+json": {
              "version_major": 2,
              "version_minor": 0,
              "model_id": "6eceffb3d4ef4f8ca0e0bab9f37d9edf"
            }
          },
          "metadata": {}
        },
        {
          "output_type": "stream",
          "name": "stderr",
          "text": [
            "Some weights of the model checkpoint at bert-base-uncased were not used when initializing BertModel: ['cls.seq_relationship.weight', 'cls.predictions.transform.LayerNorm.bias', 'cls.predictions.transform.dense.bias', 'cls.predictions.transform.LayerNorm.weight', 'cls.predictions.bias', 'cls.predictions.decoder.weight', 'cls.seq_relationship.bias', 'cls.predictions.transform.dense.weight']\n",
            "- This IS expected if you are initializing BertModel from the checkpoint of a model trained on another task or with another architecture (e.g. initializing a BertForSequenceClassification model from a BertForPreTraining model).\n",
            "- This IS NOT expected if you are initializing BertModel from the checkpoint of a model that you expect to be exactly identical (initializing a BertForSequenceClassification model from a BertForSequenceClassification model).\n"
          ]
        },
        {
          "output_type": "execute_result",
          "data": {
            "text/plain": [
              "BertModel(\n",
              "  (embeddings): BertEmbeddings(\n",
              "    (word_embeddings): Embedding(30522, 768, padding_idx=0)\n",
              "    (position_embeddings): Embedding(512, 768)\n",
              "    (token_type_embeddings): Embedding(2, 768)\n",
              "    (LayerNorm): LayerNorm((768,), eps=1e-12, elementwise_affine=True)\n",
              "    (dropout): Dropout(p=0.1, inplace=False)\n",
              "  )\n",
              "  (encoder): BertEncoder(\n",
              "    (layer): ModuleList(\n",
              "      (0): BertLayer(\n",
              "        (attention): BertAttention(\n",
              "          (self): BertSelfAttention(\n",
              "            (query): Linear(in_features=768, out_features=768, bias=True)\n",
              "            (key): Linear(in_features=768, out_features=768, bias=True)\n",
              "            (value): Linear(in_features=768, out_features=768, bias=True)\n",
              "            (dropout): Dropout(p=0.1, inplace=False)\n",
              "          )\n",
              "          (output): BertSelfOutput(\n",
              "            (dense): Linear(in_features=768, out_features=768, bias=True)\n",
              "            (LayerNorm): LayerNorm((768,), eps=1e-12, elementwise_affine=True)\n",
              "            (dropout): Dropout(p=0.1, inplace=False)\n",
              "          )\n",
              "        )\n",
              "        (intermediate): BertIntermediate(\n",
              "          (dense): Linear(in_features=768, out_features=3072, bias=True)\n",
              "          (intermediate_act_fn): GELUActivation()\n",
              "        )\n",
              "        (output): BertOutput(\n",
              "          (dense): Linear(in_features=3072, out_features=768, bias=True)\n",
              "          (LayerNorm): LayerNorm((768,), eps=1e-12, elementwise_affine=True)\n",
              "          (dropout): Dropout(p=0.1, inplace=False)\n",
              "        )\n",
              "      )\n",
              "      (1): BertLayer(\n",
              "        (attention): BertAttention(\n",
              "          (self): BertSelfAttention(\n",
              "            (query): Linear(in_features=768, out_features=768, bias=True)\n",
              "            (key): Linear(in_features=768, out_features=768, bias=True)\n",
              "            (value): Linear(in_features=768, out_features=768, bias=True)\n",
              "            (dropout): Dropout(p=0.1, inplace=False)\n",
              "          )\n",
              "          (output): BertSelfOutput(\n",
              "            (dense): Linear(in_features=768, out_features=768, bias=True)\n",
              "            (LayerNorm): LayerNorm((768,), eps=1e-12, elementwise_affine=True)\n",
              "            (dropout): Dropout(p=0.1, inplace=False)\n",
              "          )\n",
              "        )\n",
              "        (intermediate): BertIntermediate(\n",
              "          (dense): Linear(in_features=768, out_features=3072, bias=True)\n",
              "          (intermediate_act_fn): GELUActivation()\n",
              "        )\n",
              "        (output): BertOutput(\n",
              "          (dense): Linear(in_features=3072, out_features=768, bias=True)\n",
              "          (LayerNorm): LayerNorm((768,), eps=1e-12, elementwise_affine=True)\n",
              "          (dropout): Dropout(p=0.1, inplace=False)\n",
              "        )\n",
              "      )\n",
              "      (2): BertLayer(\n",
              "        (attention): BertAttention(\n",
              "          (self): BertSelfAttention(\n",
              "            (query): Linear(in_features=768, out_features=768, bias=True)\n",
              "            (key): Linear(in_features=768, out_features=768, bias=True)\n",
              "            (value): Linear(in_features=768, out_features=768, bias=True)\n",
              "            (dropout): Dropout(p=0.1, inplace=False)\n",
              "          )\n",
              "          (output): BertSelfOutput(\n",
              "            (dense): Linear(in_features=768, out_features=768, bias=True)\n",
              "            (LayerNorm): LayerNorm((768,), eps=1e-12, elementwise_affine=True)\n",
              "            (dropout): Dropout(p=0.1, inplace=False)\n",
              "          )\n",
              "        )\n",
              "        (intermediate): BertIntermediate(\n",
              "          (dense): Linear(in_features=768, out_features=3072, bias=True)\n",
              "          (intermediate_act_fn): GELUActivation()\n",
              "        )\n",
              "        (output): BertOutput(\n",
              "          (dense): Linear(in_features=3072, out_features=768, bias=True)\n",
              "          (LayerNorm): LayerNorm((768,), eps=1e-12, elementwise_affine=True)\n",
              "          (dropout): Dropout(p=0.1, inplace=False)\n",
              "        )\n",
              "      )\n",
              "      (3): BertLayer(\n",
              "        (attention): BertAttention(\n",
              "          (self): BertSelfAttention(\n",
              "            (query): Linear(in_features=768, out_features=768, bias=True)\n",
              "            (key): Linear(in_features=768, out_features=768, bias=True)\n",
              "            (value): Linear(in_features=768, out_features=768, bias=True)\n",
              "            (dropout): Dropout(p=0.1, inplace=False)\n",
              "          )\n",
              "          (output): BertSelfOutput(\n",
              "            (dense): Linear(in_features=768, out_features=768, bias=True)\n",
              "            (LayerNorm): LayerNorm((768,), eps=1e-12, elementwise_affine=True)\n",
              "            (dropout): Dropout(p=0.1, inplace=False)\n",
              "          )\n",
              "        )\n",
              "        (intermediate): BertIntermediate(\n",
              "          (dense): Linear(in_features=768, out_features=3072, bias=True)\n",
              "          (intermediate_act_fn): GELUActivation()\n",
              "        )\n",
              "        (output): BertOutput(\n",
              "          (dense): Linear(in_features=3072, out_features=768, bias=True)\n",
              "          (LayerNorm): LayerNorm((768,), eps=1e-12, elementwise_affine=True)\n",
              "          (dropout): Dropout(p=0.1, inplace=False)\n",
              "        )\n",
              "      )\n",
              "      (4): BertLayer(\n",
              "        (attention): BertAttention(\n",
              "          (self): BertSelfAttention(\n",
              "            (query): Linear(in_features=768, out_features=768, bias=True)\n",
              "            (key): Linear(in_features=768, out_features=768, bias=True)\n",
              "            (value): Linear(in_features=768, out_features=768, bias=True)\n",
              "            (dropout): Dropout(p=0.1, inplace=False)\n",
              "          )\n",
              "          (output): BertSelfOutput(\n",
              "            (dense): Linear(in_features=768, out_features=768, bias=True)\n",
              "            (LayerNorm): LayerNorm((768,), eps=1e-12, elementwise_affine=True)\n",
              "            (dropout): Dropout(p=0.1, inplace=False)\n",
              "          )\n",
              "        )\n",
              "        (intermediate): BertIntermediate(\n",
              "          (dense): Linear(in_features=768, out_features=3072, bias=True)\n",
              "          (intermediate_act_fn): GELUActivation()\n",
              "        )\n",
              "        (output): BertOutput(\n",
              "          (dense): Linear(in_features=3072, out_features=768, bias=True)\n",
              "          (LayerNorm): LayerNorm((768,), eps=1e-12, elementwise_affine=True)\n",
              "          (dropout): Dropout(p=0.1, inplace=False)\n",
              "        )\n",
              "      )\n",
              "      (5): BertLayer(\n",
              "        (attention): BertAttention(\n",
              "          (self): BertSelfAttention(\n",
              "            (query): Linear(in_features=768, out_features=768, bias=True)\n",
              "            (key): Linear(in_features=768, out_features=768, bias=True)\n",
              "            (value): Linear(in_features=768, out_features=768, bias=True)\n",
              "            (dropout): Dropout(p=0.1, inplace=False)\n",
              "          )\n",
              "          (output): BertSelfOutput(\n",
              "            (dense): Linear(in_features=768, out_features=768, bias=True)\n",
              "            (LayerNorm): LayerNorm((768,), eps=1e-12, elementwise_affine=True)\n",
              "            (dropout): Dropout(p=0.1, inplace=False)\n",
              "          )\n",
              "        )\n",
              "        (intermediate): BertIntermediate(\n",
              "          (dense): Linear(in_features=768, out_features=3072, bias=True)\n",
              "          (intermediate_act_fn): GELUActivation()\n",
              "        )\n",
              "        (output): BertOutput(\n",
              "          (dense): Linear(in_features=3072, out_features=768, bias=True)\n",
              "          (LayerNorm): LayerNorm((768,), eps=1e-12, elementwise_affine=True)\n",
              "          (dropout): Dropout(p=0.1, inplace=False)\n",
              "        )\n",
              "      )\n",
              "      (6): BertLayer(\n",
              "        (attention): BertAttention(\n",
              "          (self): BertSelfAttention(\n",
              "            (query): Linear(in_features=768, out_features=768, bias=True)\n",
              "            (key): Linear(in_features=768, out_features=768, bias=True)\n",
              "            (value): Linear(in_features=768, out_features=768, bias=True)\n",
              "            (dropout): Dropout(p=0.1, inplace=False)\n",
              "          )\n",
              "          (output): BertSelfOutput(\n",
              "            (dense): Linear(in_features=768, out_features=768, bias=True)\n",
              "            (LayerNorm): LayerNorm((768,), eps=1e-12, elementwise_affine=True)\n",
              "            (dropout): Dropout(p=0.1, inplace=False)\n",
              "          )\n",
              "        )\n",
              "        (intermediate): BertIntermediate(\n",
              "          (dense): Linear(in_features=768, out_features=3072, bias=True)\n",
              "          (intermediate_act_fn): GELUActivation()\n",
              "        )\n",
              "        (output): BertOutput(\n",
              "          (dense): Linear(in_features=3072, out_features=768, bias=True)\n",
              "          (LayerNorm): LayerNorm((768,), eps=1e-12, elementwise_affine=True)\n",
              "          (dropout): Dropout(p=0.1, inplace=False)\n",
              "        )\n",
              "      )\n",
              "      (7): BertLayer(\n",
              "        (attention): BertAttention(\n",
              "          (self): BertSelfAttention(\n",
              "            (query): Linear(in_features=768, out_features=768, bias=True)\n",
              "            (key): Linear(in_features=768, out_features=768, bias=True)\n",
              "            (value): Linear(in_features=768, out_features=768, bias=True)\n",
              "            (dropout): Dropout(p=0.1, inplace=False)\n",
              "          )\n",
              "          (output): BertSelfOutput(\n",
              "            (dense): Linear(in_features=768, out_features=768, bias=True)\n",
              "            (LayerNorm): LayerNorm((768,), eps=1e-12, elementwise_affine=True)\n",
              "            (dropout): Dropout(p=0.1, inplace=False)\n",
              "          )\n",
              "        )\n",
              "        (intermediate): BertIntermediate(\n",
              "          (dense): Linear(in_features=768, out_features=3072, bias=True)\n",
              "          (intermediate_act_fn): GELUActivation()\n",
              "        )\n",
              "        (output): BertOutput(\n",
              "          (dense): Linear(in_features=3072, out_features=768, bias=True)\n",
              "          (LayerNorm): LayerNorm((768,), eps=1e-12, elementwise_affine=True)\n",
              "          (dropout): Dropout(p=0.1, inplace=False)\n",
              "        )\n",
              "      )\n",
              "      (8): BertLayer(\n",
              "        (attention): BertAttention(\n",
              "          (self): BertSelfAttention(\n",
              "            (query): Linear(in_features=768, out_features=768, bias=True)\n",
              "            (key): Linear(in_features=768, out_features=768, bias=True)\n",
              "            (value): Linear(in_features=768, out_features=768, bias=True)\n",
              "            (dropout): Dropout(p=0.1, inplace=False)\n",
              "          )\n",
              "          (output): BertSelfOutput(\n",
              "            (dense): Linear(in_features=768, out_features=768, bias=True)\n",
              "            (LayerNorm): LayerNorm((768,), eps=1e-12, elementwise_affine=True)\n",
              "            (dropout): Dropout(p=0.1, inplace=False)\n",
              "          )\n",
              "        )\n",
              "        (intermediate): BertIntermediate(\n",
              "          (dense): Linear(in_features=768, out_features=3072, bias=True)\n",
              "          (intermediate_act_fn): GELUActivation()\n",
              "        )\n",
              "        (output): BertOutput(\n",
              "          (dense): Linear(in_features=3072, out_features=768, bias=True)\n",
              "          (LayerNorm): LayerNorm((768,), eps=1e-12, elementwise_affine=True)\n",
              "          (dropout): Dropout(p=0.1, inplace=False)\n",
              "        )\n",
              "      )\n",
              "      (9): BertLayer(\n",
              "        (attention): BertAttention(\n",
              "          (self): BertSelfAttention(\n",
              "            (query): Linear(in_features=768, out_features=768, bias=True)\n",
              "            (key): Linear(in_features=768, out_features=768, bias=True)\n",
              "            (value): Linear(in_features=768, out_features=768, bias=True)\n",
              "            (dropout): Dropout(p=0.1, inplace=False)\n",
              "          )\n",
              "          (output): BertSelfOutput(\n",
              "            (dense): Linear(in_features=768, out_features=768, bias=True)\n",
              "            (LayerNorm): LayerNorm((768,), eps=1e-12, elementwise_affine=True)\n",
              "            (dropout): Dropout(p=0.1, inplace=False)\n",
              "          )\n",
              "        )\n",
              "        (intermediate): BertIntermediate(\n",
              "          (dense): Linear(in_features=768, out_features=3072, bias=True)\n",
              "          (intermediate_act_fn): GELUActivation()\n",
              "        )\n",
              "        (output): BertOutput(\n",
              "          (dense): Linear(in_features=3072, out_features=768, bias=True)\n",
              "          (LayerNorm): LayerNorm((768,), eps=1e-12, elementwise_affine=True)\n",
              "          (dropout): Dropout(p=0.1, inplace=False)\n",
              "        )\n",
              "      )\n",
              "      (10): BertLayer(\n",
              "        (attention): BertAttention(\n",
              "          (self): BertSelfAttention(\n",
              "            (query): Linear(in_features=768, out_features=768, bias=True)\n",
              "            (key): Linear(in_features=768, out_features=768, bias=True)\n",
              "            (value): Linear(in_features=768, out_features=768, bias=True)\n",
              "            (dropout): Dropout(p=0.1, inplace=False)\n",
              "          )\n",
              "          (output): BertSelfOutput(\n",
              "            (dense): Linear(in_features=768, out_features=768, bias=True)\n",
              "            (LayerNorm): LayerNorm((768,), eps=1e-12, elementwise_affine=True)\n",
              "            (dropout): Dropout(p=0.1, inplace=False)\n",
              "          )\n",
              "        )\n",
              "        (intermediate): BertIntermediate(\n",
              "          (dense): Linear(in_features=768, out_features=3072, bias=True)\n",
              "          (intermediate_act_fn): GELUActivation()\n",
              "        )\n",
              "        (output): BertOutput(\n",
              "          (dense): Linear(in_features=3072, out_features=768, bias=True)\n",
              "          (LayerNorm): LayerNorm((768,), eps=1e-12, elementwise_affine=True)\n",
              "          (dropout): Dropout(p=0.1, inplace=False)\n",
              "        )\n",
              "      )\n",
              "      (11): BertLayer(\n",
              "        (attention): BertAttention(\n",
              "          (self): BertSelfAttention(\n",
              "            (query): Linear(in_features=768, out_features=768, bias=True)\n",
              "            (key): Linear(in_features=768, out_features=768, bias=True)\n",
              "            (value): Linear(in_features=768, out_features=768, bias=True)\n",
              "            (dropout): Dropout(p=0.1, inplace=False)\n",
              "          )\n",
              "          (output): BertSelfOutput(\n",
              "            (dense): Linear(in_features=768, out_features=768, bias=True)\n",
              "            (LayerNorm): LayerNorm((768,), eps=1e-12, elementwise_affine=True)\n",
              "            (dropout): Dropout(p=0.1, inplace=False)\n",
              "          )\n",
              "        )\n",
              "        (intermediate): BertIntermediate(\n",
              "          (dense): Linear(in_features=768, out_features=3072, bias=True)\n",
              "          (intermediate_act_fn): GELUActivation()\n",
              "        )\n",
              "        (output): BertOutput(\n",
              "          (dense): Linear(in_features=3072, out_features=768, bias=True)\n",
              "          (LayerNorm): LayerNorm((768,), eps=1e-12, elementwise_affine=True)\n",
              "          (dropout): Dropout(p=0.1, inplace=False)\n",
              "        )\n",
              "      )\n",
              "    )\n",
              "  )\n",
              "  (pooler): BertPooler(\n",
              "    (dense): Linear(in_features=768, out_features=768, bias=True)\n",
              "    (activation): Tanh()\n",
              "  )\n",
              ")"
            ]
          },
          "metadata": {},
          "execution_count": 4
        }
      ]
    },
    {
      "cell_type": "markdown",
      "source": [
        "# Config\n",
        "\n",
        "Another way to access the desired information about the model (and more) is by looking at the model configuration file provided by HuggingFace.\n",
        "\n",
        "**Exercise:**\n",
        "- Load the configuration file and take a look at the `config object`\n",
        "- What `activation function`is being used on the hidden layers? \n",
        "- Find the `id` of the `pad_token`"
      ],
      "metadata": {
        "id": "hLz-n5K3AbIm"
      }
    },
    {
      "cell_type": "markdown",
      "source": [
        "**Your Code:** "
      ],
      "metadata": {
        "id": "3S_g0UTyULcM"
      }
    },
    {
      "cell_type": "code",
      "source": [
        ""
      ],
      "metadata": {
        "id": "SAksPU48ULcP"
      },
      "execution_count": null,
      "outputs": []
    },
    {
      "cell_type": "markdown",
      "source": [
        "**Solution:**"
      ],
      "metadata": {
        "id": "W0M-Sax8ULcQ"
      }
    },
    {
      "cell_type": "code",
      "source": [
        "#collapse-hide\n",
        "config = AutoConfig.from_pretrained(model_ckpt)\n",
        "config"
      ],
      "metadata": {
        "colab": {
          "base_uri": "https://localhost:8080/"
        },
        "id": "wIzZW1E7AcAl",
        "outputId": "5124bada-dae2-4bd7-b397-51acc58e170c"
      },
      "execution_count": null,
      "outputs": [
        {
          "output_type": "execute_result",
          "data": {
            "text/plain": [
              "BertConfig {\n",
              "  \"_name_or_path\": \"bert-base-uncased\",\n",
              "  \"architectures\": [\n",
              "    \"BertForMaskedLM\"\n",
              "  ],\n",
              "  \"attention_probs_dropout_prob\": 0.1,\n",
              "  \"classifier_dropout\": null,\n",
              "  \"gradient_checkpointing\": false,\n",
              "  \"hidden_act\": \"gelu\",\n",
              "  \"hidden_dropout_prob\": 0.1,\n",
              "  \"hidden_size\": 768,\n",
              "  \"initializer_range\": 0.02,\n",
              "  \"intermediate_size\": 3072,\n",
              "  \"layer_norm_eps\": 1e-12,\n",
              "  \"max_position_embeddings\": 512,\n",
              "  \"model_type\": \"bert\",\n",
              "  \"num_attention_heads\": 12,\n",
              "  \"num_hidden_layers\": 12,\n",
              "  \"pad_token_id\": 0,\n",
              "  \"position_embedding_type\": \"absolute\",\n",
              "  \"transformers_version\": \"4.20.1\",\n",
              "  \"type_vocab_size\": 2,\n",
              "  \"use_cache\": true,\n",
              "  \"vocab_size\": 30522\n",
              "}"
            ]
          },
          "metadata": {},
          "execution_count": 6
        }
      ]
    },
    {
      "cell_type": "markdown",
      "source": [
        "# Self Attention\n",
        "\n",
        "Let' unravel the driving force behind transformers, ow that we have looked at the `tokenizer`, `model` and the corresponding `config` file.\n",
        "Let's look at `self-attention`."
      ],
      "metadata": {
        "id": "Ul5ma-R1A7nU"
      }
    },
    {
      "cell_type": "markdown",
      "source": [
        "Here you can see the basic attention calcualtion.\n",
        "Think of $Q$, $K$ and $V$ as matrices/tensors.\n",
        "In the case of langage models, these will have the corresponding shape $(\\text{batch size}, \\text{length of input sequence}, \\text{embedding dimension})$ \n",
        "- $Q$ = query\n",
        "- $K$ = key\n",
        "- $V$ = value\n",
        "- $d_k$ = hidden dimension of key\n",
        "\n",
        "We call the calculation `cross-attention` if $Q$, $K$ and $V$ are different matrices. Conversely, we call it `self-attention` if $Q$, $K$ and $V$ are the same matrix e.g. $Q$ = $K$ = $V$ = $X$\n",
        "\n",
        "$\\text{Cross-Attention}(Q,K,V) = {softmax}(\\frac{QK^T}{\\sqrt d_k})V$\n",
        "\n",
        "\n",
        "$\\text{Self-Attention}(X_1,X_2,X_3) = {softmax}(\\frac{XX^T}{\\sqrt d_x})X$\n"
      ],
      "metadata": {
        "id": "NVvXYx3lYiT9"
      }
    },
    {
      "cell_type": "markdown",
      "source": [
        "**Exercise:**\n",
        "- Complete the implementation of the `scaled_dot_product_attention` function"
      ],
      "metadata": {
        "id": "XeL9Woz4bLbK"
      }
    },
    {
      "cell_type": "markdown",
      "source": [
        "**Your Code:** "
      ],
      "metadata": {
        "id": "0qhOySeAUOto"
      }
    },
    {
      "cell_type": "code",
      "source": [
        "def scaled_dot_product_attention():\n",
        "  \"\"\"Example function with types documented in the docstring.\n",
        "\n",
        "  Args:\n",
        "      query (torch.tensor): Query tensor.\n",
        "      key (torch.tensor): Key tensor.\n",
        "      value (torch.tensor): Value tensor.\n",
        "\n",
        "  Returns:\n",
        "      attention (torch.tensor): Scaled dot product attention.\n",
        "  \"\"\"\n",
        "  pass"
      ],
      "metadata": {
        "id": "jTwqDVa4UOto"
      },
      "execution_count": null,
      "outputs": []
    },
    {
      "cell_type": "markdown",
      "source": [
        "**Solution:**"
      ],
      "metadata": {
        "id": "fK56Fu2KUOtp"
      }
    },
    {
      "cell_type": "code",
      "source": [
        "#collapse-hide\n",
        "def scaled_dot_product_attention(query: torch.tensor, \n",
        "                                 key: torch.tensor, \n",
        "                                 value: torch.tensor) -> torch.tensor: \n",
        "  \"\"\"This function calculates the scaled dot product attention.\n",
        "  It takes a query, key and value as input and returns a PyTorch tensor\n",
        "  containing the attention values\n",
        "\n",
        "  Args:\n",
        "      query (torch.tensor): Query tensor.\n",
        "      key (torch.tensor): Key tensor.\n",
        "      value (torch.tensor): Value tensor.\n",
        "\n",
        "  Returns:\n",
        "      attention (torch.tensor): Scaled dot product attention.\n",
        "\n",
        "  \"\"\"\n",
        "  dim_k = query.size(-1)\n",
        "  scores = torch.bmm(query, key.transpose(1, 2)) / sqrt(dim_k)\n",
        "  weights = F.softmax(scores, dim=-1)\n",
        "  attention = torch.bmm(weights, value)\n",
        "  return attention"
      ],
      "metadata": {
        "id": "CYdBNFxvA9vQ"
      },
      "execution_count": null,
      "outputs": []
    },
    {
      "cell_type": "markdown",
      "source": [
        "# Attention Head\n",
        "\n",
        "In the image bellow you can see how the `scaled_dot_product_attention` function is being used in `Multi-Head Attention`.\n",
        "\n",
        "A single `Attention Head` implements the parts until scaled dot product attention. The notion of multiple heads comes into play, once we add `h > 1` heads, `concatenate`them and apply a `Linear` function. "
      ],
      "metadata": {
        "id": "sf2-0MWVBPQ6"
      }
    },
    {
      "cell_type": "markdown",
      "source": [
        "\n",
        "![image.png](data:image/png;base64,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)"
      ],
      "metadata": {
        "id": "-MwzSOBJaKjb"
      }
    },
    {
      "cell_type": "markdown",
      "source": [
        "**Exercise:**\n",
        "- Implement the `AttentionHead` class\n"
      ],
      "metadata": {
        "id": "N86KLEPwcYvD"
      }
    },
    {
      "cell_type": "markdown",
      "source": [
        "**Your Code:** "
      ],
      "metadata": {
        "id": "OKqB-cycIHHH"
      }
    },
    {
      "cell_type": "code",
      "source": [
        "class AttentionHead(nn.Module):\n",
        "  \"\"\"\n",
        "  Implements a single attention head. Multiple heads can be concatenated  \n",
        "  to obtain Multi-Head Attention.\n",
        "  \"\"\"\n",
        "  \n",
        "  def __init__(self):\n",
        "    pass\n",
        "\n",
        "  def forward(self):\n",
        "    pass"
      ],
      "metadata": {
        "id": "YRX2Znr8IHHI"
      },
      "execution_count": null,
      "outputs": []
    },
    {
      "cell_type": "markdown",
      "source": [
        "**Solution:**"
      ],
      "metadata": {
        "id": "xg3Ul8_OIHHI"
      }
    },
    {
      "cell_type": "code",
      "source": [
        "#collapse-hide\n",
        "class AttentionHead(nn.Module):\n",
        "  \"\"\"\n",
        "  Implements a single attention head. Multiple heads can be concatenated  \n",
        "  to obtain Multi-Head Attention.\n",
        "  \"\"\"\n",
        "  \n",
        "  def __init__(self, embed_dim: int, head_dim: int):\n",
        "    super().__init__()\n",
        "    self.q = nn.Linear(embed_dim, head_dim)\n",
        "    self.k = nn.Linear(embed_dim, head_dim)\n",
        "    self.v = nn.Linear(embed_dim, head_dim)\n",
        "  \n",
        "  def forward(self, hidden_state: torch.tensor) -> torch.tensor:\n",
        "    attn_outputs = scaled_dot_product_attention(\n",
        "        self.q(hidden_state), \n",
        "        self.k(hidden_state), \n",
        "        self.v(hidden_state))\n",
        "    return attn_outputs"
      ],
      "metadata": {
        "id": "3C1UpigwB_eB"
      },
      "execution_count": null,
      "outputs": []
    },
    {
      "cell_type": "markdown",
      "source": [
        "# Multi-Head Attention"
      ],
      "metadata": {
        "id": "Gv_HBT4nCWdP"
      }
    },
    {
      "cell_type": "markdown",
      "source": [
        "Now we can use our single `Attention-Head` to implement the `Multi-Head Attention`. "
      ],
      "metadata": {
        "id": "ffHvQphucnFt"
      }
    },
    {
      "cell_type": "markdown",
      "source": [
        "![image.png](data:image/png;base64,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)"
      ],
      "metadata": {
        "id": "NFce1kxGcju7"
      }
    },
    {
      "cell_type": "markdown",
      "source": [
        "**Exercise:**\n",
        "- Implement the `MultiHeadAttention` class"
      ],
      "metadata": {
        "id": "v83lyjTOc1Og"
      }
    },
    {
      "cell_type": "markdown",
      "source": [
        "**Your Code:**"
      ],
      "metadata": {
        "id": "8MuVpQfSIHvL"
      }
    },
    {
      "cell_type": "code",
      "source": [
        "class MultiHeadAttention(nn.Module):\n",
        "  \"\"\"Creates Multi-Head Attention Layer by\n",
        "  determining embedding dimension, number of heads and \n",
        "  head dimension from the config file.\n",
        "  \"\"\"\n",
        "  def __init__(self):\n",
        "    pass\n",
        "  \n",
        "  def forward(self):\n",
        "    pass"
      ],
      "metadata": {
        "id": "DUR8KYC8IHvN"
      },
      "execution_count": null,
      "outputs": []
    },
    {
      "cell_type": "markdown",
      "source": [
        "**Solution:**"
      ],
      "metadata": {
        "id": "WgrZX4j7IHvN"
      }
    },
    {
      "cell_type": "code",
      "source": [
        "#collapse-hide\n",
        "class MultiHeadAttention(nn.Module):\n",
        "  \"\"\"Creates Multi-Head Attention Layer by\n",
        "  determining embedding dimension, number of heads and \n",
        "  head dimension from the config file.\n",
        "  \"\"\"\n",
        "  def __init__(self, config: dict):\n",
        "    super().__init__()\n",
        "    embed_dim = config.hidden_size\n",
        "    num_heads = config.num_attention_heads\n",
        "    head_dim = embed_dim // num_heads\n",
        "    self.heads = nn.ModuleList(\n",
        "        [AttentionHead(embed_dim, head_dim) for _ in range(num_heads)]\n",
        "        )\n",
        "    self.output_linear = nn.Linear(embed_dim, embed_dim)\n",
        "  \n",
        "  def forward(self, hidden_state: torch.tensor) -> torch.tensor:\n",
        "    x = torch.cat([h(hidden_state) for h in self.heads], dim=-1)\n",
        "    x = self.output_linear(x)\n",
        "    return x"
      ],
      "metadata": {
        "id": "plG3muhaCY4-"
      },
      "execution_count": null,
      "outputs": []
    },
    {
      "cell_type": "markdown",
      "source": [
        "# Feed Forward \n",
        "\n",
        "Great, looking at the following diagram, we can see that we successfully implemented the orange `Multi-Head Attention` box. \n",
        "\n",
        "But that is only half of the picture. Let's implement the other parts of a Transformer Encoder."
      ],
      "metadata": {
        "id": "nm4PjIlrCl7X"
      }
    },
    {
      "cell_type": "markdown",
      "source": [
        "\n",
        "![image.png](data:image/png;base64,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)"
      ],
      "metadata": {
        "id": "LKTccHKHdLhS"
      }
    },
    {
      "cell_type": "markdown",
      "source": [
        "**Exercise:**\n",
        "- Implement the `Feed Forward` class\n",
        "- It should contain:\n",
        "  - 2 linear layers with `hidden_size`and `intermediate_size` as found in the config file\n",
        "  - A `GELU` activation function\n",
        "  - A `Dropout`layer with the propper `dropout probability` "
      ],
      "metadata": {
        "id": "SvIaYV7gdlXp"
      }
    },
    {
      "cell_type": "markdown",
      "source": [
        "**Your Code:** "
      ],
      "metadata": {
        "id": "P-pICuYoIIpA"
      }
    },
    {
      "cell_type": "code",
      "source": [
        "class FeedForward(nn.Module):\n",
        "  \"\"\"Implements feed forward layer with GeLU\n",
        "  and Dropout. Contains 2 Linear layers.\n",
        "  \"\"\"\n",
        "  def __init__(self):\n",
        "    pass\n",
        "  def forward(self):\n",
        "    pass"
      ],
      "metadata": {
        "id": "RPtv9-i7IIpA"
      },
      "execution_count": null,
      "outputs": []
    },
    {
      "cell_type": "markdown",
      "source": [
        "**Solution:**"
      ],
      "metadata": {
        "id": "iYKCBbePIIpB"
      }
    },
    {
      "cell_type": "code",
      "source": [
        "#collapse-hide\n",
        "class FeedForward(nn.Module):\n",
        "  \"\"\"Implements feed forward layer with GeLU\n",
        "  and Dropout. Contains 2 Linear layers.\n",
        "  \"\"\"\n",
        "  def __init__(self, config: dict):\n",
        "    super().__init__()\n",
        "    self.linear_1 = nn.Linear(config.hidden_size, config.intermediate_size)\n",
        "    self.linear_2 = nn.Linear(config.intermediate_size, config.hidden_size)\n",
        "    self.gelu = nn.GELU()\n",
        "    self.dropout = nn.Dropout(config.hidden_dropout_prob)\n",
        "\n",
        "  def forward(self, x: torch.tensor) -> torch.tensor:\n",
        "    x = self.linear_1(x)\n",
        "    x = self.gelu(x)\n",
        "    x = self.linear_2(x)\n",
        "    x = self.dropout(x)\n",
        "    return x"
      ],
      "metadata": {
        "id": "FAo4hMXdCoZx"
      },
      "execution_count": null,
      "outputs": []
    },
    {
      "cell_type": "markdown",
      "source": [
        "# Encoder Layer\n",
        "\n",
        "With the `Multi-Head Attention` and `Feed Forward` classes in place, we can put together an entire `encoder layer`which corresponds to the gray box."
      ],
      "metadata": {
        "id": "17M-q-4qCo2-"
      }
    },
    {
      "cell_type": "markdown",
      "source": [
        "\n",
        "![image.png](data:image/png;base64,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)"
      ],
      "metadata": {
        "id": "KvCIWa43enLU"
      }
    },
    {
      "cell_type": "markdown",
      "source": [
        "**Exercise:**\n",
        "- Implement the `TransformerEncoderLayer` class\n",
        "- It should contain:\n",
        "  - `Multi-Head Attention` (orange box)\n",
        "  - 2 `Layer Norms` (what we call `Norm`in the yellow box)\n",
        "  - `Residual connections` (what we call `Add` in the yellow box)\n",
        "  - `Feed Forward` layer (blue box)"
      ],
      "metadata": {
        "id": "nqKtbXX7e2_C"
      }
    },
    {
      "cell_type": "markdown",
      "source": [
        "**Your Code:**"
      ],
      "metadata": {
        "id": "Q1zVWbGXIJWs"
      }
    },
    {
      "cell_type": "code",
      "source": [
        "class TransformerEncoderLayer(nn.Module):\n",
        "  \"\"\" Combines Multi-Head Attention with Layer Normalization, \n",
        "  Feed Forward Layer and skip connections to obtain an Encoder Layer.\n",
        "  \"\"\"\n",
        "  def __init__(self):\n",
        "    pass\n",
        "  def forward(self):\n",
        "    pass"
      ],
      "metadata": {
        "id": "lymaFSL0IJWs"
      },
      "execution_count": null,
      "outputs": []
    },
    {
      "cell_type": "markdown",
      "source": [
        "**Solution:**"
      ],
      "metadata": {
        "id": "qnuQRgR_IJWs"
      }
    },
    {
      "cell_type": "code",
      "source": [
        "#collapse-hide\n",
        "class TransformerEncoderLayer(nn.Module):\n",
        "  \"\"\" Combines Multi-Head Attention with Layer Normalization, \n",
        "  Feed Forward Layer and skip connections to obtain an Encoder Layer.\n",
        "  \"\"\"\n",
        "  def __init__(self, config):\n",
        "    super().__init__()\n",
        "    self.layer_norm_1 = nn.LayerNorm(config.hidden_size)\n",
        "    self.layer_norm_2 = nn.LayerNorm(config.hidden_size)\n",
        "    self.attention = MultiHeadAttention(config)\n",
        "    self.feed_forward = FeedForward(config)\n",
        "  \n",
        "  def forward(self, x):\n",
        "    # Apply attention with a skip connection\n",
        "    hidden_state = self.attention(x)\n",
        "\n",
        "    # Apply layer normalization and then copy input into query, key, value\n",
        "    intermediate_output = self.layer_norm_1(hidden_state + x)\n",
        "\n",
        "    # Apply feed-forward layer with a skip connection\n",
        "    output = self.layer_norm_2(intermediate_output + self.feed_forward(intermediate_output))\n",
        "    return output"
      ],
      "metadata": {
        "id": "Rmiy1KMlDGEU"
      },
      "execution_count": null,
      "outputs": []
    },
    {
      "cell_type": "markdown",
      "source": [
        "# Embeddings\n",
        "\n",
        "We're nearly there. \n",
        "\n",
        "To give our transformer a chance at understanding our input tokens, we want to embedd the input token sequence into vectors. This way we can capture more information. \n",
        "\n",
        "Since data is fed to a transformer at once - unlike sequentially as in an RNN - it doesn't know anything about the position of words in a given sentence.\n",
        "That's where the `positional encoding` comes in. It gives the transformer the ability to learn the positions. "
      ],
      "metadata": {
        "id": "VQTswEE6DGf0"
      }
    },
    {
      "cell_type": "markdown",
      "source": [
        "\n",
        "![image.png](data:image/png;base64,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)"
      ],
      "metadata": {
        "id": "9shlEiwzf8yP"
      }
    },
    {
      "cell_type": "markdown",
      "source": [
        "\n",
        "**Exercise:**\n",
        "- Implement the `Embeddings` class\n",
        "- It should contain:\n",
        "  - `Token Embeddings` (pink box)\n",
        "  - `Positional Embeddings` (Circle with sin wave)\n",
        "  - `Dropout` \n",
        "  - `Layer Norm`"
      ],
      "metadata": {
        "id": "bCSXd9vXf8MS"
      }
    },
    {
      "cell_type": "markdown",
      "source": [
        "**Your Code:**"
      ],
      "metadata": {
        "id": "1oCV06CrIJ84"
      }
    },
    {
      "cell_type": "code",
      "source": [
        "class Embeddings(nn.Module):\n",
        "  \"\"\"Implements token embeddings and positional embbeddings. \n",
        "  \"\"\"\n",
        "  def __init__(self):\n",
        "    pass\n",
        "  \n",
        "  def forward(self):\n",
        "    pass"
      ],
      "metadata": {
        "id": "zwi7KsGlIJ86"
      },
      "execution_count": null,
      "outputs": []
    },
    {
      "cell_type": "markdown",
      "source": [
        "**Solution:**"
      ],
      "metadata": {
        "id": "u_m2k5k3IJ87"
      }
    },
    {
      "cell_type": "code",
      "source": [
        "#collapse-hide\n",
        "class Embeddings(nn.Module):\n",
        "  \"\"\"Implements token embeddings and positional embbeddings. \n",
        "  \"\"\"\n",
        "  def __init__(self, config: dict):\n",
        "    super().__init__()\n",
        "    self.token_embeddings = nn.Embedding(config.vocab_size,\n",
        "                                         config.hidden_size)\n",
        "    self.position_embeddings = nn.Embedding(config.max_position_embeddings,\n",
        "                                            config.hidden_size)\n",
        "    self.layer_norm = nn.LayerNorm(config.hidden_size, eps=1e-12)\n",
        "    self.dropout = nn.Dropout()\n",
        "  \n",
        "  def forward(self, input_ids: torch.tensor) -> torch.tensor:\n",
        "    # Create position IDs for input sequence\n",
        "    seq_length = input_ids.size(1)\n",
        "    position_ids = torch.arange(seq_length, dtype=torch.long).unsqueeze(0)\n",
        "    \n",
        "    # Create token and position embeddings\n",
        "    token_embeddings = self.token_embeddings(input_ids)\n",
        "    position_embeddings = self.position_embeddings(position_ids)\n",
        "\n",
        "    # Combine token and position embeddings\n",
        "    embeddings = token_embeddings + position_embeddings\n",
        "    embeddings = self.layer_norm(embeddings)\n",
        "    embeddings = self.dropout(embeddings)\n",
        "    return embeddings"
      ],
      "metadata": {
        "id": "VIOx3oEjDQko"
      },
      "execution_count": null,
      "outputs": []
    },
    {
      "cell_type": "markdown",
      "source": [
        "# Transformer Encoder\n",
        "\n",
        "Now for the full transformer Encoder the last missing piece is stacking up the `Encoder Layers`. In the diagram this is specified by `N x`"
      ],
      "metadata": {
        "id": "3hV5RhaJDSYi"
      }
    },
    {
      "cell_type": "markdown",
      "source": [
        "\n",
        "![image.png](data:image/png;base64,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)"
      ],
      "metadata": {
        "id": "8_VHvF6ShlNO"
      }
    },
    {
      "cell_type": "markdown",
      "source": [
        "\n",
        "**Exercise:**\n",
        "- Implement the `TransformerEncoder` class by combining the `Embeddings` and the `Transformer Encoder Layers` and stacking them up.\n",
        "\n"
      ],
      "metadata": {
        "id": "_44OU1m_h0Yd"
      }
    },
    {
      "cell_type": "markdown",
      "source": [
        "**Your Code:**"
      ],
      "metadata": {
        "id": "Hmuyg1UmIKnz"
      }
    },
    {
      "cell_type": "code",
      "source": [
        "class TransformerEncoder(nn.Module):\n",
        "  \"\"\"Combines the Embedding layer and multiple encoder layers  \n",
        "   to obtain full transformer encoder.\n",
        "  \"\"\"  \n",
        "  def __init__(self):\n",
        "    pass\n",
        "    \n",
        "  def forward(self):\n",
        "    pass"
      ],
      "metadata": {
        "id": "hXPRewuoIKn0"
      },
      "execution_count": null,
      "outputs": []
    },
    {
      "cell_type": "markdown",
      "source": [
        "**Solution:**"
      ],
      "metadata": {
        "id": "osgwTDQrIKn1"
      }
    },
    {
      "cell_type": "code",
      "source": [
        "#collapse-hide\n",
        "class TransformerEncoder(nn.Module):\n",
        "  \"\"\"Combines the Embedding layer and multiple encoder layers  \n",
        "   to obtain full transformer encoder.\n",
        "  \"\"\"  \n",
        "  def __init__(self, config):\n",
        "    super().__init__()\n",
        "    self.embeddings = Embeddings(config)\n",
        "    self.layers = nn.ModuleList(\n",
        "        [TransformerEncoderLayer(config)\n",
        "        for _ in range(config.num_hidden_layers)])\n",
        "  \n",
        "  def forward(self, x):\n",
        "    x = self.embeddings(x)\n",
        "    for layer in self.layers:\n",
        "      x = layer(x)\n",
        "    return x"
      ],
      "metadata": {
        "id": "S6c6PQtaDUsr"
      },
      "execution_count": null,
      "outputs": []
    },
    {
      "cell_type": "markdown",
      "source": [
        "# Classification Head\n",
        "\n",
        "Now that we have the transformer `body`, it'd be great to add a `head` and make the transformer do something useful. \n",
        "\n",
        "A common task in `classification`\n",
        "\n",
        "**Exercise:**\n",
        "- Implement the `TransformerForSequenceClassification` head by adding a `Linear` layer on top of the body. \n",
        "- Set the output size to the desired `number of class labels` "
      ],
      "metadata": {
        "id": "9YMOOasADZnU"
      }
    },
    {
      "cell_type": "markdown",
      "source": [
        "**Your Code:**"
      ],
      "metadata": {
        "id": "DLEbphzhILKd"
      }
    },
    {
      "cell_type": "code",
      "source": [
        "#collapse-hide\n",
        "class TransformerForSequenceClassification(nn.Module):\n",
        "  \n",
        "  def __init__(self):\n",
        "    pass\n",
        "    \n",
        "  def forward(self):\n",
        "    pass"
      ],
      "metadata": {
        "id": "ffxbjxgBILKd"
      },
      "execution_count": null,
      "outputs": []
    },
    {
      "cell_type": "markdown",
      "source": [
        "**Solution:**"
      ],
      "metadata": {
        "id": "1mCxoA63ILKe"
      }
    },
    {
      "cell_type": "code",
      "source": [
        "#collapse-hide\n",
        "class TransformerForSequenceClassification(nn.Module):\n",
        "  \n",
        "  def __init__(self, config):\n",
        "    super().__init__()\n",
        "    self.encoder = TransformerEncoder(config)\n",
        "    self.dropout = nn.Dropout(config.hidden_dropout_prob)\n",
        "    self.classifier = nn.Linear(config.hidden_size, config.num_labels)\n",
        "  \n",
        "  def forward(self, x):\n",
        "    x = self.encoder(x)[:, 0, :] # select hidden state of [CLS] token\n",
        "    x = self.dropout(x)\n",
        "    x = self.classifier(x)\n",
        "    return x"
      ],
      "metadata": {
        "id": "G69Zxx5dDbQo"
      },
      "execution_count": null,
      "outputs": []
    },
    {
      "cell_type": "markdown",
      "source": [
        "# Masked Attention\n",
        "\n",
        "Last but not least, if we wanted to implement the `Decoder` of a transformer, we'd need a way to mask our inputs. This is crucial, since the transformer could just `hack`the decoding task by looking at the next word and using it as it's prediciton. \n",
        "\n",
        "We can circumvent this issue by adding a mask to our `scaled_dot_product_attention` function.\n",
        "\n",
        "**Exercise:**\n",
        "- Create a maks as a lower triangular matrix with it's upper values set to `-inf`\n",
        "- Change the `scaled_dot_product_attention` such that it can incorporate a mask. "
      ],
      "metadata": {
        "id": "agHt-1WoDerJ"
      }
    },
    {
      "cell_type": "markdown",
      "source": [
        "**Your Code:**"
      ],
      "metadata": {
        "id": "sQNpTUcYIL5m"
      }
    },
    {
      "cell_type": "code",
      "source": [
        "# Define mask \n"
      ],
      "metadata": {
        "id": "MEFCvKDbjUFM"
      },
      "execution_count": null,
      "outputs": []
    },
    {
      "cell_type": "code",
      "source": [
        "def scaled_dot_product_attention(query: torch.tensor, key: torch.tensor, \n",
        "                                 value: torch.tensor, mask=None) -> torch.tensor:\n",
        "  \"\"\"This function calculates the scaled dot product attention.\n",
        "  It takes a query, key and value as input and returns a PyTorch tensor\n",
        "  containing the attention values.\n",
        "  It includes a mask that can be used in a transformer decoder.\n",
        "\n",
        "  Args:\n",
        "      query (torch.tensor): Query tensor.\n",
        "      key (torch.tensor): Key tensor.\n",
        "      value (torch.tensor): Value tensor.\n",
        "      mask (torch.tensor): Attention Mask.\n",
        "\n",
        "  Returns:\n",
        "      attention (torch.tensor): Scaled dot product attention.\n",
        "\n",
        "  \"\"\"\n",
        "  pass"
      ],
      "metadata": {
        "id": "n91oQbVNIL5m"
      },
      "execution_count": null,
      "outputs": []
    },
    {
      "cell_type": "markdown",
      "source": [
        "**Solution:**"
      ],
      "metadata": {
        "id": "FqqaWAHFIL5n"
      }
    },
    {
      "cell_type": "code",
      "source": [
        "# Define mask \n",
        "a = torch.rand(1,5,768)\n",
        "mask = torch.tril(a)\n",
        "a.masked_fill(mask == 0, float('-inf'))"
      ],
      "metadata": {
        "colab": {
          "base_uri": "https://localhost:8080/"
        },
        "id": "wzbk8qMIcoug",
        "outputId": "b1bc150a-92b5-431e-b8f7-8d1fdf18e728"
      },
      "execution_count": null,
      "outputs": [
        {
          "output_type": "execute_result",
          "data": {
            "text/plain": [
              "tensor([[[0.1540,   -inf,   -inf,  ...,   -inf,   -inf,   -inf],\n",
              "         [0.2688, 0.3257,   -inf,  ...,   -inf,   -inf,   -inf],\n",
              "         [0.3194, 0.7374, 0.0761,  ...,   -inf,   -inf,   -inf],\n",
              "         [0.1208, 0.2583, 0.9070,  ...,   -inf,   -inf,   -inf],\n",
              "         [0.2744, 0.5596, 0.4383,  ...,   -inf,   -inf,   -inf]]])"
            ]
          },
          "metadata": {},
          "execution_count": 69
        }
      ]
    },
    {
      "cell_type": "code",
      "source": [
        "#collapse-hide\n",
        "def scaled_dot_product_attention(query: torch.tensor, key: torch.tensor, \n",
        "                                 value: torch.tensor, mask=None) -> torch.tensor:\n",
        "  \"\"\"This function calculates the scaled dot product attention.\n",
        "  It takes a query, key and value as input and returns a PyTorch tensor\n",
        "  containing the attention values.\n",
        "  It includes a mask that can be used in a transformer decoder.\n",
        "\n",
        "  Args:\n",
        "      query (torch.tensor): Query tensor.\n",
        "      key (torch.tensor): Key tensor.\n",
        "      value (torch.tensor): Value tensor.\n",
        "      mask (torch.tensor): Attention Mask.\n",
        "\n",
        "  Returns:\n",
        "      attention (torch.tensor): Scaled dot product attention.\n",
        "\n",
        "  \"\"\"\n",
        "  dim_k = query.size(-1)\n",
        "  scores = torch.bmm(query, key.transpose(1, 2)) / sqrt(dim_k)\n",
        "  \n",
        "  if mask is not None:\n",
        "    scores = scores.masked_fill(mask == 0, float(\"-inf\"))\n",
        "  \n",
        "  weights = F.softmax(scores, dim=-1)\n",
        "  return weights.bmm(value)"
      ],
      "metadata": {
        "id": "l9OawgyJDidR"
      },
      "execution_count": null,
      "outputs": []
    },
    {
      "cell_type": "markdown",
      "source": [
        "# Putting it all together: Encoder-Decoder Transformer"
      ],
      "metadata": {
        "id": "Zw9Eav46Di1S"
      }
    },
    {
      "cell_type": "markdown",
      "source": [
        "**Your Code:**"
      ],
      "metadata": {
        "id": "Z_dPX-lVIMbB"
      }
    },
    {
      "cell_type": "code",
      "source": [
        ""
      ],
      "metadata": {
        "id": "2l6aEgLwIMbC"
      },
      "execution_count": null,
      "outputs": []
    },
    {
      "cell_type": "markdown",
      "source": [
        "**Solution:**"
      ],
      "metadata": {
        "id": "_q1LEHFyIMbC"
      }
    },
    {
      "cell_type": "code",
      "source": [
        "#collapse-hide"
      ],
      "metadata": {
        "id": "t6VrvlFEOysh"
      },
      "execution_count": null,
      "outputs": []
    }
  ]
}