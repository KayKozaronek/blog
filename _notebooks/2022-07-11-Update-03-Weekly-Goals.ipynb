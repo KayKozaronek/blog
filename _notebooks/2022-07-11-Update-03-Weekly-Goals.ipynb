{
  "cells": [
    {
      "cell_type": "markdown",
      "metadata": {
        "id": "zwq93RalVprI"
      },
      "source": [
        "# Weekly Goals Update 03 \n",
        "> \"This template helps me prioritize, keep track of and review my weekly goals. It will also be quite amusing looking back at what I struggled with in a year.\"\n",
        "\n",
        "- toc: true\n",
        "- badges: true\n",
        "- comments: true\n",
        "- categories: [Reading, Books, Academic Papers, Blogs, Mental Diet]\n",
        "- image: images/to-do-list.png\n"
      ]
    },
    {
      "cell_type": "markdown",
      "metadata": {
        "id": "rnoi1BrlVlYo"
      },
      "source": [
        "# Status:\n",
        "\n",
        "Last week was great. I met a bunch of very intelligent, ambitious and intelectually curious people. \n",
        "The CHERI summer fellowship seems promising. I set up an accountability partners group, communicated my mentorship expectations and made good friends.  "
      ]
    },
    {
      "cell_type": "code",
      "execution_count": 20,
      "metadata": {
        "colab": {
          "base_uri": "https://localhost:8080/"
        },
        "id": "icVcs8PnWiog",
        "outputId": "e4218949-f126-492d-b071-a4402b1dc010"
      },
      "outputs": [
        {
          "name": "stderr",
          "output_type": "stream",
          "text": [
            "c:\\Anaconda\\envs\\MIT_ML\\lib\\site-packages\\pandas\\core\\indexing.py:670: SettingWithCopyWarning: \n",
            "A value is trying to be set on a copy of a slice from a DataFrame\n",
            "\n",
            "See the caveats in the documentation: https://pandas.pydata.org/pandas-docs/stable/user_guide/indexing.html#returning-a-view-versus-a-copy\n",
            "  iloc._setitem_with_indexer(indexer, value)\n"
          ]
        }
      ],
      "source": [
        "#hide\n",
        "import pandas as pd \n",
        "\n",
        "def prepare_df(file_path):\n",
        "  \n",
        "  cols_to_include = ['Goal', 'Points', 'Progress']\n",
        "  df = pd.read_csv(file_path, usecols=cols_to_include, sep=';')\n",
        "  df['Total Points'] = df['Points'] * df['Progress'] / 100 \n",
        "  df.fillna(0,inplace=True)\n",
        "  df['Points'] = df['Points'].astype(int)\n",
        "  df['Progress'] = df['Progress'].astype(float) / 100\n",
        "  df['Points'].iloc[-1] = ' '\n",
        "  df['Progress'].iloc[-1] = ' '\n",
        "  df['Total Points'].iloc[-1] = sum(df['Total Points'])\n",
        "\n",
        "  return df\n",
        "\n",
        "df = prepare_df('data/weekly_goals/2022-07-03-goals.csv')"
      ]
    },
    {
      "cell_type": "code",
      "execution_count": 22,
      "metadata": {
        "colab": {
          "base_uri": "https://localhost:8080/",
          "height": 352
        },
        "id": "QeYn7fDkZ1Ny",
        "outputId": "1b5e9a16-e4da-45fa-b6bd-7cfd9971324d"
      },
      "outputs": [
        {
          "data": {
            "text/html": [
              "<style  type=\"text/css\" >\n",
              "#T_613fd074_0101_11ed_afed_5800e3b90b26row0_col3{\n",
              "            background-color:  #0e7936;\n",
              "            color:  #f1f1f1;\n",
              "        }#T_613fd074_0101_11ed_afed_5800e3b90b26row1_col3{\n",
              "            background-color:  #eff9eb;\n",
              "            color:  #000000;\n",
              "        }#T_613fd074_0101_11ed_afed_5800e3b90b26row2_col3{\n",
              "            background-color:  #f7fcf5;\n",
              "            color:  #000000;\n",
              "        }#T_613fd074_0101_11ed_afed_5800e3b90b26row3_col3{\n",
              "            background-color:  #e6f5e1;\n",
              "            color:  #000000;\n",
              "        }#T_613fd074_0101_11ed_afed_5800e3b90b26row4_col3{\n",
              "            background-color:  #00441b;\n",
              "            color:  #f1f1f1;\n",
              "        }</style><table id=\"T_613fd074_0101_11ed_afed_5800e3b90b26\" ><thead>    <tr>        <th class=\"blank level0\" ></th>        <th class=\"col_heading level0 col0\" >Goal</th>        <th class=\"col_heading level0 col1\" >Points</th>        <th class=\"col_heading level0 col2\" >Progress</th>        <th class=\"col_heading level0 col3\" >Total Points</th>    </tr></thead><tbody>\n",
              "                <tr>\n",
              "                        <th id=\"T_613fd074_0101_11ed_afed_5800e3b90b26level0_row0\" class=\"row_heading level0 row0\" >0</th>\n",
              "                        <td id=\"T_613fd074_0101_11ed_afed_5800e3b90b26row0_col0\" class=\"data row0 col0\" >CHERI Introductory Week</td>\n",
              "                        <td id=\"T_613fd074_0101_11ed_afed_5800e3b90b26row0_col1\" class=\"data row0 col1\" >70</td>\n",
              "                        <td id=\"T_613fd074_0101_11ed_afed_5800e3b90b26row0_col2\" class=\"data row0 col2\" >1.000000</td>\n",
              "                        <td id=\"T_613fd074_0101_11ed_afed_5800e3b90b26row0_col3\" class=\"data row0 col3\" >70.000000</td>\n",
              "            </tr>\n",
              "            <tr>\n",
              "                        <th id=\"T_613fd074_0101_11ed_afed_5800e3b90b26level0_row1\" class=\"row_heading level0 row1\" >1</th>\n",
              "                        <td id=\"T_613fd074_0101_11ed_afed_5800e3b90b26row1_col0\" class=\"data row1 col0\" >Catch up with Anki</td>\n",
              "                        <td id=\"T_613fd074_0101_11ed_afed_5800e3b90b26row1_col1\" class=\"data row1 col1\" >5</td>\n",
              "                        <td id=\"T_613fd074_0101_11ed_afed_5800e3b90b26row1_col2\" class=\"data row1 col2\" >1.000000</td>\n",
              "                        <td id=\"T_613fd074_0101_11ed_afed_5800e3b90b26row1_col3\" class=\"data row1 col3\" >5.000000</td>\n",
              "            </tr>\n",
              "            <tr>\n",
              "                        <th id=\"T_613fd074_0101_11ed_afed_5800e3b90b26level0_row2\" class=\"row_heading level0 row2\" >2</th>\n",
              "                        <td id=\"T_613fd074_0101_11ed_afed_5800e3b90b26row2_col0\" class=\"data row2 col0\" >Read AGI Safety Fundamentals from first principles</td>\n",
              "                        <td id=\"T_613fd074_0101_11ed_afed_5800e3b90b26row2_col1\" class=\"data row2 col1\" >15</td>\n",
              "                        <td id=\"T_613fd074_0101_11ed_afed_5800e3b90b26row2_col2\" class=\"data row2 col2\" >0.000000</td>\n",
              "                        <td id=\"T_613fd074_0101_11ed_afed_5800e3b90b26row2_col3\" class=\"data row2 col3\" >0.000000</td>\n",
              "            </tr>\n",
              "            <tr>\n",
              "                        <th id=\"T_613fd074_0101_11ed_afed_5800e3b90b26level0_row3\" class=\"row_heading level0 row3\" >3</th>\n",
              "                        <td id=\"T_613fd074_0101_11ed_afed_5800e3b90b26row3_col0\" class=\"data row3 col0\" >Write down expectations for mentorship</td>\n",
              "                        <td id=\"T_613fd074_0101_11ed_afed_5800e3b90b26row3_col1\" class=\"data row3 col1\" >10</td>\n",
              "                        <td id=\"T_613fd074_0101_11ed_afed_5800e3b90b26row3_col2\" class=\"data row3 col2\" >1.000000</td>\n",
              "                        <td id=\"T_613fd074_0101_11ed_afed_5800e3b90b26row3_col3\" class=\"data row3 col3\" >10.000000</td>\n",
              "            </tr>\n",
              "            <tr>\n",
              "                        <th id=\"T_613fd074_0101_11ed_afed_5800e3b90b26level0_row4\" class=\"row_heading level0 row4\" >4</th>\n",
              "                        <td id=\"T_613fd074_0101_11ed_afed_5800e3b90b26row4_col0\" class=\"data row4 col0\" >Total </td>\n",
              "                        <td id=\"T_613fd074_0101_11ed_afed_5800e3b90b26row4_col1\" class=\"data row4 col1\" > </td>\n",
              "                        <td id=\"T_613fd074_0101_11ed_afed_5800e3b90b26row4_col2\" class=\"data row4 col2\" > </td>\n",
              "                        <td id=\"T_613fd074_0101_11ed_afed_5800e3b90b26row4_col3\" class=\"data row4 col3\" >85.000000</td>\n",
              "            </tr>\n",
              "    </tbody></table>"
            ],
            "text/plain": [
              "<pandas.io.formats.style.Styler at 0x14c41c95048>"
            ]
          },
          "execution_count": 22,
          "metadata": {},
          "output_type": "execute_result"
        }
      ],
      "source": [
        "#hide_input\n",
        "df.style.background_gradient(cmap='Greens', subset=['Total Points'])"
      ]
    },
    {
      "cell_type": "markdown",
      "metadata": {
        "id": "_T3UegHgWhag"
      },
      "source": [
        "# Goals:\n",
        "\n",
        "This week my main goal is to reimplement the [\"Training Language Models with Language Feedback\" paper](https://arxiv.org/pdf/2204.14146.pdf). To do so, I will have to acquaint myself with the OpenAI API. \n",
        "\n",
        "As a secondary goal, I want to work through the [NYU NLP lecture](https://atcold.github.io/pytorch-Deep-Learning/) and start watching the [Deep RL Lecture Series (UC Berkeley)](https://www.youtube.com/watch?v=kPa6hU9prg4&list=PL_iWQOsE6TfXxKgI1GgyV1B_Xa0DxE5eH&index=13).\n",
        "\n",
        "Finally, it'd be fun to check out the local EA chapter in Budapest.\n",
        "\n",
        "At the end of the week I hope to converge on a stable weekly schedule I can follow throughout the summer fellowship."
      ]
    },
    {
      "cell_type": "code",
      "execution_count": 24,
      "metadata": {
        "colab": {
          "base_uri": "https://localhost:8080/"
        },
        "id": "kqjULflLVO9z",
        "outputId": "abb9e2e3-17e9-4ace-fed0-b56c274d4603"
      },
      "outputs": [],
      "source": [
        "#hide\n",
        "df_2 = prepare_df('data/weekly_goals/2022-07-10-goals.csv')"
      ]
    },
    {
      "cell_type": "code",
      "execution_count": 25,
      "metadata": {
        "colab": {
          "base_uri": "https://localhost:8080/",
          "height": 467
        },
        "id": "BhL9vmy0Wo-4",
        "outputId": "be03033c-397a-43eb-8dba-d191820cf6fa"
      },
      "outputs": [
        {
          "data": {
            "text/html": [
              "<div>\n",
              "<style scoped>\n",
              "    .dataframe tbody tr th:only-of-type {\n",
              "        vertical-align: middle;\n",
              "    }\n",
              "\n",
              "    .dataframe tbody tr th {\n",
              "        vertical-align: top;\n",
              "    }\n",
              "\n",
              "    .dataframe thead th {\n",
              "        text-align: right;\n",
              "    }\n",
              "</style>\n",
              "<table border=\"1\" class=\"dataframe\">\n",
              "  <thead>\n",
              "    <tr style=\"text-align: right;\">\n",
              "      <th></th>\n",
              "      <th>Goal</th>\n",
              "      <th>Points</th>\n",
              "    </tr>\n",
              "  </thead>\n",
              "  <tbody>\n",
              "    <tr>\n",
              "      <th>0</th>\n",
              "      <td>Work through OpenAI API guides</td>\n",
              "      <td>30</td>\n",
              "    </tr>\n",
              "    <tr>\n",
              "      <th>1</th>\n",
              "      <td>Reimplement \"training language models with lan...</td>\n",
              "      <td>25</td>\n",
              "    </tr>\n",
              "    <tr>\n",
              "      <th>2</th>\n",
              "      <td>Publish Transformer Exercise</td>\n",
              "      <td>15</td>\n",
              "    </tr>\n",
              "    <tr>\n",
              "      <th>3</th>\n",
              "      <td>NYU Deep Learning Course Week 12</td>\n",
              "      <td>20</td>\n",
              "    </tr>\n",
              "    <tr>\n",
              "      <th>4</th>\n",
              "      <td>Attend EA meeting in Budapest</td>\n",
              "      <td>5</td>\n",
              "    </tr>\n",
              "    <tr>\n",
              "      <th>5</th>\n",
              "      <td>Create standard weekly schedule</td>\n",
              "      <td>5</td>\n",
              "    </tr>\n",
              "    <tr>\n",
              "      <th>6</th>\n",
              "      <td>Bonus: Check out Deep RL course</td>\n",
              "      <td>5</td>\n",
              "    </tr>\n",
              "    <tr>\n",
              "      <th>7</th>\n",
              "      <td>Total</td>\n",
              "      <td></td>\n",
              "    </tr>\n",
              "  </tbody>\n",
              "</table>\n",
              "</div>"
            ],
            "text/plain": [
              "                                                Goal Points\n",
              "0                     Work through OpenAI API guides     30\n",
              "1  Reimplement \"training language models with lan...     25\n",
              "2                      Publish Transformer Exercise      15\n",
              "3                   NYU Deep Learning Course Week 12     20\n",
              "4                      Attend EA meeting in Budapest      5\n",
              "5                    Create standard weekly schedule      5\n",
              "6                    Bonus: Check out Deep RL course      5\n",
              "7                                             Total        "
            ]
          },
          "execution_count": 25,
          "metadata": {},
          "output_type": "execute_result"
        }
      ],
      "source": [
        "#hide_input\n",
        "df_2[['Goal', 'Points']]"
      ]
    },
    {
      "cell_type": "markdown",
      "metadata": {
        "id": "UuEBoU82WoGR"
      },
      "source": [
        "\n",
        "# Explore in upcoming week(s):\n",
        "\n",
        "- [Mastering Pytorch](https://www.packtpub.com/product/mastering-pytorch/9781789614381)\n",
        "\n"
      ]
    }
  ],
  "metadata": {
    "colab": {
      "collapsed_sections": [],
      "name": "02.07 weekly goals.ipynb",
      "provenance": []
    },
    "kernelspec": {
      "display_name": "Python 3.6.12 ('MIT_ML')",
      "language": "python",
      "name": "python3"
    },
    "language_info": {
      "codemirror_mode": {
        "name": "ipython",
        "version": 3
      },
      "file_extension": ".py",
      "mimetype": "text/x-python",
      "name": "python",
      "nbconvert_exporter": "python",
      "pygments_lexer": "ipython3",
      "version": "3.6.12"
    },
    "vscode": {
      "interpreter": {
        "hash": "8201462524ad07e1fbf745595052e2a140950ac55a59577392ee8c394db55d17"
      }
    }
  },
  "nbformat": 4,
  "nbformat_minor": 0
}
