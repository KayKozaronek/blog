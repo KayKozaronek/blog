{
  "cells": [
    {
      "cell_type": "markdown",
      "metadata": {
        "id": "zwq93RalVprI"
      },
      "source": [
        "# Weekly Goals Update 02 \n",
        "> \"This template helps me prioritize, keep track of and review my weekly goals. It will also be quite amusing looking back at what I struggled with in a year.\"\n",
        "\n",
        "- toc: true\n",
        "- badges: true\n",
        "- comments: true\n",
        "- categories: [Reading, Books, Academic Papers, Blogs, Mental Diet]\n",
        "- image: images/to-do-list.png\n"
      ]
    },
    {
      "cell_type": "markdown",
      "metadata": {
        "id": "rnoi1BrlVlYo"
      },
      "source": [
        "# Status:\n",
        "\n",
        "Here's the progress of last weeks goals.\n"
      ]
    },
    {
      "cell_type": "code",
      "execution_count": 3,
      "metadata": {
        "colab": {
          "base_uri": "https://localhost:8080/"
        },
        "id": "icVcs8PnWiog",
        "outputId": "e4218949-f126-492d-b071-a4402b1dc010"
      },
      "outputs": [
        {
          "name": "stderr",
          "output_type": "stream",
          "text": [
            "c:\\Anaconda\\envs\\MIT_ML\\lib\\site-packages\\pandas\\core\\indexing.py:670: SettingWithCopyWarning: \n",
            "A value is trying to be set on a copy of a slice from a DataFrame\n",
            "\n",
            "See the caveats in the documentation: https://pandas.pydata.org/pandas-docs/stable/user_guide/indexing.html#returning-a-view-versus-a-copy\n",
            "  iloc._setitem_with_indexer(indexer, value)\n"
          ]
        }
      ],
      "source": [
        "#hide\n",
        "import pandas as pd \n",
        "\n",
        "def prepare_df(file_path):\n",
        "  \n",
        "  cols_to_include = ['Goal', 'Points', 'Progress']\n",
        "  df = pd.read_csv(file_path, usecols=cols_to_include, sep=';')\n",
        "  df['Total Points'] = df['Points'] * df['Progress'] / 100 \n",
        "  df.fillna(0,inplace=True)\n",
        "  df['Points'] = df['Points'].astype(int)\n",
        "  df['Progress'] = df['Progress'].astype(float) / 100\n",
        "  df['Points'].iloc[-1] = ' '\n",
        "  df['Progress'].iloc[-1] = ' '\n",
        "  df['Total Points'].iloc[-1] = sum(df['Total Points'])\n",
        "\n",
        "  return df\n",
        "\n",
        "df = prepare_df('data/weekly_goals/2022-06-26-goals.csv')"
      ]
    },
    {
      "cell_type": "code",
      "execution_count": 4,
      "metadata": {
        "colab": {
          "base_uri": "https://localhost:8080/",
          "height": 352
        },
        "id": "QeYn7fDkZ1Ny",
        "outputId": "1b5e9a16-e4da-45fa-b6bd-7cfd9971324d"
      },
      "outputs": [
        {
          "data": {
            "text/html": [
              "<style  type=\"text/css\" >\n",
              "#T_76ce7650_fcaa_11ec_b650_5800e3b90b26row0_col3,#T_76ce7650_fcaa_11ec_b650_5800e3b90b26row4_col3,#T_76ce7650_fcaa_11ec_b650_5800e3b90b26row6_col3,#T_76ce7650_fcaa_11ec_b650_5800e3b90b26row8_col3{\n",
              "            background-color:  #edf8ea;\n",
              "            color:  #000000;\n",
              "        }#T_76ce7650_fcaa_11ec_b650_5800e3b90b26row1_col3{\n",
              "            background-color:  #d2edcc;\n",
              "            color:  #000000;\n",
              "        }#T_76ce7650_fcaa_11ec_b650_5800e3b90b26row2_col3{\n",
              "            background-color:  #aadda4;\n",
              "            color:  #000000;\n",
              "        }#T_76ce7650_fcaa_11ec_b650_5800e3b90b26row3_col3{\n",
              "            background-color:  #e2f4dd;\n",
              "            color:  #000000;\n",
              "        }#T_76ce7650_fcaa_11ec_b650_5800e3b90b26row5_col3{\n",
              "            background-color:  #f2faf0;\n",
              "            color:  #000000;\n",
              "        }#T_76ce7650_fcaa_11ec_b650_5800e3b90b26row7_col3{\n",
              "            background-color:  #f7fcf5;\n",
              "            color:  #000000;\n",
              "        }#T_76ce7650_fcaa_11ec_b650_5800e3b90b26row9_col3{\n",
              "            background-color:  #00441b;\n",
              "            color:  #f1f1f1;\n",
              "        }</style><table id=\"T_76ce7650_fcaa_11ec_b650_5800e3b90b26\" ><thead>    <tr>        <th class=\"blank level0\" ></th>        <th class=\"col_heading level0 col0\" >Goal</th>        <th class=\"col_heading level0 col1\" >Points</th>        <th class=\"col_heading level0 col2\" >Progress</th>        <th class=\"col_heading level0 col3\" >Total Points</th>    </tr></thead><tbody>\n",
              "                <tr>\n",
              "                        <th id=\"T_76ce7650_fcaa_11ec_b650_5800e3b90b26level0_row0\" class=\"row_heading level0 row0\" >0</th>\n",
              "                        <td id=\"T_76ce7650_fcaa_11ec_b650_5800e3b90b26row0_col0\" class=\"data row0 col0\" >Reimplement \"Training Language Models with Language Feedback\"</td>\n",
              "                        <td id=\"T_76ce7650_fcaa_11ec_b650_5800e3b90b26row0_col1\" class=\"data row0 col1\" >25</td>\n",
              "                        <td id=\"T_76ce7650_fcaa_11ec_b650_5800e3b90b26row0_col2\" class=\"data row0 col2\" >0.200000</td>\n",
              "                        <td id=\"T_76ce7650_fcaa_11ec_b650_5800e3b90b26row0_col3\" class=\"data row0 col3\" >5.000000</td>\n",
              "            </tr>\n",
              "            <tr>\n",
              "                        <th id=\"T_76ce7650_fcaa_11ec_b650_5800e3b90b26level0_row1\" class=\"row_heading level0 row1\" >1</th>\n",
              "                        <td id=\"T_76ce7650_fcaa_11ec_b650_5800e3b90b26row1_col0\" class=\"data row1 col0\" >Finish Software Engineering practices for Data Scientists</td>\n",
              "                        <td id=\"T_76ce7650_fcaa_11ec_b650_5800e3b90b26row1_col1\" class=\"data row1 col1\" >15</td>\n",
              "                        <td id=\"T_76ce7650_fcaa_11ec_b650_5800e3b90b26row1_col2\" class=\"data row1 col2\" >1.000000</td>\n",
              "                        <td id=\"T_76ce7650_fcaa_11ec_b650_5800e3b90b26row1_col3\" class=\"data row1 col3\" >15.000000</td>\n",
              "            </tr>\n",
              "            <tr>\n",
              "                        <th id=\"T_76ce7650_fcaa_11ec_b650_5800e3b90b26level0_row2\" class=\"row_heading level0 row2\" >2</th>\n",
              "                        <td id=\"T_76ce7650_fcaa_11ec_b650_5800e3b90b26row2_col0\" class=\"data row2 col0\" >Create blog </td>\n",
              "                        <td id=\"T_76ce7650_fcaa_11ec_b650_5800e3b90b26row2_col1\" class=\"data row2 col1\" >25</td>\n",
              "                        <td id=\"T_76ce7650_fcaa_11ec_b650_5800e3b90b26row2_col2\" class=\"data row2 col2\" >1.000000</td>\n",
              "                        <td id=\"T_76ce7650_fcaa_11ec_b650_5800e3b90b26row2_col3\" class=\"data row2 col3\" >25.000000</td>\n",
              "            </tr>\n",
              "            <tr>\n",
              "                        <th id=\"T_76ce7650_fcaa_11ec_b650_5800e3b90b26level0_row3\" class=\"row_heading level0 row3\" >3</th>\n",
              "                        <td id=\"T_76ce7650_fcaa_11ec_b650_5800e3b90b26row3_col0\" class=\"data row3 col0\" >Apply to Future Forum</td>\n",
              "                        <td id=\"T_76ce7650_fcaa_11ec_b650_5800e3b90b26row3_col1\" class=\"data row3 col1\" >10</td>\n",
              "                        <td id=\"T_76ce7650_fcaa_11ec_b650_5800e3b90b26row3_col2\" class=\"data row3 col2\" >1.000000</td>\n",
              "                        <td id=\"T_76ce7650_fcaa_11ec_b650_5800e3b90b26row3_col3\" class=\"data row3 col3\" >10.000000</td>\n",
              "            </tr>\n",
              "            <tr>\n",
              "                        <th id=\"T_76ce7650_fcaa_11ec_b650_5800e3b90b26level0_row4\" class=\"row_heading level0 row4\" >4</th>\n",
              "                        <td id=\"T_76ce7650_fcaa_11ec_b650_5800e3b90b26row4_col0\" class=\"data row4 col0\" >Apply to Future Academy</td>\n",
              "                        <td id=\"T_76ce7650_fcaa_11ec_b650_5800e3b90b26row4_col1\" class=\"data row4 col1\" >5</td>\n",
              "                        <td id=\"T_76ce7650_fcaa_11ec_b650_5800e3b90b26row4_col2\" class=\"data row4 col2\" >1.000000</td>\n",
              "                        <td id=\"T_76ce7650_fcaa_11ec_b650_5800e3b90b26row4_col3\" class=\"data row4 col3\" >5.000000</td>\n",
              "            </tr>\n",
              "            <tr>\n",
              "                        <th id=\"T_76ce7650_fcaa_11ec_b650_5800e3b90b26level0_row5\" class=\"row_heading level0 row5\" >5</th>\n",
              "                        <td id=\"T_76ce7650_fcaa_11ec_b650_5800e3b90b26row5_col0\" class=\"data row5 col0\" >Code Proximal Policy Optimization (PPO)</td>\n",
              "                        <td id=\"T_76ce7650_fcaa_11ec_b650_5800e3b90b26row5_col1\" class=\"data row5 col1\" >5</td>\n",
              "                        <td id=\"T_76ce7650_fcaa_11ec_b650_5800e3b90b26row5_col2\" class=\"data row5 col2\" >0.500000</td>\n",
              "                        <td id=\"T_76ce7650_fcaa_11ec_b650_5800e3b90b26row5_col3\" class=\"data row5 col3\" >2.500000</td>\n",
              "            </tr>\n",
              "            <tr>\n",
              "                        <th id=\"T_76ce7650_fcaa_11ec_b650_5800e3b90b26level0_row6\" class=\"row_heading level0 row6\" >6</th>\n",
              "                        <td id=\"T_76ce7650_fcaa_11ec_b650_5800e3b90b26row6_col0\" class=\"data row6 col0\" >Code Generalized Advantage Estimation (GAE)</td>\n",
              "                        <td id=\"T_76ce7650_fcaa_11ec_b650_5800e3b90b26row6_col1\" class=\"data row6 col1\" >5</td>\n",
              "                        <td id=\"T_76ce7650_fcaa_11ec_b650_5800e3b90b26row6_col2\" class=\"data row6 col2\" >1.000000</td>\n",
              "                        <td id=\"T_76ce7650_fcaa_11ec_b650_5800e3b90b26row6_col3\" class=\"data row6 col3\" >5.000000</td>\n",
              "            </tr>\n",
              "            <tr>\n",
              "                        <th id=\"T_76ce7650_fcaa_11ec_b650_5800e3b90b26level0_row7\" class=\"row_heading level0 row7\" >7</th>\n",
              "                        <td id=\"T_76ce7650_fcaa_11ec_b650_5800e3b90b26row7_col0\" class=\"data row7 col0\" >Creat Github repo for CHERI project</td>\n",
              "                        <td id=\"T_76ce7650_fcaa_11ec_b650_5800e3b90b26row7_col1\" class=\"data row7 col1\" >5</td>\n",
              "                        <td id=\"T_76ce7650_fcaa_11ec_b650_5800e3b90b26row7_col2\" class=\"data row7 col2\" >0.000000</td>\n",
              "                        <td id=\"T_76ce7650_fcaa_11ec_b650_5800e3b90b26row7_col3\" class=\"data row7 col3\" >0.000000</td>\n",
              "            </tr>\n",
              "            <tr>\n",
              "                        <th id=\"T_76ce7650_fcaa_11ec_b650_5800e3b90b26level0_row8\" class=\"row_heading level0 row8\" >8</th>\n",
              "                        <td id=\"T_76ce7650_fcaa_11ec_b650_5800e3b90b26row8_col0\" class=\"data row8 col0\" >Do CHERI project planning</td>\n",
              "                        <td id=\"T_76ce7650_fcaa_11ec_b650_5800e3b90b26row8_col1\" class=\"data row8 col1\" >5</td>\n",
              "                        <td id=\"T_76ce7650_fcaa_11ec_b650_5800e3b90b26row8_col2\" class=\"data row8 col2\" >1.000000</td>\n",
              "                        <td id=\"T_76ce7650_fcaa_11ec_b650_5800e3b90b26row8_col3\" class=\"data row8 col3\" >5.000000</td>\n",
              "            </tr>\n",
              "            <tr>\n",
              "                        <th id=\"T_76ce7650_fcaa_11ec_b650_5800e3b90b26level0_row9\" class=\"row_heading level0 row9\" >9</th>\n",
              "                        <td id=\"T_76ce7650_fcaa_11ec_b650_5800e3b90b26row9_col0\" class=\"data row9 col0\" >Total </td>\n",
              "                        <td id=\"T_76ce7650_fcaa_11ec_b650_5800e3b90b26row9_col1\" class=\"data row9 col1\" > </td>\n",
              "                        <td id=\"T_76ce7650_fcaa_11ec_b650_5800e3b90b26row9_col2\" class=\"data row9 col2\" > </td>\n",
              "                        <td id=\"T_76ce7650_fcaa_11ec_b650_5800e3b90b26row9_col3\" class=\"data row9 col3\" >72.500000</td>\n",
              "            </tr>\n",
              "    </tbody></table>"
            ],
            "text/plain": [
              "<pandas.io.formats.style.Styler at 0x255e848ba20>"
            ]
          },
          "execution_count": 4,
          "metadata": {},
          "output_type": "execute_result"
        }
      ],
      "source": [
        "#hide_input\n",
        "df.style.background_gradient(cmap='Greens', subset=['Total Points'])"
      ]
    },
    {
      "cell_type": "markdown",
      "metadata": {
        "id": "_T3UegHgWhag"
      },
      "source": [
        "# Goals:\n",
        "\n",
        "This week is non representative. It's main focus is not on advancing my project, but rather getting it started and setting up the right procedures. \n",
        "A key focus of this week is to correctly establish my goals, the mentorship relationship and the \"> 90%-final\" project plan. \n",
        "Besides that, there are a lot of prescheduled events by the CHERI organizers in which I will participate. The focus will be in building stong ties with my peers and ask them the Hamming question: “What are the important problems in your field, and why are(n't) you working on them? "
      ]
    },
    {
      "cell_type": "code",
      "execution_count": 5,
      "metadata": {
        "colab": {
          "base_uri": "https://localhost:8080/"
        },
        "id": "kqjULflLVO9z",
        "outputId": "abb9e2e3-17e9-4ace-fed0-b56c274d4603"
      },
      "outputs": [],
      "source": [
        "#hide\n",
        "df_2 = prepare_df('data/weekly_goals/2022-07-03-goals.csv')"
      ]
    },
    {
      "cell_type": "code",
      "execution_count": 6,
      "metadata": {
        "colab": {
          "base_uri": "https://localhost:8080/",
          "height": 467
        },
        "id": "BhL9vmy0Wo-4",
        "outputId": "be03033c-397a-43eb-8dba-d191820cf6fa"
      },
      "outputs": [
        {
          "data": {
            "text/html": [
              "<div>\n",
              "<style scoped>\n",
              "    .dataframe tbody tr th:only-of-type {\n",
              "        vertical-align: middle;\n",
              "    }\n",
              "\n",
              "    .dataframe tbody tr th {\n",
              "        vertical-align: top;\n",
              "    }\n",
              "\n",
              "    .dataframe thead th {\n",
              "        text-align: right;\n",
              "    }\n",
              "</style>\n",
              "<table border=\"1\" class=\"dataframe\">\n",
              "  <thead>\n",
              "    <tr style=\"text-align: right;\">\n",
              "      <th></th>\n",
              "      <th>Goal</th>\n",
              "      <th>Points</th>\n",
              "    </tr>\n",
              "  </thead>\n",
              "  <tbody>\n",
              "    <tr>\n",
              "      <th>0</th>\n",
              "      <td>CHERI Introductory Week</td>\n",
              "      <td>70</td>\n",
              "    </tr>\n",
              "    <tr>\n",
              "      <th>1</th>\n",
              "      <td>Catch up with Anki</td>\n",
              "      <td>5</td>\n",
              "    </tr>\n",
              "    <tr>\n",
              "      <th>2</th>\n",
              "      <td>Read AGI Safety Fundamentals from first princi...</td>\n",
              "      <td>15</td>\n",
              "    </tr>\n",
              "    <tr>\n",
              "      <th>3</th>\n",
              "      <td>Write down expectations for mentorship</td>\n",
              "      <td>10</td>\n",
              "    </tr>\n",
              "    <tr>\n",
              "      <th>4</th>\n",
              "      <td>Total</td>\n",
              "      <td></td>\n",
              "    </tr>\n",
              "  </tbody>\n",
              "</table>\n",
              "</div>"
            ],
            "text/plain": [
              "                                                Goal Points\n",
              "0                            CHERI Introductory Week     70\n",
              "1                                 Catch up with Anki      5\n",
              "2  Read AGI Safety Fundamentals from first princi...     15\n",
              "3             Write down expectations for mentorship     10\n",
              "4                                             Total        "
            ]
          },
          "execution_count": 6,
          "metadata": {},
          "output_type": "execute_result"
        }
      ],
      "source": [
        "#hide_input\n",
        "df_2[['Goal', 'Points']]"
      ]
    },
    {
      "cell_type": "markdown",
      "metadata": {
        "id": "UuEBoU82WoGR"
      },
      "source": [
        "\n",
        "# Explore in upcoming week(s):\n",
        "\n",
        "- [Explore OpenAI API](https://beta.openai.com/docs/introduction)\n",
        "- [Deep RL Lecture Series (UC Berkeley)](https://www.youtube.com/watch?v=kPa6hU9prg4&list=PL_iWQOsE6TfXxKgI1GgyV1B_Xa0DxE5eH&index=13)\n",
        "- [NYU Pytorch Deep Learning](https://atcold.github.io/pytorch-Deep-Learning/)\n",
        "- [Mastering Pytorch](https://www.packtpub.com/product/mastering-pytorch/9781789614381)\n",
        "\n"
      ]
    }
  ],
  "metadata": {
    "colab": {
      "collapsed_sections": [],
      "name": "02.07 weekly goals.ipynb",
      "provenance": []
    },
    "kernelspec": {
      "display_name": "Python 3.6.12 ('MIT_ML')",
      "language": "python",
      "name": "python3"
    },
    "language_info": {
      "codemirror_mode": {
        "name": "ipython",
        "version": 3
      },
      "file_extension": ".py",
      "mimetype": "text/x-python",
      "name": "python",
      "nbconvert_exporter": "python",
      "pygments_lexer": "ipython3",
      "version": "3.6.12"
    },
    "vscode": {
      "interpreter": {
        "hash": "8201462524ad07e1fbf745595052e2a140950ac55a59577392ee8c394db55d17"
      }
    }
  },
  "nbformat": 4,
  "nbformat_minor": 0
}
